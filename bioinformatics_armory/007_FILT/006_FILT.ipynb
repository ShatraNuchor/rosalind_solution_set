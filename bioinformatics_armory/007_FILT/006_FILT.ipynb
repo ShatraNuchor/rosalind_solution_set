{
 "cells": [
  {
   "cell_type": "markdown",
   "id": "24d2f5ef",
   "metadata": {},
   "source": [
    "# 1. Source"
   ]
  },
  {
   "cell_type": "markdown",
   "id": "6d5895e1",
   "metadata": {},
   "source": [
    "Click on the link to go to the source web page of **Rosalind**: [Read Filtration by Quality](https://rosalind.info/problems/filt/)"
   ]
  },
  {
   "cell_type": "markdown",
   "id": "37582a41",
   "metadata": {},
   "source": [
    " **Problem**\n",
    " \n",
    " ![Read Filtration by Quality](filt_problem.png \"Read Filtration by Quality\")"
   ]
  },
  {
   "cell_type": "markdown",
   "id": "1491d6c1",
   "metadata": {},
   "source": [
    "**Sample Dataset**\n",
    "\n",
    "20 90<br>\n",
    "@Rosalind_0049_1<br>\n",
    "GCAGAGACCAGTAGATGTGTTTGCGGACGGTCGGGCTCCATGTGACACAG<br>\n",
    "+<br>\n",
    "FD@@;C<AI?4BA:=>C<G=:AE=><A??>764A8B797@A:58:527+,<br>\n",
    "@Rosalind_0049_2<br>\n",
    "AATGGGGGGGGGAGACAAAATACGGCTAAGGCAGGGGTCCTTGATGTCAT<br>\n",
    "+<br>\n",
    "1<<65:793967<4:92568-34:.>1;2752)24')*15;1,.3*3+*!<br>\n",
    "@Rosalind_0049_3<br>\n",
    "ACCCCATACGGCGAGCGTCAGCATCTGATATCCTCTTTCAATCCTAGCTA<br>\n",
    "+<br>\n",
    "B:EI>JDB5=>DA?E6B@@CA?C;=;@@C:6D:3=@49;@87;::;;?8+"
   ]
  },
  {
   "cell_type": "markdown",
   "id": "fee90243",
   "metadata": {},
   "source": [
    "**Sample Output**\n",
    "\n",
    "2"
   ]
  },
  {
   "cell_type": "markdown",
   "id": "829af9a2",
   "metadata": {},
   "source": [
    "# 2. Workspace"
   ]
  },
  {
   "cell_type": "markdown",
   "id": "74467893",
   "metadata": {},
   "source": [
    "The similar calculations / workflow was discussed [here](https://github.com/ShatraNuchor/rosalind_solution_set/tree/main/bioinformatics_armory/005_PHRE)."
   ]
  },
  {
   "cell_type": "code",
   "execution_count": 1,
   "id": "6475f998",
   "metadata": {},
   "outputs": [],
   "source": [
    "# read and parse the input file\n",
    "\n",
    "qc_scores = list()\n",
    "\n",
    "with open('filt_test.txt', 'r') as file:\n",
    "    tANDp = file.readline().rstrip().strip().split()\n",
    "    threshold = int(tANDp[0])\n",
    "    percentage = int(tANDp[1])\n",
    "    while True:\n",
    "        if len(file.readline()) == 0:\n",
    "            break\n",
    "        file.readline()\n",
    "        file.readline()\n",
    "        qc_score = file.readline().rstrip()\n",
    "        qc_scores.append(qc_score)"
   ]
  },
  {
   "cell_type": "code",
   "execution_count": 2,
   "id": "38bd2cc5",
   "metadata": {},
   "outputs": [
    {
     "data": {
      "text/plain": [
       "['FD@@;C<AI?4BA:=>C<G=:AE=><A??>764A8B797@A:58:527+,',\n",
       " \"1<<65:793967<4:92568-34:.>1;2752)24')*15;1,.3*3+*!\",\n",
       " 'B:EI>JDB5=>DA?E6B@@CA?C;=;@@C:6D:3=@49;@87;::;;?8+']"
      ]
     },
     "execution_count": 2,
     "metadata": {},
     "output_type": "execute_result"
    }
   ],
   "source": [
    "# display qc scores\n",
    "\n",
    "qc_scores"
   ]
  },
  {
   "cell_type": "code",
   "execution_count": 3,
   "id": "652f9aa4",
   "metadata": {},
   "outputs": [
    {
     "data": {
      "text/plain": [
       "90"
      ]
     },
     "execution_count": 3,
     "metadata": {},
     "output_type": "execute_result"
    }
   ],
   "source": [
    "# display percentage\n",
    "\n",
    "percentage"
   ]
  },
  {
   "cell_type": "code",
   "execution_count": 4,
   "id": "b26dfeae",
   "metadata": {},
   "outputs": [
    {
     "data": {
      "text/plain": [
       "20"
      ]
     },
     "execution_count": 4,
     "metadata": {},
     "output_type": "execute_result"
    }
   ],
   "source": [
    "# display threshold\n",
    "\n",
    "threshold"
   ]
  },
  {
   "cell_type": "code",
   "execution_count": 5,
   "id": "992c5eed",
   "metadata": {},
   "outputs": [],
   "source": [
    "# define a function fopr ascii char --> num conversion\n",
    "\n",
    "def phredToNum(qcChar):\n",
    "    numeric_qc = ord(qcChar) - 33\n",
    "    return numeric_qc"
   ]
  },
  {
   "cell_type": "code",
   "execution_count": 6,
   "id": "a9b2701d",
   "metadata": {},
   "outputs": [
    {
     "data": {
      "text/plain": [
       "37"
      ]
     },
     "execution_count": 6,
     "metadata": {},
     "output_type": "execute_result"
    }
   ],
   "source": [
    "phredToNum('F')"
   ]
  },
  {
   "cell_type": "code",
   "execution_count": 7,
   "id": "3cca5e74",
   "metadata": {},
   "outputs": [],
   "source": [
    "# define another function to calculate what percentage of bases are above threshold in sequence\n",
    "\n",
    "def qcPT(qcSequence, threshold, percentage):\n",
    "    qcNums = [phredToNum(qcChar) for qcChar in qcSequence]\n",
    "    above_threshold = [qcNum for qcNum in qcNums if qcNum >= threshold]\n",
    "    existing_percentage = 100 * len(above_threshold) / len(qcNums)\n",
    "    if existing_percentage >= percentage:\n",
    "        return True\n",
    "    return False"
   ]
  },
  {
   "cell_type": "code",
   "execution_count": 8,
   "id": "87a75f7a",
   "metadata": {},
   "outputs": [
    {
     "data": {
      "text/plain": [
       "True"
      ]
     },
     "execution_count": 8,
     "metadata": {},
     "output_type": "execute_result"
    }
   ],
   "source": [
    "qcPT('B:EI>JDB5=>DA?E6B@@CA?C;=;@@C:6D:3=@49;@87;::;;?8+', 20, 90)"
   ]
  },
  {
   "cell_type": "code",
   "execution_count": 9,
   "id": "1a677243",
   "metadata": {},
   "outputs": [
    {
     "data": {
      "text/plain": [
       "2"
      ]
     },
     "execution_count": 9,
     "metadata": {},
     "output_type": "execute_result"
    }
   ],
   "source": [
    "# check each sequence's qc scores\n",
    "\n",
    "counter = 0\n",
    "\n",
    "for qc_score in qc_scores:\n",
    "    if qcPT(qc_score, 20, 90):\n",
    "        counter += 1\n",
    "        \n",
    "counter"
   ]
  },
  {
   "cell_type": "markdown",
   "id": "8db5735e",
   "metadata": {},
   "source": [
    "# 3. Implementation"
   ]
  },
  {
   "cell_type": "code",
   "execution_count": 10,
   "id": "b8c4826f",
   "metadata": {},
   "outputs": [],
   "source": [
    "def phredToNum(qcChar):\n",
    "    \n",
    "    '''\n",
    "    input\n",
    "        an ascii char\n",
    "    process\n",
    "        converts char to a numerical value using phred -33 scale\n",
    "    output\n",
    "        an integer\n",
    "    '''\n",
    "    \n",
    "    # convert char to number based on ascii table\n",
    "    numeric_qc = ord(qcChar) - 33\n",
    "    \n",
    "    # return\n",
    "    return numeric_qc"
   ]
  },
  {
   "cell_type": "code",
   "execution_count": 11,
   "id": "b1626b3d",
   "metadata": {},
   "outputs": [],
   "source": [
    "def qcPT(qcSequence, threshold, percentage):\n",
    "    \n",
    "    '''\n",
    "    input\n",
    "        qc score series as ascii char (phred-33) of a dna sequence read: qcSequence\n",
    "        threshold and percentage for filtration\n",
    "    process\n",
    "        calculates whether given qc scores's p percentage is above t\n",
    "    output\n",
    "        if given qc scores's p percentage is above t returns True\n",
    "        otherwise returns False\n",
    "    '''\n",
    "    \n",
    "    # create a numerical qc score list\n",
    "    qcNums = [phredToNum(qcChar) for qcChar in qcSequence]\n",
    "    \n",
    "    # extract qc scores which are above threshold\n",
    "    above_threshold = [qcNum for qcNum in qcNums if qcNum >= threshold]\n",
    "    \n",
    "    # calculate the percentage of scores which are above t\n",
    "    existing_percentage = 100 * len(above_threshold) / len(qcNums)\n",
    "    \n",
    "    # check if existing p is >= input p and return\n",
    "    if existing_percentage >= percentage:\n",
    "        return True\n",
    "    return False"
   ]
  },
  {
   "cell_type": "code",
   "execution_count": 12,
   "id": "cdbc0a65",
   "metadata": {},
   "outputs": [],
   "source": [
    "def filtFileParser(filename):\n",
    "    \n",
    "    '''\n",
    "    input\n",
    "        a file containing a threshold and fastq records\n",
    "    process\n",
    "        extracts t, p and qc_scores\n",
    "    output\n",
    "        returns t, p and qc_scores\n",
    "    '''\n",
    "    \n",
    "    #initiate an empty list to keep qc score sequences, list of 4th lines of each record\n",
    "    qc_scores = list()\n",
    "\n",
    "    # open and parse file\n",
    "    with open(filename, 'r') as file:\n",
    "        \n",
    "        # take threshold and percentage\n",
    "        tANDp = file.readline().rstrip().split()\n",
    "        threshold = int(tANDp[0])\n",
    "        percentage = int(tANDp[1])\n",
    "        \n",
    "        # loop over for rest of file\n",
    "        while True:\n",
    "            if len(file.readline()) == 0:\n",
    "                break\n",
    "            file.readline()\n",
    "            file.readline()\n",
    "            qc_score = file.readline().rstrip()\n",
    "            qc_scores.append(qc_score)\n",
    "    \n",
    "    # return\n",
    "    return threshold, percentage, qc_scores"
   ]
  },
  {
   "cell_type": "code",
   "execution_count": 13,
   "id": "a71ae44a",
   "metadata": {},
   "outputs": [],
   "source": [
    "def filt(filename):\n",
    "    \n",
    "    '''\n",
    "    input\n",
    "        a file containing a threshold, a percentage and fastq records\n",
    "    process\n",
    "        parses file and extracts an integers as threshold and percentages and a list of qc score sequences\n",
    "        finds how many of reads have qc scores above threshold with at least with input percentage\n",
    "    output\n",
    "        prints number reads with given condition\n",
    "        writes asnwer in a file\n",
    "    '''\n",
    "    \n",
    "    # get threshold and qc score list\n",
    "    threshold, percentage, qcs = filtFileParser(filename)\n",
    "    \n",
    "    # loop over list:qc and count \n",
    "    counter = 0\n",
    "    for qc in qcs:\n",
    "        if qcPT(qc, threshold, percentage):\n",
    "            counter += 1\n",
    "            \n",
    "    # print answer to console\n",
    "    print('\\n\\x1B[1mANSWER\\x1B[0m\\n______\\n')\n",
    "    print(f'{counter}')\n",
    "    \n",
    "    # open file and write answer\n",
    "    file = open(f'{filename.split(\".\")[0]}_answer.txt', 'w')\n",
    "    file.write(f'{counter}')\n",
    "    file.close()\n",
    "    print('\\n\\n#! The answer has been written into the file:',\n",
    "          f'\\x1B[1m./{filename.split(\".\")[0]}_answer.txt\\x1B[0m\\n')"
   ]
  },
  {
   "cell_type": "markdown",
   "id": "c65ae6fa",
   "metadata": {},
   "source": [
    "# 4. Execution"
   ]
  },
  {
   "cell_type": "code",
   "execution_count": 14,
   "id": "2350cdd5",
   "metadata": {
    "scrolled": true
   },
   "outputs": [
    {
     "name": "stdout",
     "output_type": "stream",
     "text": [
      "\n",
      "\u001b[1mANSWER\u001b[0m\n",
      "______\n",
      "\n",
      "2\n",
      "\n",
      "\n",
      "#! The answer has been written into the file: \u001b[1m./filt_test_answer.txt\u001b[0m\n",
      "\n"
     ]
    }
   ],
   "source": [
    "filt('filt_test.txt')"
   ]
  },
  {
   "cell_type": "code",
   "execution_count": 15,
   "id": "0ce024cc",
   "metadata": {},
   "outputs": [
    {
     "name": "stdout",
     "output_type": "stream",
     "text": [
      "\n",
      "\u001b[1mANSWER\u001b[0m\n",
      "______\n",
      "\n",
      "24\n",
      "\n",
      "\n",
      "#! The answer has been written into the file: \u001b[1m./rosalind_filt_1_dataset_answer.txt\u001b[0m\n",
      "\n"
     ]
    }
   ],
   "source": [
    "filt('rosalind_filt_1_dataset.txt')"
   ]
  },
  {
   "cell_type": "code",
   "execution_count": 16,
   "id": "83e5520c",
   "metadata": {},
   "outputs": [
    {
     "name": "stdout",
     "output_type": "stream",
     "text": [
      "\n",
      "\u001b[1mANSWER\u001b[0m\n",
      "______\n",
      "\n",
      "0\n",
      "\n",
      "\n",
      "#! The answer has been written into the file: \u001b[1m./rosalind_filt_2_dataset_answer.txt\u001b[0m\n",
      "\n"
     ]
    }
   ],
   "source": [
    "filt('rosalind_filt_2_dataset.txt')"
   ]
  },
  {
   "cell_type": "code",
   "execution_count": 17,
   "id": "a7c0d7a0",
   "metadata": {},
   "outputs": [
    {
     "name": "stdout",
     "output_type": "stream",
     "text": [
      "\n",
      "\u001b[1mANSWER\u001b[0m\n",
      "______\n",
      "\n",
      "51\n",
      "\n",
      "\n",
      "#! The answer has been written into the file: \u001b[1m./rosalind_filt_3_dataset_answer.txt\u001b[0m\n",
      "\n"
     ]
    }
   ],
   "source": [
    "filt('rosalind_filt_3_dataset.txt')"
   ]
  },
  {
   "cell_type": "code",
   "execution_count": 18,
   "id": "05ee3c8b",
   "metadata": {},
   "outputs": [
    {
     "name": "stdout",
     "output_type": "stream",
     "text": [
      "\n",
      "\u001b[1mANSWER\u001b[0m\n",
      "______\n",
      "\n",
      "54\n",
      "\n",
      "\n",
      "#! The answer has been written into the file: \u001b[1m./rosalind_filt_4_dataset_answer.txt\u001b[0m\n",
      "\n"
     ]
    }
   ],
   "source": [
    "filt('rosalind_filt_4_dataset.txt')\n",
    "# 54"
   ]
  },
  {
   "cell_type": "code",
   "execution_count": 19,
   "id": "2392c455",
   "metadata": {},
   "outputs": [
    {
     "name": "stdout",
     "output_type": "stream",
     "text": [
      "\n",
      "\u001b[1mANSWER\u001b[0m\n",
      "______\n",
      "\n",
      "59\n",
      "\n",
      "\n",
      "#! The answer has been written into the file: \u001b[1m./rosalind_filt_answer.txt\u001b[0m\n",
      "\n"
     ]
    }
   ],
   "source": [
    "filt('rosalind_filt.txt')"
   ]
  },
  {
   "cell_type": "markdown",
   "id": "8db6a051",
   "metadata": {},
   "source": [
    "<p style='text-align: right;'>\n",
    "    <!--<b><font size = '5'>Contact</font></b><br>-->\n",
    "    <b>Orcun Tasar</b><br>\n",
    "    <i>Bioinformatician / Data Scientist</i><br>\n",
    "    orcuntasar |at@| ogr.iu.edu.tr<br>\n",
    "    tasar.orcun |at@| gmail.com<br>\n",
    "    <a href = 'https://www.linkedin.com/in/orçun-taşar-7b5992a1/'>Linkedin</a> | <a href = 'https://www.instagram.com/shatranuchor/'>Instagram</a>\n",
    "</p>"
   ]
  }
 ],
 "metadata": {
  "kernelspec": {
   "display_name": "thesis",
   "language": "python",
   "name": "thesis"
  },
  "language_info": {
   "codemirror_mode": {
    "name": "ipython",
    "version": 3
   },
   "file_extension": ".py",
   "mimetype": "text/x-python",
   "name": "python",
   "nbconvert_exporter": "python",
   "pygments_lexer": "ipython3",
   "version": "3.8.15"
  }
 },
 "nbformat": 4,
 "nbformat_minor": 5
}
