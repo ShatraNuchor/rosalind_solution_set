{
 "cells": [
  {
   "cell_type": "markdown",
   "id": "1e04938c",
   "metadata": {},
   "source": [
    "# 1. Note"
   ]
  },
  {
   "cell_type": "markdown",
   "id": "6201296b",
   "metadata": {},
   "source": [
    "Solution for the problem can be found here: [001_DNA](https://github.com/ShatraNuchor/rosalind_solution_set/tree/main/bioinformatics_stronghold/001_DNA)"
   ]
  }
 ],
 "metadata": {
  "kernelspec": {
   "display_name": "thesis",
   "language": "python",
   "name": "thesis"
  },
  "language_info": {
   "codemirror_mode": {
    "name": "ipython",
    "version": 3
   },
   "file_extension": ".py",
   "mimetype": "text/x-python",
   "name": "python",
   "nbconvert_exporter": "python",
   "pygments_lexer": "ipython3",
   "version": "3.8.15"
  }
 },
 "nbformat": 4,
 "nbformat_minor": 5
}
