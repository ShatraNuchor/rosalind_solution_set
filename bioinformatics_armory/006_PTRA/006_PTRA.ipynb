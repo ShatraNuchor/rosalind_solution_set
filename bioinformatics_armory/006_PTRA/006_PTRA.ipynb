{
 "cells": [
  {
   "cell_type": "markdown",
   "id": "24d2f5ef",
   "metadata": {},
   "source": [
    "# 1. Source"
   ]
  },
  {
   "cell_type": "markdown",
   "id": "6d5895e1",
   "metadata": {},
   "source": [
    "Click on the link to go to the source web page of **Rosalind**: [Protein Translation](https://rosalind.info/problems/ptra/)"
   ]
  },
  {
   "cell_type": "markdown",
   "id": "37582a41",
   "metadata": {},
   "source": [
    " **Problem**\n",
    " \n",
    " ![Protein Translation](ptra_problem.png \"Protein Translation\")"
   ]
  },
  {
   "cell_type": "markdown",
   "id": "1491d6c1",
   "metadata": {},
   "source": [
    "**Sample Dataset**\n",
    "\n",
    "ATGGCCATGGCGCCCAGAACTGAGATCAATAGTACCCGTATTAACGGGTGA<br>\n",
    "MAMAPRTEINSTRING"
   ]
  },
  {
   "cell_type": "markdown",
   "id": "fee90243",
   "metadata": {},
   "source": [
    "**Sample Output**\n",
    "\n",
    "1"
   ]
  },
  {
   "cell_type": "markdown",
   "id": "829af9a2",
   "metadata": {},
   "source": [
    "# 2. Workspace"
   ]
  },
  {
   "cell_type": "code",
   "execution_count": 1,
   "id": "d3cc3852",
   "metadata": {},
   "outputs": [
    {
     "name": "stdout",
     "output_type": "stream",
     "text": [
      "ATGGCCATGGCGCCCAGAACTGAGATCAATAGTACCCGTATTAACGGGTGA\n",
      "MAMAPRTEINSTRING\n"
     ]
    }
   ],
   "source": [
    "# write and extract info\n",
    "\n",
    "with open('ptra_test.txt', 'r') as file:\n",
    "    dnaSeq = file.readline().rstrip().upper()\n",
    "    proSeq = file.readline().rstrip().upper()\n",
    "    \n",
    "# print\n",
    "\n",
    "print(dnaSeq)\n",
    "print(proSeq)"
   ]
  },
  {
   "cell_type": "code",
   "execution_count": 2,
   "id": "5e08ebc7",
   "metadata": {},
   "outputs": [
    {
     "data": {
      "text/plain": [
       "Seq('ATGGCCATGGCGCCCAGAACTGAGATCAATAGTACCCGTATTAACGGGTGA')"
      ]
     },
     "execution_count": 2,
     "metadata": {},
     "output_type": "execute_result"
    }
   ],
   "source": [
    "# import biopython for easy translation\n",
    "\n",
    "from Bio.Seq import Seq, CodonTable\n",
    "\n",
    "dnaSeq = Seq(dnaSeq)\n",
    "\n",
    "dnaSeq"
   ]
  },
  {
   "cell_type": "code",
   "execution_count": 3,
   "id": "a40142b0",
   "metadata": {},
   "outputs": [
    {
     "data": {
      "text/plain": [
       "Seq('MAMAPRTEINSTRING')"
      ]
     },
     "execution_count": 3,
     "metadata": {},
     "output_type": "execute_result"
    }
   ],
   "source": [
    "# translation based on table 1\n",
    "\n",
    "dnaSeq.translate(table = 1, to_stop = True)"
   ]
  },
  {
   "cell_type": "code",
   "execution_count": 4,
   "id": "483cf09f",
   "metadata": {},
   "outputs": [
    {
     "data": {
      "text/plain": [
       "Seq('MAMAPRTEINSTRING')"
      ]
     },
     "execution_count": 4,
     "metadata": {},
     "output_type": "execute_result"
    }
   ],
   "source": [
    "# table 6\n",
    "\n",
    "dnaSeq.translate(table = 6, to_stop = True)"
   ]
  },
  {
   "cell_type": "code",
   "execution_count": 5,
   "id": "cba3730d",
   "metadata": {},
   "outputs": [
    {
     "data": {
      "text/plain": [
       "{1: NCBICodonTable(id=1, names=['Standard', 'SGC0'], ...),\n",
       " 2: NCBICodonTable(id=2, names=['Vertebrate Mitochondrial', 'SGC1'], ...),\n",
       " 3: NCBICodonTable(id=3, names=['Yeast Mitochondrial', 'SGC2'], ...),\n",
       " 4: NCBICodonTable(id=4, names=['Mold Mitochondrial', 'Protozoan Mitochondrial', 'Coelenterate Mitochondrial', 'Mycoplasma', 'Spiroplasma', 'SGC3'], ...),\n",
       " 5: NCBICodonTable(id=5, names=['Invertebrate Mitochondrial', 'SGC4'], ...),\n",
       " 6: NCBICodonTable(id=6, names=['Ciliate Nuclear', 'Dasycladacean Nuclear', 'Hexamita Nuclear', 'SGC5'], ...),\n",
       " 9: NCBICodonTable(id=9, names=['Echinoderm Mitochondrial', 'Flatworm Mitochondrial', 'SGC8'], ...),\n",
       " 10: NCBICodonTable(id=10, names=['Euplotid Nuclear', 'SGC9'], ...),\n",
       " 11: NCBICodonTable(id=11, names=['Bacterial', 'Archaeal', 'Plant Plastid', None], ...),\n",
       " 12: NCBICodonTable(id=12, names=['Alternative Yeast Nuclear', None], ...),\n",
       " 13: NCBICodonTable(id=13, names=['Ascidian Mitochondrial', None], ...),\n",
       " 14: NCBICodonTable(id=14, names=['Alternative Flatworm Mitochondrial', None], ...),\n",
       " 15: NCBICodonTable(id=15, names=['Blepharisma Macronuclear', None], ...),\n",
       " 16: NCBICodonTable(id=16, names=['Chlorophycean Mitochondrial', None], ...),\n",
       " 21: NCBICodonTable(id=21, names=['Trematode Mitochondrial', None], ...),\n",
       " 22: NCBICodonTable(id=22, names=['Scenedesmus obliquus Mitochondrial', None], ...),\n",
       " 23: NCBICodonTable(id=23, names=['Thraustochytrium Mitochondrial', None], ...),\n",
       " 24: NCBICodonTable(id=24, names=['Pterobranchia Mitochondrial', None], ...),\n",
       " 25: NCBICodonTable(id=25, names=['Candidate Division SR1', 'Gracilibacteria', None], ...),\n",
       " 26: NCBICodonTable(id=26, names=['Pachysolen tannophilus Nuclear', None], ...),\n",
       " 27: NCBICodonTable(id=27, names=['Karyorelict Nuclear', None], ...),\n",
       " 28: NCBICodonTable(id=28, names=['Condylostoma Nuclear', None], ...),\n",
       " 29: NCBICodonTable(id=29, names=['Mesodinium Nuclear', None], ...),\n",
       " 30: NCBICodonTable(id=30, names=['Peritrich Nuclear', None], ...),\n",
       " 31: NCBICodonTable(id=31, names=['Blastocrithidia Nuclear', None], ...),\n",
       " 32: NCBICodonTable(id=32, names=['Balanophoraceae Plastid', None], ...),\n",
       " 33: NCBICodonTable(id=33, names=['Cephalodiscidae Mitochondrial', None], ...)}"
      ]
     },
     "execution_count": 5,
     "metadata": {},
     "output_type": "execute_result"
    }
   ],
   "source": [
    "# we can get codon tables directly from biopython\n",
    "\n",
    "tables = CodonTable.generic_by_id\n",
    "\n",
    "tables"
   ]
  },
  {
   "cell_type": "code",
   "execution_count": 6,
   "id": "bb3369ce",
   "metadata": {},
   "outputs": [],
   "source": [
    "# just the keys\n",
    "\n",
    "tables = list(CodonTable.ambiguous_generic_by_id.keys())\n",
    "\n",
    "# however these table options can not be used with to_stop argument \n",
    "\n",
    "tables.remove(27)\n",
    "tables.remove(28)\n",
    "tables.remove(31)"
   ]
  },
  {
   "cell_type": "code",
   "execution_count": 7,
   "id": "4e3c55db",
   "metadata": {},
   "outputs": [
    {
     "name": "stdout",
     "output_type": "stream",
     "text": [
      "1 6 11 12 15 16 22 23 26 29 30 32\n"
     ]
    }
   ],
   "source": [
    "# we can try each of them\n",
    "\n",
    "correct_tables = list()\n",
    "\n",
    "# translations for each table\n",
    "\n",
    "for table in tables:\n",
    "    if dnaSeq.translate(table = table, to_stop = True) == proSeq:\n",
    "        correct_tables.append(table)\n",
    "        \n",
    "# display\n",
    "\n",
    "print(*correct_tables, sep = ' ')"
   ]
  },
  {
   "cell_type": "markdown",
   "id": "45dc3e1a",
   "metadata": {},
   "source": [
    "# 3. Implementation"
   ]
  },
  {
   "cell_type": "code",
   "execution_count": 8,
   "id": "151559fe",
   "metadata": {},
   "outputs": [],
   "source": [
    "def ptra(filename, return_all = False):\n",
    "    \n",
    "    '''\n",
    "    input\n",
    "        a file containing\n",
    "            a dna sequence: dnaSeq\n",
    "            a protein sequence: proSeq\n",
    "        a boolean flag whether all table variations should return or just one of them\n",
    "    process\n",
    "        performs a translation based on each table variants\n",
    "        compares those translation with proSeq\n",
    "    output\n",
    "        prints correct translation table/s to console\n",
    "        writes same answer in a file\n",
    "    '''\n",
    "    \n",
    "    from Bio.Seq import Seq, CodonTable\n",
    "    import random; random.seed(59)\n",
    "    \n",
    "    # read input file and extract dnaSeq & proSeq\n",
    "    with open(filename, 'r') as file:\n",
    "        dnaSeq = file.readline().rstrip().upper()\n",
    "        proSeq = file.readline().rstrip().upper()\n",
    "        \n",
    "    # create codon tables list\n",
    "    tables = list(CodonTable.ambiguous_generic_by_id.keys())\n",
    "    for i in [27, 28, 31]:\n",
    "        tables.remove(i)\n",
    "        \n",
    "    # convert dnaSeq into a Seq() object\n",
    "    dnaSeq = Seq(dnaSeq)\n",
    "    \n",
    "    # try each translations for each table and compare with proSeq\n",
    "    correct_tables = list()\n",
    "    for table in tables:\n",
    "        if dnaSeq.translate(to_stop = True, table = table) == proSeq:\n",
    "            correct_tables.append(str(table))\n",
    "            \n",
    "    # final representation\n",
    "    if return_all:\n",
    "        result = ' '.join(correct_tables)\n",
    "    else:\n",
    "        result = random.choice(correct_tables)\n",
    "        \n",
    "    # print answer to console\n",
    "    print('\\n\\x1B[1mANSWER\\x1B[0m\\n______\\n')\n",
    "    print(f'{result}')\n",
    "    \n",
    "    # open file and write answer\n",
    "    file = open(f'{filename.split(\".\")[0]}_answer.txt', 'w')\n",
    "    file.write(f'{result}')\n",
    "    file.close()\n",
    "    print('\\n\\n#! The answer has been written into the file:',\n",
    "          f'\\x1B[1m./{filename.split(\".\")[0]}_answer.txt\\x1B[0m\\n')"
   ]
  },
  {
   "cell_type": "code",
   "execution_count": 9,
   "id": "2350cdd5",
   "metadata": {
    "scrolled": true
   },
   "outputs": [
    {
     "name": "stdout",
     "output_type": "stream",
     "text": [
      "\n",
      "\u001b[1mANSWER\u001b[0m\n",
      "______\n",
      "\n",
      "1 6 11 12 15 16 22 23 26 29 30 32\n",
      "\n",
      "\n",
      "#! The answer has been written into the file: \u001b[1m./ptra_test_answer.txt\u001b[0m\n",
      "\n"
     ]
    }
   ],
   "source": [
    "ptra('ptra_test.txt', True)"
   ]
  },
  {
   "cell_type": "code",
   "execution_count": 10,
   "id": "b7cd9e3c",
   "metadata": {},
   "outputs": [
    {
     "name": "stdout",
     "output_type": "stream",
     "text": [
      "\n",
      "\u001b[1mANSWER\u001b[0m\n",
      "______\n",
      "\n",
      "12\n",
      "\n",
      "\n",
      "#! The answer has been written into the file: \u001b[1m./ptra_test_answer.txt\u001b[0m\n",
      "\n"
     ]
    }
   ],
   "source": [
    "ptra('ptra_test.txt')"
   ]
  },
  {
   "cell_type": "code",
   "execution_count": 11,
   "id": "2392c455",
   "metadata": {},
   "outputs": [
    {
     "name": "stdout",
     "output_type": "stream",
     "text": [
      "\n",
      "\u001b[1mANSWER\u001b[0m\n",
      "______\n",
      "\n",
      "6 15\n",
      "\n",
      "\n",
      "#! The answer has been written into the file: \u001b[1m./rosalind_ptra_2_dataset_answer.txt\u001b[0m\n",
      "\n"
     ]
    }
   ],
   "source": [
    "ptra('rosalind_ptra_2_dataset.txt', True)"
   ]
  },
  {
   "cell_type": "code",
   "execution_count": 12,
   "id": "79bdd507",
   "metadata": {},
   "outputs": [
    {
     "name": "stdout",
     "output_type": "stream",
     "text": [
      "\n",
      "\u001b[1mANSWER\u001b[0m\n",
      "______\n",
      "\n",
      "6\n",
      "\n",
      "\n",
      "#! The answer has been written into the file: \u001b[1m./rosalind_ptra_2_dataset_answer.txt\u001b[0m\n",
      "\n"
     ]
    }
   ],
   "source": [
    "ptra('rosalind_ptra_2_dataset.txt', False)"
   ]
  },
  {
   "cell_type": "code",
   "execution_count": 13,
   "id": "0728bc3a",
   "metadata": {
    "scrolled": true
   },
   "outputs": [
    {
     "name": "stdout",
     "output_type": "stream",
     "text": [
      "\n",
      "\u001b[1mANSWER\u001b[0m\n",
      "______\n",
      "\n",
      "2 5 13\n",
      "\n",
      "\n",
      "#! The answer has been written into the file: \u001b[1m./rosalind_ptra_answer.txt\u001b[0m\n",
      "\n"
     ]
    }
   ],
   "source": [
    "ptra('rosalind_ptra.txt', True)"
   ]
  },
  {
   "cell_type": "code",
   "execution_count": 14,
   "id": "c1ac35fe",
   "metadata": {},
   "outputs": [
    {
     "name": "stdout",
     "output_type": "stream",
     "text": [
      "\n",
      "\u001b[1mANSWER\u001b[0m\n",
      "______\n",
      "\n",
      "2\n",
      "\n",
      "\n",
      "#! The answer has been written into the file: \u001b[1m./rosalind_ptra_answer.txt\u001b[0m\n",
      "\n"
     ]
    }
   ],
   "source": [
    "ptra('rosalind_ptra.txt')"
   ]
  },
  {
   "cell_type": "markdown",
   "id": "8db6a051",
   "metadata": {},
   "source": [
    "<p style='text-align: right;'>\n",
    "    <!--<b><font size = '5'>Contact</font></b><br>-->\n",
    "    <b>Orcun Tasar</b><br>\n",
    "    <i>Bioinformatician / Data Scientist</i><br>\n",
    "    orcuntasar |at@| ogr.iu.edu.tr<br>\n",
    "    tasar.orcun |at@| gmail.com<br>\n",
    "    <a href = 'https://www.linkedin.com/in/orçun-taşar-7b5992a1/'>Linkedin</a> | <a href = 'https://www.instagram.com/shatranuchor/'>Instagram</a>\n",
    "</p>"
   ]
  }
 ],
 "metadata": {
  "kernelspec": {
   "display_name": "thesis",
   "language": "python",
   "name": "thesis"
  },
  "language_info": {
   "codemirror_mode": {
    "name": "ipython",
    "version": 3
   },
   "file_extension": ".py",
   "mimetype": "text/x-python",
   "name": "python",
   "nbconvert_exporter": "python",
   "pygments_lexer": "ipython3",
   "version": "3.8.15"
  }
 },
 "nbformat": 4,
 "nbformat_minor": 5
}
