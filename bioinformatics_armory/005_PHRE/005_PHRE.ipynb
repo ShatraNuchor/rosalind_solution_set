{
 "cells": [
  {
   "cell_type": "markdown",
   "id": "24d2f5ef",
   "metadata": {},
   "source": [
    "# 1. Source"
   ]
  },
  {
   "cell_type": "markdown",
   "id": "6d5895e1",
   "metadata": {},
   "source": [
    "Click on the link to go to the source web page of **Rosalind**: [Read Quality Distribution](https://rosalind.info/problems/phre/)"
   ]
  },
  {
   "cell_type": "markdown",
   "id": "37582a41",
   "metadata": {},
   "source": [
    " **Problem**\n",
    " \n",
    " ![FASTQ Format Introduction](phre_problem.png \"FASTQ Format Introduction\")"
   ]
  },
  {
   "cell_type": "markdown",
   "id": "1491d6c1",
   "metadata": {},
   "source": [
    "**Sample Dataset**\n",
    "\n",
    "28<br>\n",
    "@Rosalind_0041<br>\n",
    "GGCCGGTCTATTTACGTTCTCACCCGACGTGACGTACGGTCC<br>\n",
    "+<br>\n",
    "6.3536354;.151<211/0?::6/-2051)-*\"40/.,+%)<br>\n",
    "@Rosalind_0041<br>\n",
    "TCGTATGCGTAGCACTTGGTACAGGAAGTGAACATCCAGGAT<br>\n",
    "+<br>\n",
    "AH@FGGGJ<GB<<9:GD=D@GG9=?A@DC=;:?>839/4856<br>\n",
    "@Rosalind_0041<br>\n",
    "ATTCGGTAATTGGCGTGAATCTGTTCTGACTGATAGAGACAA<br>\n",
    "+<br>\n",
    "@DJEJEA?JHJ@8?F?IA3=;8@C95=;=?;>D/:;74792."
   ]
  },
  {
   "cell_type": "markdown",
   "id": "fee90243",
   "metadata": {},
   "source": [
    "**Sample Output**\n",
    "\n",
    "1"
   ]
  },
  {
   "cell_type": "markdown",
   "id": "829af9a2",
   "metadata": {},
   "source": [
    "# 2. Workspace"
   ]
  },
  {
   "cell_type": "code",
   "execution_count": 1,
   "id": "d3cc3852",
   "metadata": {},
   "outputs": [
    {
     "name": "stdout",
     "output_type": "stream",
     "text": [
      "Threshold: 28 \n",
      "\n",
      "QC Scores:\n",
      "6.3536354;.151<211/0?::6/-2051)-*\"40/.,+%)\n",
      "AH@FGGGJ<GB<<9:GD=D@GG9=?A@DC=;:?>839/4856\n",
      "@DJEJEA?JHJ@8?F?IA3=;8@C95=;=?;>D/:;74792.\n"
     ]
    }
   ],
   "source": [
    "# write and extract qc quality scores\n",
    "\n",
    "qc_scores = list()\n",
    "\n",
    "with open('phre_test.txt', 'r') as file:\n",
    "    threshold = file.readline().rstrip()\n",
    "    while True:\n",
    "        if len(file.readline()) == 0:\n",
    "            break\n",
    "        file.readline()\n",
    "        file.readline()\n",
    "        qc_score = file.readline().rstrip()\n",
    "        qc_scores.append(qc_score)\n",
    "        \n",
    "# print\n",
    "\n",
    "print('Threshold:', threshold, '\\n')\n",
    "print('QC Scores:', *qc_scores, sep = '\\n')"
   ]
  },
  {
   "cell_type": "code",
   "execution_count": 2,
   "id": "96ad8518",
   "metadata": {},
   "outputs": [
    {
     "data": {
      "text/plain": [
       "'6.3536354;.151<211/0?::6/-2051)-*\"40/.,+%)'"
      ]
     },
     "execution_count": 2,
     "metadata": {},
     "output_type": "execute_result"
    }
   ],
   "source": [
    "qc_scores[0]"
   ]
  },
  {
   "cell_type": "code",
   "execution_count": 3,
   "id": "d4175224",
   "metadata": {},
   "outputs": [],
   "source": [
    "# need to convert each character in qc scores into a numeric value\n",
    "# fastqc - phred33 scala\n",
    "\n",
    "# write a function for that conversion\n",
    "\n",
    "def phredToNum(qcChar):\n",
    "    numeric_qc = ord(qcChar) - 33\n",
    "    return numeric_qc"
   ]
  },
  {
   "cell_type": "code",
   "execution_count": 4,
   "id": "952468c9",
   "metadata": {},
   "outputs": [
    {
     "data": {
      "text/plain": [
       "32"
      ]
     },
     "execution_count": 4,
     "metadata": {},
     "output_type": "execute_result"
    }
   ],
   "source": [
    "# test the func\n",
    "\n",
    "phredToNum('A')"
   ]
  },
  {
   "cell_type": "code",
   "execution_count": 5,
   "id": "fa1a37dd",
   "metadata": {},
   "outputs": [],
   "source": [
    "# another function for calculation of average qc of a sequence\n",
    "\n",
    "def meanQC(qcSequence):\n",
    "    qcNums = [phredToNum(qcChar) for qcChar in qcSequence]\n",
    "    return sum(qcNums) / len(qcNums)"
   ]
  },
  {
   "cell_type": "code",
   "execution_count": 6,
   "id": "1a21f271",
   "metadata": {},
   "outputs": [
    {
     "data": {
      "text/plain": [
       "16.261904761904763"
      ]
     },
     "execution_count": 6,
     "metadata": {},
     "output_type": "execute_result"
    }
   ],
   "source": [
    "# test the func\n",
    "\n",
    "meanQC('6.3536354;.151<211/0?::6/-2051)-*\"40/.,+%)') # the first seq in the input file"
   ]
  },
  {
   "cell_type": "code",
   "execution_count": 7,
   "id": "20ae95d7",
   "metadata": {},
   "outputs": [
    {
     "data": {
      "text/plain": [
       "29.80952380952381"
      ]
     },
     "execution_count": 7,
     "metadata": {},
     "output_type": "execute_result"
    }
   ],
   "source": [
    "meanQC('AH@FGGGJ<GB<<9:GD=D@GG9=?A@DC=;:?>839/4856') # the first seq in the input file"
   ]
  },
  {
   "cell_type": "code",
   "execution_count": 8,
   "id": "0f17611a",
   "metadata": {},
   "outputs": [
    {
     "data": {
      "text/plain": [
       "28.904761904761905"
      ]
     },
     "execution_count": 8,
     "metadata": {},
     "output_type": "execute_result"
    }
   ],
   "source": [
    "meanQC('@DJEJEA?JHJ@8?F?IA3=;8@C95=;=?;>D/:;74792.') # the first seq in the input file"
   ]
  },
  {
   "cell_type": "code",
   "execution_count": 9,
   "id": "1e36d7b4",
   "metadata": {},
   "outputs": [
    {
     "name": "stdout",
     "output_type": "stream",
     "text": [
      "1\n"
     ]
    }
   ],
   "source": [
    "# so loop over qc_scores to see how many of them has qc avg below threshold\n",
    "\n",
    "counter = 0\n",
    "threshold = 28\n",
    "\n",
    "for qcSeq in qc_scores:\n",
    "    if meanQC(qcSeq) < threshold:\n",
    "        counter += 1\n",
    "        \n",
    "# print counter\n",
    "\n",
    "print(counter)"
   ]
  },
  {
   "cell_type": "code",
   "execution_count": 10,
   "id": "d58eb2e0",
   "metadata": {},
   "outputs": [
    {
     "name": "stdout",
     "output_type": "stream",
     "text": [
      "28\n",
      "['6.3536354;.151<211/0?::6/-2051)-*\"40/.,+%)', 'AH@FGGGJ<GB<<9:GD=D@GG9=?A@DC=;:?>839/4856', '@DJEJEA?JHJ@8?F?IA3=;8@C95=;=?;>D/:;74792.']\n"
     ]
    }
   ],
   "source": [
    "# we can use biopython's fastqgeneraliterator module to parse fastq and extract qc seqs\n",
    "\n",
    "from Bio.SeqIO.QualityIO import FastqGeneralIterator\n",
    "\n",
    "qc_scores = list()\n",
    "\n",
    "file = open('phre_test.txt', 'r')\n",
    "\n",
    "threshold = file.readline().rstrip()\n",
    "for triplet in FastqGeneralIterator(file):\n",
    "    identifier, sequence, quality = triplet\n",
    "    qc_scores.append(quality)\n",
    "    \n",
    "file.close()\n",
    "\n",
    "# print\n",
    "\n",
    "print(threshold)\n",
    "print(qc_scores)"
   ]
  },
  {
   "cell_type": "code",
   "execution_count": 11,
   "id": "6bb3831c",
   "metadata": {},
   "outputs": [
    {
     "name": "stdout",
     "output_type": "stream",
     "text": [
      "Threshold: 28\n",
      "Counter / Answer: 1\n"
     ]
    }
   ],
   "source": [
    "# and we can use biopython's seqio module for both parse and qc calculation\n",
    "\n",
    "from Bio import SeqIO\n",
    "\n",
    "# first read all the lines of the input\n",
    "\n",
    "with open('phre_test.txt', 'r') as file:\n",
    "    lines = file.readlines()\n",
    "\n",
    "# write starting from the second line in a new file - a pure fastq file (first line was just a number)\n",
    "\n",
    "with open('phre_test_2.fastq', 'w') as file:\n",
    "    file.writelines(lines[1:])\n",
    "\n",
    "# assign the first number the variable:threshold and print it\n",
    "\n",
    "threshold = int(lines[0].strip()) # store the first line as threshold\n",
    "print('Threshold:', threshold)\n",
    "del lines # delete all the lines - no need them anymopre since we wrote them to the second file\n",
    "\n",
    "##\n",
    "\n",
    "counter = 0\n",
    "\n",
    "# loop over file lines and parse that fastq and extract qc scores\n",
    "\n",
    "for record in SeqIO.parse('phre_test_2.txt', 'fastq'):\n",
    "    qc_scores = record.letter_annotations['phred_quality']\n",
    "    #print(qc_scores)\n",
    "    if sum(qc_scores) / len(qc_scores) < int(threshold):\n",
    "        counter += 1\n",
    "        \n",
    "# print counter\n",
    "\n",
    "print('Counter / Answer:', counter)"
   ]
  },
  {
   "cell_type": "markdown",
   "id": "48b1945b",
   "metadata": {},
   "source": [
    "### --A Simple Speed Test"
   ]
  },
  {
   "cell_type": "code",
   "execution_count": 12,
   "id": "50fbc441",
   "metadata": {},
   "outputs": [],
   "source": [
    "# create a larger file\n",
    "# 500k dna sequences\n",
    "\n",
    "import random\n",
    "random.seed(10)\n",
    "\n",
    "test_file = open('phre_speed_test.fastq', 'w')\n",
    "\n",
    "test_file.write('20\\n')\n",
    "\n",
    "for i in range(500000):\n",
    "    test_file.write(f'@Rosalind_sequence_name{i}\\n')\n",
    "    test_file.write(f\"{''.join(random.choices('ACGT', k = 150))}\\n\")\n",
    "    test_file.write('+\\n')\n",
    "    test_file.write(f\"{''.join(random.choices('.,A3;5:>=0+2*1!9D47#F<-8@6B', k = 150))}\\n\")\n",
    "    \n",
    "test_file.close()"
   ]
  },
  {
   "cell_type": "code",
   "execution_count": 13,
   "id": "e899af5c",
   "metadata": {},
   "outputs": [],
   "source": [
    "# option 1\n",
    "# own parser\n",
    "# own functions for qc"
   ]
  },
  {
   "cell_type": "code",
   "execution_count": 14,
   "id": "d78ebe44",
   "metadata": {},
   "outputs": [
    {
     "name": "stdout",
     "output_type": "stream",
     "text": [
      "7.9 s ± 5.09 ms per loop (mean ± std. dev. of 7 runs, 10 loops each)\n"
     ]
    }
   ],
   "source": [
    "%%timeit -n 10\n",
    "\n",
    "qc_scores = list()\n",
    "\n",
    "with open('phre_speed_test.fastq', 'r') as file:\n",
    "    threshold = int(file.readline().rstrip())\n",
    "    while True:\n",
    "        if len(file.readline()) == 0:\n",
    "            break\n",
    "        file.readline()\n",
    "        file.readline()\n",
    "        qc_score = file.readline().rstrip()\n",
    "        qc_scores.append(qc_score)\n",
    "        \n",
    "counter = 0\n",
    "\n",
    "for qcSeq in qc_scores:\n",
    "    if meanQC(qcSeq) < threshold:\n",
    "        counter += 1"
   ]
  },
  {
   "cell_type": "code",
   "execution_count": 15,
   "id": "0d86b97f",
   "metadata": {},
   "outputs": [],
   "source": [
    "# option 2\n",
    "# biopython parser\n",
    "# own functions for qc"
   ]
  },
  {
   "cell_type": "code",
   "execution_count": 16,
   "id": "d95774e2",
   "metadata": {},
   "outputs": [
    {
     "name": "stdout",
     "output_type": "stream",
     "text": [
      "8.16 s ± 8.84 ms per loop (mean ± std. dev. of 7 runs, 10 loops each)\n"
     ]
    }
   ],
   "source": [
    "%%timeit -n 10\n",
    "\n",
    "from Bio.SeqIO.QualityIO import FastqGeneralIterator\n",
    "\n",
    "qc_scores = list()\n",
    "\n",
    "file = open('phre_speed_test.fastq', 'r')\n",
    "threshold = int(file.readline().rstrip())\n",
    "for triplet in FastqGeneralIterator(file):\n",
    "    identifier, sequence, quality = triplet\n",
    "    qc_scores.append(quality)    \n",
    "file.close()\n",
    "\n",
    "counter = 0\n",
    "\n",
    "for qcSeq in qc_scores:\n",
    "    if meanQC(qcSeq) < threshold:\n",
    "        counter += 1"
   ]
  },
  {
   "cell_type": "code",
   "execution_count": 17,
   "id": "ea20444b",
   "metadata": {},
   "outputs": [],
   "source": [
    "# option 3\n",
    "# biopython parser\n",
    "# biopython annotation for qc"
   ]
  },
  {
   "cell_type": "code",
   "execution_count": 18,
   "id": "79fd82a2",
   "metadata": {},
   "outputs": [
    {
     "name": "stdout",
     "output_type": "stream",
     "text": [
      "5.73 s ± 37.6 ms per loop (mean ± std. dev. of 7 runs, 10 loops each)\n"
     ]
    }
   ],
   "source": [
    "%%timeit -n 10\n",
    "\n",
    "from Bio import SeqIO\n",
    "\n",
    "with open('phre_speed_test.fastq', 'r') as file:\n",
    "    lines = file.readlines()\n",
    "\n",
    "with open('phre_speed_test_2.fastq', 'w') as file:\n",
    "    file.writelines(lines[1:])\n",
    "\n",
    "threshold = int(lines[0].strip()) \n",
    "del lines \n",
    "\n",
    "counter = 0\n",
    "\n",
    "for record in SeqIO.parse('phre_speed_test_2.fastq', 'fastq'):\n",
    "    qc_scores = record.letter_annotations['phred_quality']\n",
    "    if sum(qc_scores) / len(qc_scores) < int(threshold):\n",
    "        counter += 1"
   ]
  },
  {
   "cell_type": "code",
   "execution_count": 28,
   "id": "f1d0422d",
   "metadata": {},
   "outputs": [],
   "source": [
    "# implementation1: option1\n",
    "# option 3 is better with 2.2 s than option 1\n",
    "# however duplication of the input file may consume much more memory"
   ]
  },
  {
   "cell_type": "markdown",
   "id": "9f76e9cf",
   "metadata": {},
   "source": [
    "# 3. Implementation"
   ]
  },
  {
   "cell_type": "code",
   "execution_count": 20,
   "id": "b8c4826f",
   "metadata": {},
   "outputs": [],
   "source": [
    "def phredToNum(qcChar):\n",
    "    \n",
    "    '''\n",
    "    input\n",
    "        an ascii char\n",
    "    process\n",
    "        converts char to a numerical value using phred -33 scale\n",
    "    output\n",
    "        an integer\n",
    "    '''\n",
    "    \n",
    "    # convert char to number based on ascii table\n",
    "    numeric_qc = ord(qcChar) - 33\n",
    "    \n",
    "    # return\n",
    "    return numeric_qc"
   ]
  },
  {
   "cell_type": "code",
   "execution_count": 21,
   "id": "44e77ca6",
   "metadata": {},
   "outputs": [],
   "source": [
    "def meanQC(qcSequence):\n",
    "    \n",
    "    '''\n",
    "    input\n",
    "        a sequence of qc scores as ascii chars\n",
    "    process\n",
    "        calculates mean of qc_scores\n",
    "    output\n",
    "        a float\n",
    "    '''\n",
    "    \n",
    "    # mean calculation of all numbers\n",
    "    qcNums = [phredToNum(qcChar) for qcChar in qcSequence]\n",
    "    result = sum(qcNums) / len(qcNums)\n",
    "    \n",
    "    # return\n",
    "    return result"
   ]
  },
  {
   "cell_type": "code",
   "execution_count": 22,
   "id": "cdbc0a65",
   "metadata": {},
   "outputs": [],
   "source": [
    "def phreFileParser(filename):\n",
    "    \n",
    "    '''\n",
    "    input\n",
    "        a file containing a threshold and fastq records\n",
    "    process\n",
    "        calculates the numbers of records whose mean qc is below threshold\n",
    "    output\n",
    "        prints answer to console\n",
    "        writes answer to a file\n",
    "    '''\n",
    "    \n",
    "    #initiate an empty list to keep qc score sequences, list of 4th lines of each record\n",
    "    qc_scores = list()\n",
    "\n",
    "    # open and parse file\n",
    "    with open(filename, 'r') as file:\n",
    "        \n",
    "        # take threshold\n",
    "        threshold = int(file.readline().rstrip())\n",
    "        \n",
    "        # loop over for rest of file\n",
    "        while True:\n",
    "            if len(file.readline()) == 0:\n",
    "                break\n",
    "            file.readline()\n",
    "            file.readline()\n",
    "            qc_score = file.readline().rstrip()\n",
    "            qc_scores.append(qc_score)\n",
    "    \n",
    "    # return\n",
    "    return threshold, qc_scores"
   ]
  },
  {
   "cell_type": "code",
   "execution_count": 23,
   "id": "a71ae44a",
   "metadata": {},
   "outputs": [],
   "source": [
    "def phre(filename):\n",
    "    \n",
    "    '''\n",
    "    input\n",
    "        a file containing a threshold and fastq records\n",
    "    process\n",
    "        parses file and extracts an integer as threshold and a list of qc score sequences\n",
    "        compares mean qc scores of each sequence\n",
    "    output\n",
    "        prints how many of sequences have mean qc below threshold\n",
    "        writes asnwer in a file\n",
    "    '''\n",
    "    \n",
    "    # get threshold and qc score list\n",
    "    threshold, qc = phreFileParser(filename)\n",
    "    \n",
    "    # loop over list:qc and check mean of each if they are less than threshold:t\n",
    "    counter = 0\n",
    "    for qcSeq in qc:\n",
    "        if meanQC(qcSeq) < threshold:\n",
    "            counter += 1\n",
    "            \n",
    "    # print answer to console\n",
    "    print('\\n\\x1B[1mANSWER\\x1B[0m\\n______\\n')\n",
    "    print(f'{counter}')\n",
    "    \n",
    "    # open file and write answer\n",
    "    file = open(f'{filename.split(\".\")[0]}_answer.txt', 'w')\n",
    "    file.write(f'{counter}')\n",
    "    file.close()\n",
    "    print('\\n\\n#! The answer has been written into the file:',\n",
    "          f'\\x1B[1m./{filename.split(\".\")[0]}_answer.txt\\x1B[0m\\n')"
   ]
  },
  {
   "cell_type": "markdown",
   "id": "a1a321c8",
   "metadata": {},
   "source": [
    "# 4. Execution"
   ]
  },
  {
   "cell_type": "code",
   "execution_count": 24,
   "id": "2350cdd5",
   "metadata": {},
   "outputs": [
    {
     "name": "stdout",
     "output_type": "stream",
     "text": [
      "\n",
      "\u001b[1mANSWER\u001b[0m\n",
      "______\n",
      "\n",
      "1\n",
      "\n",
      "\n",
      "#! The answer has been written into the file: \u001b[1m./phre_test_answer.txt\u001b[0m\n",
      "\n"
     ]
    }
   ],
   "source": [
    "phre('phre_test.txt')"
   ]
  },
  {
   "cell_type": "code",
   "execution_count": 25,
   "id": "2392c455",
   "metadata": {},
   "outputs": [
    {
     "name": "stdout",
     "output_type": "stream",
     "text": [
      "\n",
      "\u001b[1mANSWER\u001b[0m\n",
      "______\n",
      "\n",
      "117175\n",
      "\n",
      "\n",
      "#! The answer has been written into the file: \u001b[1m./phre_speed_test_answer.txt\u001b[0m\n",
      "\n"
     ]
    }
   ],
   "source": [
    "phre('phre_speed_test.fastq')"
   ]
  },
  {
   "cell_type": "code",
   "execution_count": 26,
   "id": "79bdd507",
   "metadata": {},
   "outputs": [
    {
     "name": "stdout",
     "output_type": "stream",
     "text": [
      "\n",
      "\u001b[1mANSWER\u001b[0m\n",
      "______\n",
      "\n",
      "28\n",
      "\n",
      "\n",
      "#! The answer has been written into the file: \u001b[1m./rosalind_phre_1_dataset_answer.txt\u001b[0m\n",
      "\n"
     ]
    }
   ],
   "source": [
    "phre('rosalind_phre_1_dataset.txt')"
   ]
  },
  {
   "cell_type": "code",
   "execution_count": 29,
   "id": "0728bc3a",
   "metadata": {},
   "outputs": [
    {
     "name": "stdout",
     "output_type": "stream",
     "text": [
      "\n",
      "\u001b[1mANSWER\u001b[0m\n",
      "______\n",
      "\n",
      "27\n",
      "\n",
      "\n",
      "#! The answer has been written into the file: \u001b[1m./rosalind_phre_answer.txt\u001b[0m\n",
      "\n"
     ]
    }
   ],
   "source": [
    "phre('rosalind_phre.txt')"
   ]
  },
  {
   "cell_type": "markdown",
   "id": "8db6a051",
   "metadata": {},
   "source": [
    "<p style='text-align: right;'>\n",
    "    <!--<b><font size = '5'>Contact</font></b><br>-->\n",
    "    <b>Orcun Tasar</b><br>\n",
    "    <i>Bioinformatician / Data Scientist</i><br>\n",
    "    orcuntasar |at@| ogr.iu.edu.tr<br>\n",
    "    tasar.orcun |at@| gmail.com<br>\n",
    "    <a href = 'https://www.linkedin.com/in/orçun-taşar-7b5992a1/'>Linkedin</a> | <a href = 'https://www.instagram.com/shatranuchor/'>Instagram</a>\n",
    "</p>"
   ]
  }
 ],
 "metadata": {
  "kernelspec": {
   "display_name": "thesis",
   "language": "python",
   "name": "thesis"
  },
  "language_info": {
   "codemirror_mode": {
    "name": "ipython",
    "version": 3
   },
   "file_extension": ".py",
   "mimetype": "text/x-python",
   "name": "python",
   "nbconvert_exporter": "python",
   "pygments_lexer": "ipython3",
   "version": "3.8.15"
  }
 },
 "nbformat": 4,
 "nbformat_minor": 5
}
