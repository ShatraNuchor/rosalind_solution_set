{
 "cells": [
  {
   "cell_type": "markdown",
   "id": "24d2f5ef",
   "metadata": {},
   "source": [
    "# 1. Source"
   ]
  },
  {
   "cell_type": "markdown",
   "id": "6d5895e1",
   "metadata": {},
   "source": [
    "Click on the link to go to the source web page of **Rosalind**: [Complementing a Strand of DNA](https://rosalind.info/problems/rvco/)"
   ]
  },
  {
   "cell_type": "markdown",
   "id": "37582a41",
   "metadata": {},
   "source": [
    " **Problem**\n",
    " \n",
    " ![Complementing a Strand of DNA](rvco_problem.png \"Complementing a Strand of DNA\")"
   ]
  },
  {
   "cell_type": "markdown",
   "id": "1491d6c1",
   "metadata": {},
   "source": [
    "**Sample Dataset**\n",
    "\n",
    "\\>Rosalind_64<br>\n",
    "ATAT<br>\n",
    "\\>Rosalind_48<br>\n",
    "GCATA"
   ]
  },
  {
   "cell_type": "markdown",
   "id": "fee90243",
   "metadata": {},
   "source": [
    "**Sample Output**\n",
    "\n",
    "1"
   ]
  },
  {
   "cell_type": "markdown",
   "id": "829af9a2",
   "metadata": {},
   "source": [
    "# 2. Workspace"
   ]
  },
  {
   "cell_type": "markdown",
   "id": "d7a0711d",
   "metadata": {},
   "source": [
    "- The ideas about how to write reverse complement creation functions were discussed here: [003_REVC](https://github.com/ShatraNuchor/rosalind_solution_set/tree/main/bioinformatics_stronghold/003_REVC)\n",
    "\n",
    "- Here, will not deep dive into that and use directly **BioPython** library for reverse complement creation."
   ]
  },
  {
   "cell_type": "code",
   "execution_count": 1,
   "id": "5d89b745",
   "metadata": {},
   "outputs": [],
   "source": [
    "# read and parse the input file\n",
    "\n",
    "sequences = list()\n",
    "\n",
    "from Bio import SeqIO\n",
    "\n",
    "with open(\"rvco_test.txt\") as handle:\n",
    "    for record in SeqIO.parse(handle, 'fasta'):\n",
    "        sequences.append(record.seq)"
   ]
  },
  {
   "cell_type": "code",
   "execution_count": 2,
   "id": "0e59f820",
   "metadata": {},
   "outputs": [
    {
     "data": {
      "text/plain": [
       "[Seq('ATAT'), Seq('GCATA')]"
      ]
     },
     "execution_count": 2,
     "metadata": {},
     "output_type": "execute_result"
    }
   ],
   "source": [
    "# look into sequences\n",
    "\n",
    "sequences"
   ]
  },
  {
   "cell_type": "code",
   "execution_count": 3,
   "id": "4dccf062",
   "metadata": {},
   "outputs": [
    {
     "data": {
      "text/plain": [
       "Seq('TATGC')"
      ]
     },
     "execution_count": 3,
     "metadata": {},
     "output_type": "execute_result"
    }
   ],
   "source": [
    "# import BioPython and create revco\n",
    "\n",
    "from Bio.Seq import Seq\n",
    "\n",
    "Seq('GCATA').reverse_complement()"
   ]
  },
  {
   "cell_type": "code",
   "execution_count": 4,
   "id": "2a7a1f8f",
   "metadata": {},
   "outputs": [
    {
     "data": {
      "text/plain": [
       "Seq('ATAT')"
      ]
     },
     "execution_count": 4,
     "metadata": {},
     "output_type": "execute_result"
    }
   ],
   "source": [
    "Seq('ATAT').reverse_complement()"
   ]
  },
  {
   "cell_type": "code",
   "execution_count": 5,
   "id": "aa430d45",
   "metadata": {},
   "outputs": [
    {
     "data": {
      "text/plain": [
       "1"
      ]
     },
     "execution_count": 5,
     "metadata": {},
     "output_type": "execute_result"
    }
   ],
   "source": [
    "# loop over sequences and count how many of them are exactly equal to their reverse complements\n",
    "\n",
    "counter = 0\n",
    "\n",
    "for sequence in sequences:\n",
    "    if sequence.reverse_complement() == sequence:\n",
    "        counter += 1\n",
    "        \n",
    "counter"
   ]
  },
  {
   "cell_type": "markdown",
   "id": "8db5735e",
   "metadata": {},
   "source": [
    "# 3. Implementation"
   ]
  },
  {
   "cell_type": "code",
   "execution_count": 6,
   "id": "b8c4826f",
   "metadata": {},
   "outputs": [],
   "source": [
    "def rvco(filename):\n",
    "    \n",
    "    '''\n",
    "    input\n",
    "        a file containing n number of dna strings\n",
    "    process\n",
    "        calculates how many of them are equal to their reverse complements\n",
    "    output\n",
    "        prints answer to console\n",
    "        writes answer to a file\n",
    "    '''\n",
    "    \n",
    "    from Bio.Seq import Seq\n",
    "    from Bio import SeqIO\n",
    "    \n",
    "    # initiate a counter\n",
    "    counter = 0\n",
    "    \n",
    "    # read file and iterate counter based on condition\n",
    "    with open(filename, 'r') as handle:\n",
    "        for record in SeqIO.parse(handle, 'fasta'):\n",
    "            if record.seq.reverse_complement() == record.seq:\n",
    "                counter += 1\n",
    "    \n",
    "    # print answer to console\n",
    "    print('\\n\\x1B[1mANSWER\\x1B[0m\\n______\\n')\n",
    "    print(f'{counter}')\n",
    "    \n",
    "    # open file and write answer\n",
    "    file = open(f'{filename.split(\".\")[0]}_answer.txt', 'w')\n",
    "    file.write(f'{counter}')\n",
    "    file.close()\n",
    "    print('\\n\\n#! The answer has been written into the file:',\n",
    "          f'\\x1B[1m./{filename.split(\".\")[0]}_answer.txt\\x1B[0m\\n')"
   ]
  },
  {
   "cell_type": "markdown",
   "id": "c65ae6fa",
   "metadata": {},
   "source": [
    "# 4. Execution"
   ]
  },
  {
   "cell_type": "code",
   "execution_count": 7,
   "id": "2350cdd5",
   "metadata": {
    "scrolled": true
   },
   "outputs": [
    {
     "name": "stdout",
     "output_type": "stream",
     "text": [
      "\n",
      "\u001b[1mANSWER\u001b[0m\n",
      "______\n",
      "\n",
      "1\n",
      "\n",
      "\n",
      "#! The answer has been written into the file: \u001b[1m./rvco_test_answer.txt\u001b[0m\n",
      "\n"
     ]
    }
   ],
   "source": [
    "rvco('rvco_test.txt')"
   ]
  },
  {
   "cell_type": "code",
   "execution_count": 8,
   "id": "0ce024cc",
   "metadata": {},
   "outputs": [
    {
     "name": "stdout",
     "output_type": "stream",
     "text": [
      "\n",
      "\u001b[1mANSWER\u001b[0m\n",
      "______\n",
      "\n",
      "3\n",
      "\n",
      "\n",
      "#! The answer has been written into the file: \u001b[1m./rosalind_rvco_2_dataset_answer.txt\u001b[0m\n",
      "\n"
     ]
    }
   ],
   "source": [
    "rvco('rosalind_rvco_2_dataset.txt')"
   ]
  },
  {
   "cell_type": "code",
   "execution_count": 9,
   "id": "da5eff66",
   "metadata": {},
   "outputs": [
    {
     "name": "stdout",
     "output_type": "stream",
     "text": [
      "\n",
      "\u001b[1mANSWER\u001b[0m\n",
      "______\n",
      "\n",
      "3\n",
      "\n",
      "\n",
      "#! The answer has been written into the file: \u001b[1m./rosalind_rvco_answer.txt\u001b[0m\n",
      "\n"
     ]
    }
   ],
   "source": [
    "rvco('rosalind_rvco.txt')"
   ]
  },
  {
   "cell_type": "markdown",
   "id": "8db6a051",
   "metadata": {},
   "source": [
    "<p style='text-align: right;'>\n",
    "    <!--<b><font size = '5'>Contact</font></b><br>-->\n",
    "    <b>Orcun Tasar</b><br>\n",
    "    <i>Bioinformatician / Data Scientist</i><br>\n",
    "    orcuntasar |at@| ogr.iu.edu.tr<br>\n",
    "    tasar.orcun |at@| gmail.com<br>\n",
    "    <a href = 'https://www.linkedin.com/in/orçun-taşar-7b5992a1/'>Linkedin</a> | <a href = 'https://www.instagram.com/shatranuchor/'>Instagram</a>\n",
    "</p>"
   ]
  }
 ],
 "metadata": {
  "kernelspec": {
   "display_name": "thesis",
   "language": "python",
   "name": "thesis"
  },
  "language_info": {
   "codemirror_mode": {
    "name": "ipython",
    "version": 3
   },
   "file_extension": ".py",
   "mimetype": "text/x-python",
   "name": "python",
   "nbconvert_exporter": "python",
   "pygments_lexer": "ipython3",
   "version": "3.8.15"
  }
 },
 "nbformat": 4,
 "nbformat_minor": 5
}
