{
 "cells": [
  {
   "cell_type": "markdown",
   "id": "24d2f5ef",
   "metadata": {},
   "source": [
    "# 1. Source"
   ]
  },
  {
   "cell_type": "markdown",
   "id": "6d5895e1",
   "metadata": {},
   "source": [
    "Click on the link to go to the source web page of **Rosalind**: [GenBank Introduction](https://rosalind.info/problems/gbk/)"
   ]
  },
  {
   "cell_type": "markdown",
   "id": "37582a41",
   "metadata": {},
   "source": [
    " **Problem**\n",
    " \n",
    " ![GenBank Introduction](gbk_problem.png \"GenBank Introduction\")"
   ]
  },
  {
   "cell_type": "markdown",
   "id": "1491d6c1",
   "metadata": {},
   "source": [
    "**Sample Dataset**\n",
    "\n",
    "Anthoxanthum<br>\n",
    "2003/7/25<br>\n",
    "2005/12/27"
   ]
  },
  {
   "cell_type": "markdown",
   "id": "fee90243",
   "metadata": {},
   "source": [
    "**Sample Output**\n",
    "\n",
    "7"
   ]
  },
  {
   "cell_type": "markdown",
   "id": "829af9a2",
   "metadata": {},
   "source": [
    "# 2. Workspace"
   ]
  },
  {
   "cell_type": "code",
   "execution_count": 1,
   "id": "8025d7cf",
   "metadata": {},
   "outputs": [
    {
     "name": "stdout",
     "output_type": "stream",
     "text": [
      "Anthoxanthum\n",
      "2003/7/25\n",
      "2005/12/27\n"
     ]
    }
   ],
   "source": [
    "# read the input file\n",
    "\n",
    "with open('gbk_test.txt', 'r') as file:\n",
    "    genus = file.readline().rstrip()\n",
    "    startDate = file.readline().rstrip()\n",
    "    endDate = file.readline().rstrip()\n",
    "    \n",
    "# print\n",
    "\n",
    "print(genus)\n",
    "print(startDate)\n",
    "print(endDate)"
   ]
  },
  {
   "cell_type": "code",
   "execution_count": 2,
   "id": "1b625c3f",
   "metadata": {},
   "outputs": [],
   "source": [
    "# start the session with NCBI\n",
    "\n",
    "from Bio import Entrez\n",
    "\n",
    "Entrez.email = '<your@mail.address>'"
   ]
  },
  {
   "cell_type": "code",
   "execution_count": 3,
   "id": "0f5f6e95",
   "metadata": {},
   "outputs": [
    {
     "name": "stdout",
     "output_type": "stream",
     "text": [
      "Anthoxanthum[Organism] AND 2003/7/25:2005/12/27[dp]\n"
     ]
    }
   ],
   "source": [
    "# build the search term\n",
    "\n",
    "genus_filter = f'{genus}[Organism]'\n",
    "date_filter = f'{startDate}:{endDate}[dp]'\n",
    "    \n",
    "# two parts should be connected with 'AND'\n",
    "\n",
    "search_term = genus_filter + ' AND ' + date_filter\n",
    "\n",
    "# print\n",
    "\n",
    "print(search_term)"
   ]
  },
  {
   "cell_type": "code",
   "execution_count": 4,
   "id": "b2e42c85",
   "metadata": {},
   "outputs": [],
   "source": [
    "# query nucleotide database with the given organism name\n",
    "\n",
    "handle = Entrez.esearch(db = 'nucleotide',\n",
    "                        term = search_term)\n",
    "\n",
    "record = Entrez.read(handle)"
   ]
  },
  {
   "cell_type": "code",
   "execution_count": 5,
   "id": "f2e12685",
   "metadata": {},
   "outputs": [
    {
     "data": {
      "text/plain": [
       "{'Count': '7', 'RetMax': '7', 'RetStart': '0', 'IdList': ['33413983', '33413982', '33413981', '33413980', '71056585', '57283843', '57283791'], 'TranslationSet': [{'From': 'Anthoxanthum[Organism]', 'To': '\"Anthoxanthum\"[Organism]'}], 'TranslationStack': [{'Term': '\"Anthoxanthum\"[Organism]', 'Field': 'Organism', 'Count': '85416', 'Explode': 'Y'}, {'Term': '2003/07/25[PDAT]', 'Field': 'PDAT', 'Count': '0', 'Explode': 'N'}, {'Term': '2005/12/27[PDAT]', 'Field': 'PDAT', 'Count': '0', 'Explode': 'N'}, 'RANGE', 'AND'], 'QueryTranslation': '\"Anthoxanthum\"[Organism] AND 2003/07/25[PDAT] : 2005/12/27[PDAT]'}"
      ]
     },
     "execution_count": 5,
     "metadata": {},
     "output_type": "execute_result"
    }
   ],
   "source": [
    "# see all records\n",
    "\n",
    "record"
   ]
  },
  {
   "cell_type": "code",
   "execution_count": 6,
   "id": "72d3be39",
   "metadata": {},
   "outputs": [
    {
     "data": {
      "text/plain": [
       "'7'"
      ]
     },
     "execution_count": 6,
     "metadata": {},
     "output_type": "execute_result"
    }
   ],
   "source": [
    "# for the answer thaat rosalind request\n",
    "\n",
    "record['Count']"
   ]
  },
  {
   "cell_type": "markdown",
   "id": "0873050a",
   "metadata": {},
   "source": [
    "# 3. Implementation"
   ]
  },
  {
   "cell_type": "code",
   "execution_count": 7,
   "id": "49645c45",
   "metadata": {},
   "outputs": [],
   "source": [
    "def gbk(filename, mail_address):\n",
    "    \n",
    "    '''\n",
    "    input\n",
    "        a file contains genus name, start and end dates\n",
    "        mail_address to connect NCBI\n",
    "    process\n",
    "        query genbank nucleotide db for genus as organism between dates\n",
    "    output\n",
    "        prints number of entries to console\n",
    "        writes number of entreis to a file\n",
    "    '''\n",
    "    \n",
    "    from Bio import Entrez\n",
    "    \n",
    "    # read input file\n",
    "    with open(filename, 'r') as file:\n",
    "        genus = file.readline().rstrip()\n",
    "        startDate = file.readline().rstrip()\n",
    "        endDate = file.readline().rstrip()\n",
    "        \n",
    "    # build search term\n",
    "    search_term = f'{genus}[Organism] AND {startDate}:{endDate}[dp]'\n",
    "        \n",
    "    # start NSBI session\n",
    "    Entrez.email = mail_address\n",
    "    \n",
    "    # query nucleotide db\n",
    "    handle = Entrez.esearch(db = 'nucleotide', term = search_term)\n",
    "    record = Entrez.read(handle)\n",
    "    \n",
    "    # result\n",
    "    entry_number = record['Count']\n",
    "    \n",
    "    # print answer to console\n",
    "    print('\\n\\x1B[1mANSWER\\x1B[0m\\n______\\n')\n",
    "    print(f'{entry_number}')\n",
    "    \n",
    "    # open file and write answer\n",
    "    file = open(f'{filename.split(\".\")[0]}_answer.txt', 'w')\n",
    "    file.write(f'{entry_number}')\n",
    "    file.close()\n",
    "    print('\\n\\n#! The answer has been written into the file:',\n",
    "          f'\\x1B[1m./{filename.split(\".\")[0]}_answer.txt\\x1B[0m\\n')"
   ]
  },
  {
   "cell_type": "markdown",
   "id": "dc5630c4",
   "metadata": {},
   "source": [
    "# 4. Execution"
   ]
  },
  {
   "cell_type": "code",
   "execution_count": 8,
   "id": "27b0eae7",
   "metadata": {},
   "outputs": [
    {
     "name": "stdout",
     "output_type": "stream",
     "text": [
      "\n",
      "\u001b[1mANSWER\u001b[0m\n",
      "______\n",
      "\n",
      "7\n",
      "\n",
      "\n",
      "#! The answer has been written into the file: \u001b[1m./gbk_test_answer.txt\u001b[0m\n",
      "\n"
     ]
    }
   ],
   "source": [
    "gbk('gbk_test.txt', '<your@mail.address>')"
   ]
  },
  {
   "cell_type": "code",
   "execution_count": 9,
   "id": "b50b33e6",
   "metadata": {},
   "outputs": [
    {
     "name": "stdout",
     "output_type": "stream",
     "text": [
      "\n",
      "\u001b[1mANSWER\u001b[0m\n",
      "______\n",
      "\n",
      "1725\n",
      "\n",
      "\n",
      "#! The answer has been written into the file: \u001b[1m./rosalind_gbk_1_dataset_answer.txt\u001b[0m\n",
      "\n"
     ]
    }
   ],
   "source": [
    "gbk('rosalind_gbk_1_dataset.txt', '<your@mail.address>')"
   ]
  },
  {
   "cell_type": "code",
   "execution_count": 10,
   "id": "ed14521f",
   "metadata": {},
   "outputs": [
    {
     "name": "stdout",
     "output_type": "stream",
     "text": [
      "\n",
      "\u001b[1mANSWER\u001b[0m\n",
      "______\n",
      "\n",
      "35\n",
      "\n",
      "\n",
      "#! The answer has been written into the file: \u001b[1m./rosalind_gbk_2_dataset_answer.txt\u001b[0m\n",
      "\n"
     ]
    }
   ],
   "source": [
    "gbk('rosalind_gbk_2_dataset.txt', '<your@mail.address>')"
   ]
  },
  {
   "cell_type": "code",
   "execution_count": 11,
   "id": "33c416db",
   "metadata": {},
   "outputs": [
    {
     "name": "stdout",
     "output_type": "stream",
     "text": [
      "\n",
      "\u001b[1mANSWER\u001b[0m\n",
      "______\n",
      "\n",
      "84\n",
      "\n",
      "\n",
      "#! The answer has been written into the file: \u001b[1m./rosalind_gbk_answer.txt\u001b[0m\n",
      "\n"
     ]
    }
   ],
   "source": [
    "gbk('rosalind_gbk.txt', '<your@mail.address>')"
   ]
  },
  {
   "cell_type": "markdown",
   "id": "8db6a051",
   "metadata": {},
   "source": [
    "<p style='text-align: right;'>\n",
    "    <!--<b><font size = '5'>Contact</font></b><br>-->\n",
    "    <b>Orcun Tasar</b><br>\n",
    "    <i>Bioinformatician / Data Scientist</i><br>\n",
    "    orcuntasar |at@| ogr.iu.edu.tr<br>\n",
    "    tasar.orcun |at@| gmail.com<br>\n",
    "    <a href = 'https://www.linkedin.com/in/orçun-taşar-7b5992a1/'>Linkedin</a> | <a href = 'https://www.instagram.com/shatranuchor/'>Instagram</a>\n",
    "</p>"
   ]
  }
 ],
 "metadata": {
  "kernelspec": {
   "display_name": "thesis",
   "language": "python",
   "name": "thesis"
  },
  "language_info": {
   "codemirror_mode": {
    "name": "ipython",
    "version": 3
   },
   "file_extension": ".py",
   "mimetype": "text/x-python",
   "name": "python",
   "nbconvert_exporter": "python",
   "pygments_lexer": "ipython3",
   "version": "3.8.15"
  }
 },
 "nbformat": 4,
 "nbformat_minor": 5
}
