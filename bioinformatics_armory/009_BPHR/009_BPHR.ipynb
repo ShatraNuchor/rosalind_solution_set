{
 "cells": [
  {
   "cell_type": "markdown",
   "id": "24d2f5ef",
   "metadata": {},
   "source": [
    "# 1. Source"
   ]
  },
  {
   "cell_type": "markdown",
   "id": "6d5895e1",
   "metadata": {},
   "source": [
    "Click on the link to go to the source web page of **Rosalind**: [Base Quality Distribution](https://rosalind.info/problems/bphr/)"
   ]
  },
  {
   "cell_type": "markdown",
   "id": "37582a41",
   "metadata": {},
   "source": [
    " **Problem**\n",
    " \n",
    " ![Base Quality Distribution](bphr_problem.png \"Base Quality Distribution\")"
   ]
  },
  {
   "cell_type": "markdown",
   "id": "1491d6c1",
   "metadata": {},
   "source": [
    "**Sample Dataset**\n",
    "\n",
    "26<br>\n",
    "@Rosalind_0029<br>\n",
    "GCCCCAGGGAACCCTCCGACCGAGGATCGT<br>\n",
    "+<br>\n",
    "\\>?F?@6<C<HF?<85486B;85:8488/2/<br>\n",
    "@Rosalind_0029<br>\n",
    "TGTGATGGCTCTCTGAATGGTTCAGGCAGT<br>\n",
    "+<br>\n",
    "@J@H@>B9:B;<D==:<;:,<::?463-,,<br>\n",
    "@Rosalind_0029<br>\n",
    "CACTCTTACTCCCTAGCCGAACTCCTTTTT<br>\n",
    "+<br>\n",
    "=88;99637@5,4664-65)/?4-2+)$)$<br>\n",
    "@Rosalind_0029<br>\n",
    "GATTATGATATCAGTTGGCTCCGAGAGCGT<br>\n",
    "+<br>\n",
    "<@BGE@8C9=B9:B<>>>7?B>7:02+33."
   ]
  },
  {
   "cell_type": "markdown",
   "id": "fee90243",
   "metadata": {},
   "source": [
    "**Sample Output**\n",
    "\n",
    "17"
   ]
  },
  {
   "cell_type": "markdown",
   "id": "829af9a2",
   "metadata": {},
   "source": [
    "# 2. Workspace"
   ]
  },
  {
   "cell_type": "code",
   "execution_count": 72,
   "id": "f5a4e6af",
   "metadata": {},
   "outputs": [],
   "source": [
    "qc_scores = list()\n",
    "\n",
    "# open and parse file\n",
    "with open('bphr_test.txt', 'r') as file:\n",
    "        \n",
    "    # take threshold\n",
    "    threshold = int(file.readline().rstrip())\n",
    "\n",
    "    # loop over for rest of file\n",
    "    while True:\n",
    "        if len(file.readline()) == 0:\n",
    "            break\n",
    "        file.readline()\n",
    "        file.readline()\n",
    "        qc_score = file.readline().rstrip()\n",
    "        qc_scores.append(qc_score)"
   ]
  },
  {
   "cell_type": "code",
   "execution_count": 73,
   "id": "3a8ffcd6",
   "metadata": {},
   "outputs": [
    {
     "data": {
      "text/plain": [
       "26"
      ]
     },
     "execution_count": 73,
     "metadata": {},
     "output_type": "execute_result"
    }
   ],
   "source": [
    "threshold"
   ]
  },
  {
   "cell_type": "code",
   "execution_count": 74,
   "id": "1b023161",
   "metadata": {},
   "outputs": [],
   "source": [
    "# write a function to convert ascii char to numeric value based on phred -33\n",
    "\n",
    "def phred(qcChar):\n",
    "    qcNum = ord(qcChar) - 33\n",
    "    return qcNum"
   ]
  },
  {
   "cell_type": "code",
   "execution_count": 75,
   "id": "eb4b315c",
   "metadata": {},
   "outputs": [
    {
     "name": "stdout",
     "output_type": "stream",
     "text": [
      "28.75, 31.25, 31.0, 33.25, 30.5, 26.25, 26.0, 27.5, 24.5, 32.75, 29.0, 23.0, 26.5, 26.25, 24.0, 23.0, 22.75, 24.25, 25.0, 18.75, 24.25, 26.0, 22.75, 22.5, 17.5, 17.75, 14.75, 11.75, 13.5, 10.25\n"
     ]
    }
   ],
   "source": [
    "# initiate a mean_qc_by_pos list\n",
    "# to track mean qc scores for each position across all reads\n",
    "\n",
    "mean_qc_by_position = list()\n",
    "\n",
    "read_len = len(qc_scores[0]) # all reads have the same length - so that is generic read length\n",
    "read_num = len(qc_scores) # how many reads do we have\n",
    "\n",
    "for position_i in range(read_len): # loop over each position\n",
    "    position_i_scores = [] # initiate an empty list to store all qcs of all reads at that position\n",
    "    for nthRead in range(read_num): # loop over each read\n",
    "        position_i_scores.append(phred(qc_scores[nthRead][position_i])) # get numeric qc score at pos i of nth read\n",
    "    sum_position_i_scores = sum(position_i_scores) # sum all scores at position i\n",
    "    mean_position_i_scores = sum_position_i_scores / read_num # calculate mean qc of all reads at position i\n",
    "    mean_qc_by_position.append(mean_position_i_scores) # add mean qc score at position i to main list\n",
    "\n",
    "# print\n",
    "\n",
    "print(*mean_qc_by_position, sep = ', ')"
   ]
  },
  {
   "cell_type": "code",
   "execution_count": 76,
   "id": "6778e493",
   "metadata": {},
   "outputs": [
    {
     "data": {
      "text/plain": [
       "17"
      ]
     },
     "execution_count": 76,
     "metadata": {},
     "output_type": "execute_result"
    }
   ],
   "source": [
    "# count how many positions have mean qc less than threshold\n",
    "\n",
    "counter = 0\n",
    "\n",
    "for qc in mean_qc_by_pos:\n",
    "    if qc < 26:\n",
    "        counter += 1\n",
    "        \n",
    "counter"
   ]
  },
  {
   "cell_type": "code",
   "execution_count": 77,
   "id": "630fdd95",
   "metadata": {},
   "outputs": [],
   "source": [
    "# numpy can also be used for that purpose\n",
    "\n",
    "import numpy as np"
   ]
  },
  {
   "cell_type": "code",
   "execution_count": 78,
   "id": "fc9eca42",
   "metadata": {},
   "outputs": [
    {
     "data": {
      "text/plain": [
       "['>',\n",
       " '?',\n",
       " 'F',\n",
       " '?',\n",
       " '@',\n",
       " '6',\n",
       " '<',\n",
       " 'C',\n",
       " '<',\n",
       " 'H',\n",
       " 'F',\n",
       " '?',\n",
       " '<',\n",
       " '8',\n",
       " '5',\n",
       " '4',\n",
       " '8',\n",
       " '6',\n",
       " 'B',\n",
       " ';',\n",
       " '8',\n",
       " '5',\n",
       " ':',\n",
       " '8',\n",
       " '4',\n",
       " '8',\n",
       " '8',\n",
       " '/',\n",
       " '2',\n",
       " '/']"
      ]
     },
     "execution_count": 78,
     "metadata": {},
     "output_type": "execute_result"
    }
   ],
   "source": [
    "# assume we have this qc sequence of one read\n",
    "\n",
    "qc_example = '>?F?@6<C<HF?<85486B;85:8488/2/'\n",
    "\n",
    "# this can be converted to a list\n",
    "\n",
    "qc_example = list(qc_example)\n",
    "\n",
    "# look at the final status of qc_example\n",
    "\n",
    "qc_example"
   ]
  },
  {
   "cell_type": "code",
   "execution_count": 79,
   "id": "b428a6a9",
   "metadata": {},
   "outputs": [
    {
     "data": {
      "text/plain": [
       "array(['>', '?', 'F', '?', '@', '6', '<', 'C', '<', 'H', 'F', '?', '<',\n",
       "       '8', '5', '4', '8', '6', 'B', ';', '8', '5', ':', '8', '4', '8',\n",
       "       '8', '/', '2', '/'], dtype='<U1')"
      ]
     },
     "execution_count": 79,
     "metadata": {},
     "output_type": "execute_result"
    }
   ],
   "source": [
    "# create a numpy array from this seq\n",
    "\n",
    "qc_example = np.array(qc_example)\n",
    "\n",
    "qc_example"
   ]
  },
  {
   "cell_type": "code",
   "execution_count": 80,
   "id": "d042b2ad",
   "metadata": {},
   "outputs": [
    {
     "data": {
      "text/plain": [
       "array([['>', '?', 'F', '?', '@', '6', '<', 'C', '<', 'H', 'F', '?', '<',\n",
       "        '8', '5', '4', '8', '6', 'B', ';', '8', '5', ':', '8', '4', '8',\n",
       "        '8', '/', '2', '/'],\n",
       "       ['@', 'J', '@', 'H', '@', '>', 'B', '9', ':', 'B', ';', '<', 'D',\n",
       "        '=', '=', ':', '<', ';', ':', ',', '<', ':', ':', '?', '4', '6',\n",
       "        '3', '-', ',', ','],\n",
       "       ['=', '8', '8', ';', '9', '9', '6', '3', '7', '@', '5', ',', '4',\n",
       "        '6', '6', '4', '-', '6', '5', ')', '/', '?', '4', '-', '2', '+',\n",
       "        ')', '$', ')', '$'],\n",
       "       ['<', '@', 'B', 'G', 'E', '@', '8', 'C', '9', '=', 'B', '9', ':',\n",
       "        'B', '<', '>', '>', '>', '7', '?', 'B', '>', '7', ':', '0', '2',\n",
       "        '+', '3', '3', '.']], dtype='<U1')"
      ]
     },
     "execution_count": 80,
     "metadata": {},
     "output_type": "execute_result"
    }
   ],
   "source": [
    "# this step can be done for all qc reads\n",
    "\n",
    "qc_scores_array = list()\n",
    "\n",
    "for qc in qc_scores:\n",
    "    qc_scores_array.append(np.array(list(qc)))\n",
    "    \n",
    "qc_scores_array = np.array(qc_scores_array)\n",
    "\n",
    "qc_scores_array"
   ]
  },
  {
   "cell_type": "code",
   "execution_count": 81,
   "id": "1d7afad0",
   "metadata": {},
   "outputs": [
    {
     "data": {
      "text/plain": [
       "array(['>', '@', '=', '<'], dtype='<U1')"
      ]
     },
     "execution_count": 81,
     "metadata": {},
     "output_type": "execute_result"
    }
   ],
   "source": [
    "qc_scores_array[:, 0] # position 0 scores of all sequences"
   ]
  },
  {
   "cell_type": "code",
   "execution_count": 82,
   "id": "1c3e4fc4",
   "metadata": {},
   "outputs": [
    {
     "data": {
      "text/plain": [
       "array(['?', 'J', '8', '@'], dtype='<U1')"
      ]
     },
     "execution_count": 82,
     "metadata": {},
     "output_type": "execute_result"
    }
   ],
   "source": [
    "qc_scores_array[:, 1]# position 1 scores of all sequences"
   ]
  },
  {
   "cell_type": "code",
   "execution_count": 83,
   "id": "092f6335",
   "metadata": {},
   "outputs": [
    {
     "data": {
      "text/plain": [
       "array([[29, 30, 37, 30, 31, 21, 27, 34, 27, 39, 37, 30, 27, 23, 20, 19,\n",
       "        23, 21, 33, 26, 23, 20, 25, 23, 19, 23, 23, 14, 17, 14],\n",
       "       [31, 41, 31, 39, 31, 29, 33, 24, 25, 33, 26, 27, 35, 28, 28, 25,\n",
       "        27, 26, 25, 11, 27, 25, 25, 30, 19, 21, 18, 12, 11, 11],\n",
       "       [28, 23, 23, 26, 24, 24, 21, 18, 22, 31, 20, 11, 19, 21, 21, 19,\n",
       "        12, 21, 20,  8, 14, 30, 19, 12, 17, 10,  8,  3,  8,  3],\n",
       "       [27, 31, 33, 38, 36, 31, 23, 34, 24, 28, 33, 24, 25, 33, 27, 29,\n",
       "        29, 29, 22, 30, 33, 29, 22, 25, 15, 17, 10, 18, 18, 13]])"
      ]
     },
     "execution_count": 83,
     "metadata": {},
     "output_type": "execute_result"
    }
   ],
   "source": [
    "# but we need to convert each qc character to numeric value\n",
    "\n",
    "qc_scores_array = list()\n",
    "\n",
    "for qc in qc_scores:\n",
    "    qc = [phred(char) for char in qc]\n",
    "    qc_scores_array.append(np.array(list(qc)))\n",
    "    \n",
    "qc_scores_array = np.array(qc_scores_array)\n",
    "\n",
    "qc_scores_array"
   ]
  },
  {
   "cell_type": "code",
   "execution_count": 84,
   "id": "632040a0",
   "metadata": {},
   "outputs": [
    {
     "data": {
      "text/plain": [
       "17"
      ]
     },
     "execution_count": 84,
     "metadata": {},
     "output_type": "execute_result"
    }
   ],
   "source": [
    "# then we can calculate mean scores at each position\n",
    "# and directly count if it is below than threshold without any storing\n",
    "\n",
    "counter = 0\n",
    "\n",
    "for position in range(read_len):\n",
    "    mean_score_of_position = np.mean(qc_scores_array[:, position])\n",
    "    if mean_score_of_position < 26:\n",
    "        counter += 1\n",
    "        \n",
    "counter"
   ]
  },
  {
   "cell_type": "code",
   "execution_count": 85,
   "id": "78bb78a1",
   "metadata": {},
   "outputs": [
    {
     "data": {
      "text/plain": [
       "17"
      ]
     },
     "execution_count": 85,
     "metadata": {},
     "output_type": "execute_result"
    }
   ],
   "source": [
    "# or \n",
    "# we can can create the transpose of the array and get mean for each row\n",
    "\n",
    "counter = 0\n",
    "\n",
    "for position in range(read_len):\n",
    "    mean_score_of_position = np.mean(qc_scores_array.T[position])\n",
    "    if mean_score_of_position < 26:\n",
    "        counter += 1\n",
    "        \n",
    "counter"
   ]
  },
  {
   "cell_type": "markdown",
   "id": "b5086f55",
   "metadata": {},
   "source": [
    "### --A Simple Speed Test"
   ]
  },
  {
   "cell_type": "code",
   "execution_count": 49,
   "id": "a5ba5e8c",
   "metadata": {},
   "outputs": [],
   "source": [
    "# create a larger file\n",
    "# 500k dna sequences\n",
    "\n",
    "import random\n",
    "random.seed(59)\n",
    "\n",
    "test_file = open('bphr_speed_test.fastq', 'w')\n",
    "\n",
    "test_file.write('26\\n')\n",
    "\n",
    "for i in range(500000):\n",
    "    test_file.write(f'@Rosalind_sequence_name{i}\\n')\n",
    "    test_file.write(f\"{''.join(random.choices('ACGT', k = 150))}\\n\")\n",
    "    test_file.write('+\\n')\n",
    "    test_file.write(f\"{''.join(random.choices('7?/9$@2.->4H8C:GF,D3;=)+56BJE0<', k = 150))}\\n\")\n",
    "    \n",
    "test_file.close()"
   ]
  },
  {
   "cell_type": "code",
   "execution_count": 50,
   "id": "8c2389b5",
   "metadata": {},
   "outputs": [],
   "source": [
    "# option 1"
   ]
  },
  {
   "cell_type": "code",
   "execution_count": 65,
   "id": "41c139eb",
   "metadata": {},
   "outputs": [
    {
     "name": "stdout",
     "output_type": "stream",
     "text": [
      "11.5 s ± 43.8 ms per loop (mean ± std. dev. of 7 runs, 15 loops each)\n"
     ]
    }
   ],
   "source": [
    "%%timeit -n 15\n",
    "\n",
    "qc_scores = list()\n",
    "\n",
    "###\n",
    "with open('bphr_speed_test.fastq', 'r') as file:   \n",
    "    threshold = int(file.readline().rstrip())\n",
    "    while True:\n",
    "        if len(file.readline()) == 0:\n",
    "            break\n",
    "        file.readline()\n",
    "        file.readline()\n",
    "        qc_score = file.readline().rstrip()\n",
    "        qc_scores.append(qc_score)\n",
    "\n",
    "###\n",
    "def phred(qcChar):\n",
    "    qcNum = ord(qcChar) - 33\n",
    "    return qcNum\n",
    "\n",
    "###\n",
    "counter = 0\n",
    "\n",
    "read_len = len(qc_scores[0]) \n",
    "read_num = len(qc_scores) \n",
    "\n",
    "for position_i in range(read_len): \n",
    "    position_i_scores = [] \n",
    "    for nthRead in range(read_num): \n",
    "        position_i_scores.append(phred(qc_scores[nthRead][position_i])) \n",
    "    sum_position_i_scores = sum(position_i_scores) \n",
    "    mean_position_i_scores = sum_position_i_scores / read_num \n",
    "    if mean_position_i_scores < threshold:\n",
    "        counter += 1"
   ]
  },
  {
   "cell_type": "code",
   "execution_count": 66,
   "id": "0ed0cbd3",
   "metadata": {},
   "outputs": [],
   "source": [
    "# option 2"
   ]
  },
  {
   "cell_type": "code",
   "execution_count": 67,
   "id": "2b000b31",
   "metadata": {},
   "outputs": [
    {
     "name": "stdout",
     "output_type": "stream",
     "text": [
      "12 s ± 57.5 ms per loop (mean ± std. dev. of 7 runs, 15 loops each)\n"
     ]
    }
   ],
   "source": [
    "%%timeit -n 15\n",
    "\n",
    "import numpy as np\n",
    "\n",
    "###\n",
    "def phred(qcChar):\n",
    "    qcNum = ord(qcChar) - 33\n",
    "    return qcNum\n",
    "\n",
    "###\n",
    "qc_scores = list()\n",
    "\n",
    "with open('bphr_speed_test.fastq', 'r') as file:   \n",
    "    threshold = int(file.readline().rstrip())\n",
    "    while True:\n",
    "        if len(file.readline()) == 0:\n",
    "            break\n",
    "        file.readline()\n",
    "        file.readline()\n",
    "        qc_score = file.readline().rstrip()\n",
    "        qc = np.array([phred(char) for char in qc_score])\n",
    "        qc_scores.append(qc)\n",
    "\n",
    "###    \n",
    "qc_scores_array = np.array(qc_scores)\n",
    "\n",
    "###\n",
    "counter = 0\n",
    "read_len = len(qc_scores[0])\n",
    "\n",
    "for position in range(read_len):\n",
    "    mean_score_of_position = np.mean(qc_scores_array[:, position])\n",
    "    if mean_score_of_position < threshold:\n",
    "        counter += 1"
   ]
  },
  {
   "cell_type": "markdown",
   "id": "8db5735e",
   "metadata": {},
   "source": [
    "# 3. Implementation"
   ]
  },
  {
   "cell_type": "code",
   "execution_count": 86,
   "id": "608fd526",
   "metadata": {},
   "outputs": [],
   "source": [
    "def phred(qcChar):\n",
    "    \n",
    "    '''\n",
    "    input\n",
    "        an ascii char\n",
    "    process\n",
    "        converts char to a numerical value using phred -33 scale\n",
    "    output\n",
    "        an integer\n",
    "    '''\n",
    "    \n",
    "    # convert char to number based on ascii table\n",
    "    numeric_qc = ord(qcChar) - 33\n",
    "    \n",
    "    # return\n",
    "    return numeric_qc"
   ]
  },
  {
   "cell_type": "code",
   "execution_count": 87,
   "id": "4afad659",
   "metadata": {},
   "outputs": [],
   "source": [
    "def bphr(filename):\n",
    "    \n",
    "    '''\n",
    "    input\n",
    "        a file containing a threshold and fastq reads\n",
    "    process\n",
    "        calculates mean qc score at each position across all reads\n",
    "    output\n",
    "        number of positions that have mean qc below threshold\n",
    "        prints answer to console and writes to a file\n",
    "    '''\n",
    "    \n",
    "    # initiate a list to keep track of qc scores of each read\n",
    "    qc_scores = list()\n",
    "\n",
    "    # read and parse input file - populate qc_scores\n",
    "    with open(filename, 'r') as file:   \n",
    "        threshold = int(file.readline().rstrip())\n",
    "        while True:\n",
    "            if len(file.readline()) == 0:\n",
    "                break\n",
    "            file.readline()\n",
    "            file.readline()\n",
    "            qc_score = file.readline().rstrip()\n",
    "            qc_scores.append(qc_score)\n",
    "            \n",
    "    # loop over each position in each read\n",
    "    # calculate mean qc at each position across all reads\n",
    "    # compare mean qc with input threshold\n",
    "    counter = 0\n",
    "\n",
    "    read_len = len(qc_scores[0]) \n",
    "    read_num = len(qc_scores) \n",
    "\n",
    "    for position_i in range(read_len): \n",
    "        position_i_scores = [] \n",
    "        for nthRead in range(read_num): \n",
    "            position_i_scores.append(phred(qc_scores[nthRead][position_i]))  \n",
    "        mean_position_i_scores = sum(position_i_scores) / read_num \n",
    "        if mean_position_i_scores < threshold:\n",
    "            counter += 1\n",
    "            \n",
    "    # print answer to console\n",
    "    print('\\n\\x1B[1mANSWER\\x1B[0m\\n______\\n')\n",
    "    print(f'{counter}')\n",
    "    \n",
    "    # open file and write answer\n",
    "    file = open(f'{filename.split(\".\")[0]}_answer.txt', 'w')\n",
    "    file.write(f'{counter}')\n",
    "    file.close()\n",
    "    print('\\n\\n#! The answer has been written into the file:',\n",
    "          f'\\x1B[1m./{filename.split(\".\")[0]}_answer.txt\\x1B[0m\\n')"
   ]
  },
  {
   "cell_type": "markdown",
   "id": "c65ae6fa",
   "metadata": {},
   "source": [
    "# 4. Execution"
   ]
  },
  {
   "cell_type": "code",
   "execution_count": 88,
   "id": "2350cdd5",
   "metadata": {
    "scrolled": true
   },
   "outputs": [
    {
     "name": "stdout",
     "output_type": "stream",
     "text": [
      "\n",
      "\u001b[1mANSWER\u001b[0m\n",
      "______\n",
      "\n",
      "17\n",
      "\n",
      "\n",
      "#! The answer has been written into the file: \u001b[1m./bphr_test_answer.txt\u001b[0m\n",
      "\n"
     ]
    }
   ],
   "source": [
    "bphr('bphr_test.txt')"
   ]
  },
  {
   "cell_type": "code",
   "execution_count": 89,
   "id": "0ce024cc",
   "metadata": {},
   "outputs": [
    {
     "name": "stdout",
     "output_type": "stream",
     "text": [
      "\n",
      "\u001b[1mANSWER\u001b[0m\n",
      "______\n",
      "\n",
      "7\n",
      "\n",
      "\n",
      "#! The answer has been written into the file: \u001b[1m./rosalind_bphr_2_dataset_answer.txt\u001b[0m\n",
      "\n"
     ]
    }
   ],
   "source": [
    "bphr('rosalind_bphr_2_dataset.txt') # 7"
   ]
  },
  {
   "cell_type": "code",
   "execution_count": 90,
   "id": "da5eff66",
   "metadata": {},
   "outputs": [
    {
     "name": "stdout",
     "output_type": "stream",
     "text": [
      "\n",
      "\u001b[1mANSWER\u001b[0m\n",
      "______\n",
      "\n",
      "80\n",
      "\n",
      "\n",
      "#! The answer has been written into the file: \u001b[1m./rosalind_bphr_answer.txt\u001b[0m\n",
      "\n"
     ]
    }
   ],
   "source": [
    "bphr('rosalind_bphr.txt')"
   ]
  },
  {
   "cell_type": "markdown",
   "id": "8db6a051",
   "metadata": {},
   "source": [
    "<p style='text-align: right;'>\n",
    "    <!--<b><font size = '5'>Contact</font></b><br>-->\n",
    "    <b>Orcun Tasar</b><br>\n",
    "    <i>Bioinformatician / Data Scientist</i><br>\n",
    "    orcuntasar |at@| ogr.iu.edu.tr<br>\n",
    "    tasar.orcun |at@| gmail.com<br>\n",
    "    <a href = 'https://www.linkedin.com/in/orçun-taşar-7b5992a1/'>Linkedin</a> | <a href = 'https://www.instagram.com/shatranuchor/'>Instagram</a>\n",
    "</p>"
   ]
  }
 ],
 "metadata": {
  "kernelspec": {
   "display_name": "thesis",
   "language": "python",
   "name": "thesis"
  },
  "language_info": {
   "codemirror_mode": {
    "name": "ipython",
    "version": 3
   },
   "file_extension": ".py",
   "mimetype": "text/x-python",
   "name": "python",
   "nbconvert_exporter": "python",
   "pygments_lexer": "ipython3",
   "version": "3.8.15"
  }
 },
 "nbformat": 4,
 "nbformat_minor": 5
}
