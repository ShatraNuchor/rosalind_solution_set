{
 "cells": [
  {
   "cell_type": "markdown",
   "id": "b76d999e",
   "metadata": {},
   "source": [
    "# 1. Source"
   ]
  },
  {
   "cell_type": "markdown",
   "id": "934b63f0",
   "metadata": {},
   "source": [
    "Click on the link to go to the source web page of **Rosalind**: [Pairwise Global Alignment](https://rosalind.info/problems/need/)"
   ]
  },
  {
   "cell_type": "markdown",
   "id": "c21eed56",
   "metadata": {},
   "source": [
    " ![Pairwise Global Alignment](need_problem.png \"Pairwise Global Alignment\")"
   ]
  },
  {
   "cell_type": "markdown",
   "id": "a5fbe12c",
   "metadata": {},
   "source": [
    "**Sample Dataset**\n",
    "\n",
    "JX205496.1 JX469991.1"
   ]
  },
  {
   "cell_type": "markdown",
   "id": "9664d60f",
   "metadata": {},
   "source": [
    "**Sample Output**\n",
    "\n",
    "257"
   ]
  },
  {
   "cell_type": "markdown",
   "id": "b98c37f1",
   "metadata": {},
   "source": [
    "# 2. Workspace"
   ]
  },
  {
   "cell_type": "code",
   "execution_count": 1,
   "id": "739eff0f",
   "metadata": {},
   "outputs": [
    {
     "name": "stdout",
     "output_type": "stream",
     "text": [
      "JX205496.1\n",
      "JX469991.1\n"
     ]
    }
   ],
   "source": [
    "# read and parse the input file\n",
    "\n",
    "with open('need_test.txt', 'r') as file:\n",
    "    ids = file.readline().strip().split()\n",
    "    \n",
    "id1 = ids[0]\n",
    "id2 = ids[1]\n",
    "\n",
    "# print\n",
    "\n",
    "print(id1)\n",
    "print(id2)"
   ]
  },
  {
   "cell_type": "code",
   "execution_count": 2,
   "id": "da90aaea",
   "metadata": {},
   "outputs": [],
   "source": [
    "# query the nucleotides associated with ids\n",
    "\n",
    "from Bio import Entrez\n",
    "Entrez.email = 'tasar.orcun@gmail.com'\n",
    "\n",
    "handle = Entrez.efetch(db = 'nucleotide', id = [id1, id2] , retmode = 'xml', rettype = 'gb')\n",
    "records = Entrez.parse(handle)\n",
    "\n",
    "seqs = list()\n",
    "\n",
    "for record in records:\n",
    "    seqs.append(record['GBSeq_sequence'])\n",
    "    \n",
    "handle.close()"
   ]
  },
  {
   "cell_type": "code",
   "execution_count": 3,
   "id": "0a36ea84",
   "metadata": {},
   "outputs": [
    {
     "name": "stdout",
     "output_type": "stream",
     "text": [
      "attctttcctgtttccctctctgccctccctctctctccccaccatcttctctctttatttgaaaccaatggcaatggattcttgaggtaagaaccagcgctcccttcctcttgccgcttcatacagaaagaaacagacgagaagcatcgaacctatcagcttagcggccaaacacaattccagtcacagagagcaacagaggaggacatgatggagccgaaggaaaagatgggaaggggaaagatagagataaagaggatagaaaataccacgaacaggcaagtcaccttttgtaagcgccgcaatggccttctcaaaaaagcctacgagctctctgtcctctgcgacgccgaggtcgccctcgtcatcttctccacccgtggccgcctctacgagtatgccaataacagtgtaaagggcactatcgagcgttacaagaaagcaagcagtgataactccagttctggatcaatatctgcaacaaatgcgcagtattatcttcaagaagcctcaaaacttcgacagcaaatcacaagcttacagaattcaaacagacatctgatgggtgaggctctaagcaccatgaacctaagggacttgaagcagctggaatcaaggctagaaaaaggcatcaacaaaataagaaccaaaaagaatgagttgctatatgctgagatagagtacatgcaaaaaagggaggtggaacttcaaaacgacaacatgtacctccgaaataagatagctgataatgaaagatcacagcagcagcaacacatgaacatgatgccatcaacaagcactgattatgaaatgatgcctccctttgactccagaaacttcctgcaagtgaatctaatggatcccaacagtcactactctctccagcagcaaactgcccttcaattaggctaggtagcattactgctgcattcctggagctgcatgaagaaggagaagcttcctccatggaaacttcattatgccaactattatagttggtgtgaattgggaatagcaggtttttctccactacagttcatgtgatgactctatcctatgctaactattatacgtcattatgctatatatgttggacacattgagaactttgttgtatattaatcaaactctatgtttagtttgcatgtaaaaaaaaaaaaaaaaaaaaaa\n"
     ]
    }
   ],
   "source": [
    "# check sequences\n",
    "\n",
    "s1 = seqs[0]\n",
    "print(s1)"
   ]
  },
  {
   "cell_type": "code",
   "execution_count": 4,
   "id": "8ffa584b",
   "metadata": {},
   "outputs": [
    {
     "name": "stdout",
     "output_type": "stream",
     "text": [
      "atggaagcctccgccggctcgtcgccaccgcactcccaagagaacccgccggagcacggtggcgacatgggaggggcccccgcggaggagatcggaggggaggcggcggatgatttcatgttcgctgaagacacgttcccctccctcccggacttcccttgcctttcgtcgccgtccagctccaccttctcgtccaactcctcgtcaaactcctccagcgcctacaccaacacggcaggaagagccggcggcgagccctccgagcctgcttcggccggagaagggtttgatgcgctcgatgacatcgaccagctcctcgacttcgcgtcgctttccatgccgtgggactccgagccgttcccgggggttagcatgatgctagagaacgccatgtcggcgccgccgcagccggtgggcgacggcatgagtgaagagaaagccgtgccggaagggaccacagggggagaggaggcctgcatggatgcgtcggagggggaggagctgccgcggttcttcatggagtggctcacgagcaaccgcgaaaacatctcggccgaggatctccgcgggatccgcctccgccgctccaccatcgaggccgccgccgcccggctcggcggcgggcgccagggcaccatgcagctgctcaagctcatcctcacctgggtgcagaaccaccacctccagaggaagcgcccgcgcgacgtgatggaggaggaggcgggcctgcacgtccagctccccagcccggtcgccaacccaccaggatacgagttccccgccggcggacaggacatggccgcgggcggcggcacatcttggatgccccaccagcaggcattcacgccgcctgctgcgtacggcggcgacgcggtgtacccgagcgcggcaggccaacagtactctttccaccagggccccagcacgagcagcgtggtcgtgaacagccaaccgttctccccgccgcctgtgggcgacatgcacggcgcgaacatggcctggccgcagcagtacgtgccgttcccaccgcctggggcttccacgggctcttaccctatgccgcagccgttctcccccggattcggcgggcagtacgccggcgccggcgctggccacctctcagtggccccccagcgcatggcaggcgtggaggcctcggcgaccaaggaggcccgcaagaagcgcatggcgagacagcggcgcctgtcctgcctgcagcagcagcgcagccagcagctgagcctgggccagatccaggcctccgtccacctgcaggagccgtcccctcggtccacgcactccggcccggtcacgccgtcagcaggcggctggggattctggtcgccgagcagccagcagcaggtccagaacccgctctccaagtccaattcatcaagggcgccgcctccctcgctggaagcggcggcggtggcgccacagacaaagcccgcgcctgctggtgctcggcaggacgacattcaccaccgcctcgcagcggcttcagataagcggcagggcgccaaggcggacaagaacctgcggttcctgctgcagaaggtgctgaagcagagcgacgtcgggagcctcggccgcatcgtgctccccaaagaagcggaggttcacctgccggagctgaagacgagggatggcatctccatccccatggaggacatcggaacgtcgcgcgtgtggaacatgcggtacaggttttggcccaacaacaagagcagaatgtatctgctggagaacacaggggaatttgttcgttccaacgagcttcaggagggggatttcatagtgatctactccgatgtcaagtcgggcaaatatctgatacggggcgtgaaggtaaggcccccgccggcgcaagagcaaggcagtggttccagcgggggaggcaagcacaggcccctctgtccagcaggtccagggagagccgcagccgccggtgctcctgaagacgccgtcgtcgacggggtcagcggcgcctgcaaggggaggtctccggaaggcgtgcggcgggttcggcagcagggagccggcgccatgagccagatggcggtgagcatc\n"
     ]
    }
   ],
   "source": [
    "s2 = seqs[1]\n",
    "print(s2)"
   ]
  },
  {
   "cell_type": "code",
   "execution_count": 5,
   "id": "9fecf75f",
   "metadata": {},
   "outputs": [
    {
     "name": "stdout",
     "output_type": "stream",
     "text": [
      "########################################\r\n",
      "# Program: needle\r\n",
      "# Rundate: Fri 10 Mar 2023 16:32:51\r\n",
      "# Commandline: needle\r\n",
      "#    -asequence asis:attctttcctgtttccctctctgccctccctctctctccccaccatcttctctctttatttgaaaccaatggcaatggattcttgaggtaagaaccagcgctcccttcctcttgccgcttcatacagaaagaaacagacgagaagcatcgaacctatcagcttagcggccaaacacaattccagtcacagagagcaacagaggaggacatgatggagccgaaggaaaagatgggaaggggaaagatagagataaagaggatagaaaataccacgaacaggcaagtcaccttttgtaagcgccgcaatggccttctcaaaaaagcctacgagctctctgtcctctgcgacgccgaggtcgccctcgtcatcttctccacccgtggccgcctctacgagtatgccaataacagtgtaaagggcactatcgagcgttacaagaaagcaagcagtgataactccagttctggatcaatatctgcaacaaatgcgcagtattatcttcaagaagcctcaaaacttcgacagcaaatcacaagcttacagaattcaaacagacatctgatgggtgaggctctaagcaccatgaacctaagggacttgaagcagctggaatcaaggctagaaaaaggcatcaacaaaataagaaccaaaaagaatgagttgctatatgctgagatagagtacatgcaaaaaagggaggtggaacttcaaaacgacaacatgtacctccgaaataagatagctgataatgaaagatcacagcagcagcaacacatgaacatgatgccatcaacaagcactgattatgaaatgatgcctccctttgactccagaaacttcctgcaagtgaatctaatggatcccaacagtcactactctctccagcagcaaactgcccttcaattaggctaggtagcattactgctgcattcctggagctgcatgaagaaggagaagcttcctccatggaaacttcattatgccaactattatagttggtgtgaattgggaatagcaggtttttctccactacagttcatgtgatgactctatcctatgctaactattatacgtcattatgctatatatgttggacacattgagaactttgttgtatattaatcaaactctatgtttagtttgcatgtaaaaaaaaaaaaaaaaaaaaaa\r\n",
      "#    -bsequence asis:atggaagcctccgccggctcgtcgccaccgcactcccaagagaacccgccggagcacggtggcgacatgggaggggcccccgcggaggagatcggaggggaggcggcggatgatttcatgttcgctgaagacacgttcccctccctcccggacttcccttgcctttcgtcgccgtccagctccaccttctcgtccaactcctcgtcaaactcctccagcgcctacaccaacacggcaggaagagccggcggcgagccctccgagcctgcttcggccggagaagggtttgatgcgctcgatgacatcgaccagctcctcgacttcgcgtcgctttccatgccgtgggactccgagccgttcccgggggttagcatgatgctagagaacgccatgtcggcgccgccgcagccggtgggcgacggcatgagtgaagagaaagccgtgccggaagggaccacagggggagaggaggcctgcatggatgcgtcggagggggaggagctgccgcggttcttcatggagtggctcacgagcaaccgcgaaaacatctcggccgaggatctccgcgggatccgcctccgccgctccaccatcgaggccgccgccgcccggctcggcggcgggcgccagggcaccatgcagctgctcaagctcatcctcacctgggtgcagaaccaccacctccagaggaagcgcccgcgcgacgtgatggaggaggaggcgggcctgcacgtccagctccccagcccggtcgccaacccaccaggatacgagttccccgccggcggacaggacatggccgcgggcggcggcacatcttggatgccccaccagcaggcattcacgccgcctgctgcgtacggcggcgacgcggtgtacccgagcgcggcaggccaacagtactctttccaccagggccccagcacgagcagcgtggtcgtgaacagccaaccgttctccccgccgcctgtgggcgacatgcacggcgcgaacatggcctggccgcagcagtacgtgccgttcccaccgcctggggcttccacgggctcttaccctatgccgcagccgttctcccccggattcggcgggcagtacgccggcgccggcgctggccacctctcagtggccccccagcgcatggcaggcgtggaggcctcggcgaccaaggaggcccgcaagaagcgcatggcgagacagcggcgcctgtcctgcctgcagcagcagcgcagccagcagctgagcctgggccagatccaggcctccgtccacctgcaggagccgtcccctcggtccacgcactccggcccggtcacgccgtcagcaggcggctggggattctggtcgccgagcagccagcagcaggtccagaacccgctctccaagtccaattcatcaagggcgccgcctccctcgctggaagcggcggcggtggcgccacagacaaagcccgcgcctgctggtgctcggcaggacgacattcaccaccgcctcgcagcggcttcagataagcggcagggcgccaaggcggacaagaacctgcggttcctgctgcagaaggtgctgaagcagagcgacgtcgggagcctcggccgcatcgtgctccccaaagaagcggaggttcacctgccggagctgaagacgagggatggcatctccatccccatggaggacatcggaacgtcgcgcgtgtggaacatgcggtacaggttttggcccaacaacaagagcagaatgtatctgctggagaacacaggggaatttgttcgttccaacgagcttcaggagggggatttcatagtgatctactccgatgtcaagtcgggcaaatatctgatacggggcgtgaaggtaaggcccccgccggcgcaagagcaaggcagtggttccagcgggggaggcaagcacaggcccctctgtccagcaggtccagggagagccgcagccgccggtgctcctgaagacgccgtcgtcgacggggtcagcggcgcctgcaaggggaggtctccggaaggcgtgcggcgggttcggcagcagggagccggcgccatgagccagatggcggtgagcatc\r\n",
      "#    -stdout\r\n",
      "#    -auto\r\n",
      "#    -gapextend 1.0\r\n",
      "#    -endweight\r\n",
      "#    -endopen 10.0\r\n",
      "#    -endextend 1.0\r\n",
      "# Align_format: srspair\r\n",
      "# Report_file: stdout\r\n",
      "########################################\r\n",
      "\r\n",
      "#=======================================\r\n",
      "#\r\n",
      "# Aligned_sequences: 2\r\n",
      "# 1: asis\r\n",
      "# 2: asis\r\n",
      "# Matrix: EDNAFULL\r\n",
      "# Gap_penalty: 10.0\r\n",
      "# Extend_penalty: 1.0\r\n",
      "#\r\n",
      "# Length: 2191\r\n",
      "# Identity:     780/2191 (35.6%)\r\n",
      "# Similarity:   780/2191 (35.6%)\r\n",
      "# Gaps:        1141/2191 (52.1%)\r\n",
      "# Score: 257.0\r\n",
      "# \r\n",
      "#\r\n",
      "#=======================================\r\n",
      "\r\n",
      "asis               1 at-------tc---------------------------------------      4\r\n",
      "                     ||       ||                                       \r\n",
      "asis               1 atggaagcctccgccggctcgtcgccaccgcactcccaagagaacccgcc     50\r\n",
      "\r\n",
      "asis               4 --------------------------------------------------      4\r\n",
      "                                                                       \r\n",
      "asis              51 ggagcacggtggcgacatgggaggggcccccgcggaggagatcggagggg    100\r\n",
      "\r\n",
      "asis               5 -------------tttcctgtt-------------------tccctctct     22\r\n",
      "                                  ||||.||||                   ||||||.|.\r\n",
      "asis             101 aggcggcggatgatttcatgttcgctgaagacacgttcccctccctcccg    150\r\n",
      "\r\n",
      "asis              23 gccctccct---ctctc-------tcc----ccaccatct--------tc     50\r\n",
      "                     |.|.|||||   ||.||       |||    |||||.|||        ||\r\n",
      "asis             151 gacttcccttgcctttcgtcgccgtccagctccaccttctcgtccaactc    200\r\n",
      "\r\n",
      "asis              51 tctctttatttgaa----------------acca--atggcaatggattc     82\r\n",
      "                      |||.|.|    ||                ||||  |.||||        \r\n",
      "asis             201 -ctcgtca----aactcctccagcgcctacaccaacacggca--------    237\r\n",
      "\r\n",
      "asis              83 ttgaggtaagaacc-------agcgctcccttcct-ctt--gccgcttca    122\r\n",
      "                          |.||||.||       |||.||||...||| |||  ||||     \r\n",
      "asis             238 -----ggaagagccggcggcgagccctccgagcctgcttcggccg-----    277\r\n",
      "\r\n",
      "asis             123 tacagaa-----agaaacagacga-gaagcatcga--acct-atcagctt    163\r\n",
      "                       .||||     .||..|...||| ||  ||||||  |.|| .||..|||\r\n",
      "asis             278 --gagaagggtttgatgcgctcgatga--catcgaccagctcctcgactt    323\r\n",
      "\r\n",
      "asis             164 agcg--gccaaacacaattcca--------gtcacagag-----------    192\r\n",
      "                     .|||  ||        .|||||        |.|.|.|||           \r\n",
      "asis             324 cgcgtcgc--------tttccatgccgtgggactccgagccgttcccggg    365\r\n",
      "\r\n",
      "asis             193 ----agca-----acagaggaggacatgatggagccgaaggaaaagatgg    233\r\n",
      "                         ||||     ..||||.|.|.||||..||.||||..|.|...|.|||\r\n",
      "asis             366 ggttagcatgatgctagagaacgccatgtcggcgccgccgcagccggtgg    415\r\n",
      "\r\n",
      "asis             234 gaaggggaaaga-tagagataaagaggat---agaaaataccac------    273\r\n",
      "                     |....||.|.|| |..|||.||||..| |   .|||...|||||      \r\n",
      "asis             416 gcgacggcatgagtgaagagaaagccg-tgccggaagggaccacaggggg    464\r\n",
      "\r\n",
      "asis             274 -gaacaggcaagtcaccttttgtaagcgccgcaatg---------gcc--    311\r\n",
      "                      ||..||||..| ||     ||.|.|||.||.|..|         |||  \r\n",
      "asis             465 agaggaggcctg-ca-----tggatgcgtcggagggggaggagctgccgc    508\r\n",
      "\r\n",
      "asis             312 --ttct-------------------caa-----aaaa-------gcctac    328\r\n",
      "                       ||||                   |||     ||||       |||.|.\r\n",
      "asis             509 ggttcttcatggagtggctcacgagcaaccgcgaaaacatctcggccgag    558\r\n",
      "\r\n",
      "asis             329 gagctc-------tctgtcctctgcgacgc--------cgaggtcgcc--    361\r\n",
      "                     ||.|||       ||.| ||||  ||.|||        |||||.||||  \r\n",
      "asis             559 gatctccgcgggatccg-cctc--cgccgctccaccatcgaggccgccgc    605\r\n",
      "\r\n",
      "asis             362 -------ctcg------------------------------tca---tct    371\r\n",
      "                            ||||                              |||   ||.\r\n",
      "asis             606 cgcccggctcggcggcgggcgccagggcaccatgcagctgctcaagctca    655\r\n",
      "\r\n",
      "asis             372 tctccacccgtgg-----------ccgcctctacgagtatgc-------c    403\r\n",
      "                     ||..||||  |||           ||.||||.| |||.|.||       |\r\n",
      "asis             656 tcctcacc--tgggtgcagaaccaccacctcca-gaggaagcgcccgcgc    702\r\n",
      "\r\n",
      "asis             404 aa--taacagtgta-aagg-------gcactatcgagcgttacaag----    439\r\n",
      "                     .|  |.|..|.|.| .|||       |||| .||.||| |..|.||    \r\n",
      "asis             703 gacgtgatggaggaggaggcgggcctgcac-gtccagc-tccccagcccg    750\r\n",
      "\r\n",
      "asis             440 -----aaagcaagcagtgataactccagttc--------tggatca--at    474\r\n",
      "                          .||.|.|.||| ||||   |.|||||        .||| ||  |.\r\n",
      "asis             751 gtcgccaacccaccag-gata---cgagttccccgccggcgga-caggac    795\r\n",
      "\r\n",
      "asis             475 at------------ctgcaaca-----aatgc-------gcagtattatc    500\r\n",
      "                     ||            |.|| |||     .||||       ||||     .|\r\n",
      "asis             796 atggccgcgggcggcggc-acatcttggatgccccaccagcag-----gc    839\r\n",
      "\r\n",
      "asis             501 -ttcaagaagcct-------------------------------------    512\r\n",
      "                      ||||.|..||||                                     \r\n",
      "asis             840 attcacgccgcctgctgcgtacggcggcgacgcggtgtacccgagcgcgg    889\r\n",
      "\r\n",
      "asis             513 -----caaaa-----ctt--cgacag---caaatcacaagc---------    538\r\n",
      "                          |||.|     |||  |..|||   |..|.|||.|||         \r\n",
      "asis             890 caggccaacagtactctttccaccagggccccagcacgagcagcgtggtc    939\r\n",
      "\r\n",
      "asis             539 --ttacag--aa---ttcaaacagacatctgatgggtga-------ggct    574\r\n",
      "                       ..||||  ||   |||...|.|.|..||| ||||.||       |||.\r\n",
      "asis             940 gtgaacagccaaccgttctccccgccgcctg-tgggcgacatgcacggcg    988\r\n",
      "\r\n",
      "asis             575 ctaa------------gcacca----------------------------    584\r\n",
      "                     |.||            |||.||                            \r\n",
      "asis             989 cgaacatggcctggccgcagcagtacgtgccgttcccaccgcctggggct   1038\r\n",
      "\r\n",
      "asis             585 -----------tgaacctaag------------------ggactt-----    600\r\n",
      "                                |.|.||||.|                  ||| ||     \r\n",
      "asis            1039 tccacgggctcttaccctatgccgcagccgttctcccccgga-ttcggcg   1087\r\n",
      "\r\n",
      "asis             601 -gaagca-------------gctgg---------aat------------c    615\r\n",
      "                      |.||.|             |||||         |.|            |\r\n",
      "asis            1088 ggcagtacgccggcgccggcgctggccacctctcagtggccccccagcgc   1137\r\n",
      "\r\n",
      "asis             616 aaggc-----tagaaaaaggcatcaacaa--aataagaac--caaaaaga    656\r\n",
      "                     |.|||     |.|    ||||.||..|.|  ||..||..|  |||.||| \r\n",
      "asis            1138 atggcaggcgtgg----aggcctcggcgaccaaggaggcccgcaagaag-   1182\r\n",
      "\r\n",
      "asis             657 atgagttgctatatgctgagatagag----------tacatgca-aaaaa    695\r\n",
      "                           .||   |||..||||.||.|          |.|.|||| .|..|\r\n",
      "asis            1183 ------cgc---atggcgagacagcggcgcctgtcctgcctgcagcagca   1223\r\n",
      "\r\n",
      "asis             696 g--------ggaggtggaactt----caaa---------acgacaacatg    724\r\n",
      "                     |        |.||.| ||.|.|    ||.|         .||.|.||.||\r\n",
      "asis            1224 gcgcagccagcagct-gagcctgggccagatccaggcctccgtccacctg   1272\r\n",
      "\r\n",
      "asis             725 ta----------cct---------------------------ccgaaata    737\r\n",
      "                     .|          |||                           |||..|..\r\n",
      "asis            1273 caggagccgtcccctcggtccacgcactccggcccggtcacgccgtcagc   1322\r\n",
      "\r\n",
      "asis             738 agatagct---gataatgaaagatcac--agcag-cagcaaca----cat    777\r\n",
      "                     ||...|||   |||..|    |.||.|  ||||| |||||.||    || \r\n",
      "asis            1323 aggcggctggggattct----ggtcgccgagcagccagcagcaggtcca-   1367\r\n",
      "\r\n",
      "asis             778 gaacatgatgcc-atcaacaag--cactgatt-atgaa--atgatgcctc    821\r\n",
      "                     ||||      || .||..||||  ||   ||| ||.||  ..|..|||||\r\n",
      "asis            1368 gaac------ccgctctccaagtcca---attcatcaagggcgccgcctc   1408\r\n",
      "\r\n",
      "asis             822 cct-----------------ttgactccagaaac--------ttcctgca    846\r\n",
      "                     |||                 .||.|.|||.|.||        ..|||||.\r\n",
      "asis            1409 cctcgctggaagcggcggcggtggcgccacagacaaagcccgcgcctgct   1458\r\n",
      "\r\n",
      "asis             847 agtgaatctaatggatcccaacagtcactactctctc-cagcagc-----    890\r\n",
      "                     .||| .||....|||   |.|||.||||.||...||| ||||.||     \r",
      "\r\n",
      "asis            1459 ggtg-ctcggcagga---cgacattcaccaccgcctcgcagcggcttcag   1504\r\n",
      "\r\n",
      "asis             891 -----------------------------aaactgcccttc---------    902\r\n",
      "                                                  ||.||||..|||         \r\n",
      "asis            1505 ataagcggcagggcgccaaggcggacaagaacctgcggttcctgctgcag   1554\r\n",
      "\r\n",
      "asis             903 aa-----ttaggc---------taggtagcattactgctgcat-----tc    933\r\n",
      "                     ||     |.|.||         |.||.|||.|  |.||.||||     ||\r\n",
      "asis            1555 aaggtgctgaagcagagcgacgtcgggagcct--cggccgcatcgtgctc   1602\r\n",
      "\r\n",
      "asis             934 c---------tggag------ctgc-----atgaaga--aggagaag---    958\r\n",
      "                     |         .||||      ||||     .||||||  ||| ||.|   \r\n",
      "asis            1603 cccaaagaagcggaggttcacctgccggagctgaagacgagg-gatggca   1651\r\n",
      "\r\n",
      "asis             959 ----cttcctccatgga---------aacttc----------attatg--    983\r\n",
      "                         |.||| |||||||         |||.||          |..|||  \r\n",
      "asis            1652 tctccatcc-ccatggaggacatcggaacgtcgcgcgtgtggaacatgcg   1700\r\n",
      "\r\n",
      "asis             984 --------------ccaactattatagttg-gtgtgaat----tgg-gaa   1013\r\n",
      "                                   |||||.|..|.||..| .|||  ||    ||| |||\r\n",
      "asis            1701 gtacaggttttggcccaacaacaagagcagaatgt--atctgctggagaa   1748\r\n",
      "\r\n",
      "asis            1014 tagcagg-----tttttc--tcca-----ctacag---------ttcat-   1041\r\n",
      "                     .| ||||     ||.|||  ||||     ||.|||         ||||| \r\n",
      "asis            1749 ca-caggggaatttgttcgttccaacgagcttcaggagggggatttcata   1797\r\n",
      "\r\n",
      "asis            1042 gtgatgactcta-tcctatgct----------aacta--ttatac--gtc   1076\r\n",
      "                     ||||    |||| |||.||| |          ||.||  |.||||  |.|\r\n",
      "asis            1798 gtga----tctactccgatg-tcaagtcgggcaaatatctgatacggggc   1842\r\n",
      "\r\n",
      "asis            1077 attatgcta----------------tata---------tgtt--------   1093\r\n",
      "                     .|.|.|.||                .|.|         ||.|        \r\n",
      "asis            1843 gtgaaggtaaggcccccgccggcgcaagagcaaggcagtggttccagcgg   1892\r\n",
      "\r\n",
      "asis            1094 -ggacacattgagaa-------ctttgt----------------------   1113\r\n",
      "                      |||..||   ||.|       ||.|||                      \r\n",
      "asis            1893 gggaggca---agcacaggcccctctgtccagcaggtccagggagagccg   1939\r\n",
      "\r\n",
      "asis            1114 ----------tgtatattaa-------------------tca--------   1126\r\n",
      "                               ||....|.||                   |||        \r\n",
      "asis            1940 cagccgccggtgctcctgaagacgccgtcgtcgacggggtcagcggcgcc   1989\r\n",
      "\r\n",
      "asis            1127 ---aa--------ctc---------tatgtttagtttg------------   1144\r\n",
      "                        ||        |||         |..|....|||.|            \r\n",
      "asis            1990 tgcaaggggaggtctccggaaggcgtgcggcgggttcggcagcagggagc   2039\r\n",
      "\r\n",
      "asis            1145 ------catgtaaaaaaaaaaaaaaaa--------aaaaaa   1171\r\n",
      "                           ||||          |...|.|        |..|..\r\n",
      "asis            2040 cggcgccatg----------agccagatggcggtgagcatc   2070\r\n",
      "\r\n",
      "\r\n",
      "#---------------------------------------\r\n",
      "#---------------------------------------\r\n"
     ]
    }
   ],
   "source": [
    "# for pairwise global alignment with Needleman-Wunsch algorithm\n",
    "# Needle from Emboss package\n",
    "\n",
    "!needle -asequence asis:$s1 -bsequence asis:$s2 -stdout -auto -gapextend 1.0 -endweight -endopen 10.0 -endextend 1.0"
   ]
  },
  {
   "cell_type": "code",
   "execution_count": 6,
   "id": "e294c06f",
   "metadata": {},
   "outputs": [
    {
     "data": {
      "text/plain": [
       "0"
      ]
     },
     "execution_count": 6,
     "metadata": {},
     "output_type": "execute_result"
    }
   ],
   "source": [
    "import subprocess\n",
    "\n",
    "command = f'needle -asequence asis:{s1} -bsequence asis:{s2} -stdout -auto -gapextend {1.0} -endweight -endopen {10.0} -endextend {1.0} -outfile deneme'\n",
    "\n",
    "subprocess.call(command, shell = True)"
   ]
  },
  {
   "cell_type": "code",
   "execution_count": 7,
   "id": "e3c36f61",
   "metadata": {},
   "outputs": [
    {
     "data": {
      "text/plain": [
       "0"
      ]
     },
     "execution_count": 7,
     "metadata": {},
     "output_type": "execute_result"
    }
   ],
   "source": [
    "# subprocess might be more structural to do that\n",
    "# this time the output will be written in a file: needleman_alignment.txt\n",
    "\n",
    "import subprocess\n",
    "\n",
    "asequence = f'-asequence asis:{s1}'\n",
    "bsequence = f'-bsequence asis:{s2}'\n",
    "auto = '-auto -stdout'\n",
    "stdout = '-stdout'\n",
    "penalties = f'-gapextend {1.0} -gapopen{10.0} -endweight -endopen {10.0} -endextend {1.0}'\n",
    "\n",
    "command = f'''\\\n",
    "needle -asequence asis:{s1} -bsequence asis:{s2} \\\n",
    "-stdout -auto \\\n",
    "-gapextend {1.0} -endweight -endopen {10.0} -endextend {1.0} \\\n",
    "-outfile needle_alignment.txt\\\n",
    "'''\n",
    "\n",
    "subprocess.call(command, shell = True)"
   ]
  },
  {
   "cell_type": "code",
   "execution_count": 8,
   "id": "c0d8ddfa",
   "metadata": {},
   "outputs": [
    {
     "data": {
      "text/plain": [
       "['257.0']"
      ]
     },
     "execution_count": 8,
     "metadata": {},
     "output_type": "execute_result"
    }
   ],
   "source": [
    "# If I open the output file which is needleman_alignment.txt\n",
    "\n",
    "file = open('needle_alignment.txt', 'r')\n",
    "content = file.read() \n",
    "file.close()\n",
    "\n",
    "# using regex; I can access the score\n",
    "\n",
    "import re\n",
    "\n",
    "# '# Score: 257.0'\n",
    "\n",
    "pattern = r'# Score:\\s(\\d+\\.\\d*)'\n",
    "re.findall(pattern, content)"
   ]
  },
  {
   "cell_type": "code",
   "execution_count": 9,
   "id": "c75f8b91",
   "metadata": {},
   "outputs": [
    {
     "data": {
      "text/plain": [
       "257"
      ]
     },
     "execution_count": 9,
     "metadata": {},
     "output_type": "execute_result"
    }
   ],
   "source": [
    "int(float(re.findall(pattern, content)[0]))"
   ]
  },
  {
   "cell_type": "markdown",
   "id": "cc65bfa2",
   "metadata": {},
   "source": [
    "# 3. Implementation"
   ]
  },
  {
   "cell_type": "code",
   "execution_count": 10,
   "id": "fc77f2f3",
   "metadata": {},
   "outputs": [],
   "source": [
    "def need(filename, gapopen = 10.0, gapextend = 1.0):\n",
    "    \n",
    "    '''\n",
    "    input\n",
    "        a file containing with two GenBank IDs\n",
    "    process\n",
    "        global pairwise alignment of two sequences\n",
    "    output\n",
    "        maximum score\n",
    "    '''\n",
    "    \n",
    "    from Bio import Entrez\n",
    "    Entrez.email = 'tasar.orcun@gmail.com'\n",
    "    import subprocess\n",
    "    import re\n",
    "    \n",
    "    # read and parse input file\n",
    "    with open(filename, 'r') as file:\n",
    "        ids = file.readline().strip().split()\n",
    "    \n",
    "    id1 = ids[0]\n",
    "    id2 = ids[1]\n",
    "    \n",
    "    # query ids on nucleotide db on entrez and get nucleotide sequences\n",
    "    handle = Entrez.efetch(db = 'nucleotide', id = [id1, id2] , retmode = 'xml', rettype = 'gb')\n",
    "    records = Entrez.parse(handle)\n",
    "\n",
    "    seqs = list()\n",
    "\n",
    "    for record in records:\n",
    "        seqs.append(record['GBSeq_sequence'])\n",
    "    \n",
    "    handle.close()\n",
    "    \n",
    "    s1 = seqs[0]; s2 = seqs[1]\n",
    "    \n",
    "    # define emboss - needle command\n",
    "    needle_command = f'''\\\n",
    "    needle -asequence asis:{s1} -bsequence asis:{s2} \\\n",
    "    -stdout -auto \\\n",
    "    -gapopen {gapopen} -gapextend {gapextend} -endweight -endopen {gapopen} -endextend {gapextend} \\\n",
    "    -outfile {filename.split(\".\")[0]}_needle_alignment.txt\\\n",
    "    '''\n",
    "    \n",
    "    # call command\n",
    "    subprocess.call(needle_command, shell = True)\n",
    "    \n",
    "    # open and read needleman file\n",
    "    file = open(f'{filename.split(\".\")[0]}_needle_alignment.txt', 'r')\n",
    "    content = file.read() \n",
    "    file.close()\n",
    "    \n",
    "    # extract score\n",
    "    pattern = r'# Score:\\s(\\d+\\.\\d*)'\n",
    "    score = int(float(re.findall(pattern, content)[0]))\n",
    "    \n",
    "    # print answer to console\n",
    "    print('\\n\\x1B[1mANSWER\\x1B[0m\\n______\\n')\n",
    "    print(f'{score}')\n",
    "    \n",
    "    # open file and write answer\n",
    "    file = open(f'{filename.split(\".\")[0]}_answer.txt', 'w')\n",
    "    file.write(f'{score}')\n",
    "    file.close()\n",
    "    print('\\n\\n#! The answer has been written into the file:',\n",
    "          f'\\x1B[1m./{filename.split(\".\")[0]}_answer.txt\\x1B[0m\\n')"
   ]
  },
  {
   "cell_type": "markdown",
   "id": "8542d6cd",
   "metadata": {},
   "source": [
    "# 4. Execution"
   ]
  },
  {
   "cell_type": "code",
   "execution_count": 11,
   "id": "3189e69c",
   "metadata": {},
   "outputs": [
    {
     "name": "stdout",
     "output_type": "stream",
     "text": [
      "\n",
      "\u001b[1mANSWER\u001b[0m\n",
      "______\n",
      "\n",
      "257\n",
      "\n",
      "\n",
      "#! The answer has been written into the file: \u001b[1m./need_test_answer.txt\u001b[0m\n",
      "\n"
     ]
    }
   ],
   "source": [
    "need('need_test.txt')"
   ]
  },
  {
   "cell_type": "code",
   "execution_count": 12,
   "id": "af7412ff",
   "metadata": {},
   "outputs": [
    {
     "name": "stdout",
     "output_type": "stream",
     "text": [
      "\n",
      "\u001b[1mANSWER\u001b[0m\n",
      "______\n",
      "\n",
      "219\n",
      "\n",
      "\n",
      "#! The answer has been written into the file: \u001b[1m./rosalind_need_answer.txt\u001b[0m\n",
      "\n"
     ]
    }
   ],
   "source": [
    "need('rosalind_need.txt')"
   ]
  },
  {
   "cell_type": "markdown",
   "id": "60ac77b0",
   "metadata": {},
   "source": [
    "<p style='text-align: right;'>\n",
    "    <!--<b><font size = '5'>Contact</font></b><br>-->\n",
    "    <b>Orcun Tasar</b><br>\n",
    "    <i>Bioinformatician / Data Scientist</i><br>\n",
    "    orcuntasar |at@| ogr.iu.edu.tr<br>\n",
    "    tasar.orcun |at@| gmail.com<br>\n",
    "    <a href = 'https://www.linkedin.com/in/orçun-taşar-7b5992a1/'>Linkedin</a> | <a href = 'https://www.instagram.com/shatranuchor/'>Instagram</a>\n",
    "</p>"
   ]
  }
 ],
 "metadata": {
  "kernelspec": {
   "display_name": "thesis",
   "language": "python",
   "name": "thesis"
  },
  "language_info": {
   "codemirror_mode": {
    "name": "ipython",
    "version": 3
   },
   "file_extension": ".py",
   "mimetype": "text/x-python",
   "name": "python",
   "nbconvert_exporter": "python",
   "pygments_lexer": "ipython3",
   "version": "3.8.15"
  }
 },
 "nbformat": 4,
 "nbformat_minor": 5
}
