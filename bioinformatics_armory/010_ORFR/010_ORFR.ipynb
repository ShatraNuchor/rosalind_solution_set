{
 "cells": [
  {
   "cell_type": "markdown",
   "id": "24d2f5ef",
   "metadata": {},
   "source": [
    "# 1. Source"
   ]
  },
  {
   "cell_type": "markdown",
   "id": "6d5895e1",
   "metadata": {},
   "source": [
    "Click on the link to go to the source web page of **Rosalind**: [Finding Genes with ORFs](https://rosalind.info/problems/orfr/)"
   ]
  },
  {
   "cell_type": "markdown",
   "id": "37582a41",
   "metadata": {},
   "source": [
    " **Problem**\n",
    " \n",
    " ![Finding Genes with ORFs](orfr_problem.png \"Finding Genes with ORFs\")"
   ]
  },
  {
   "cell_type": "markdown",
   "id": "1491d6c1",
   "metadata": {},
   "source": [
    "**Sample Dataset**\n",
    "\n",
    "AGCCATGTAGCTAACTCAGGTTACATGGGGATGACCCCGCGACTTGGATTAGAGTCTCTTTTGGAATAAGCCTGAATGATCCGAGTAGCATCTCAG"
   ]
  },
  {
   "cell_type": "markdown",
   "id": "fee90243",
   "metadata": {},
   "source": [
    "**Sample Output**\n",
    "\n",
    "MLLGSFRLIPKETLIQVAGSSPCNLS"
   ]
  },
  {
   "cell_type": "markdown",
   "id": "829af9a2",
   "metadata": {},
   "source": [
    "# 2. Workspace"
   ]
  },
  {
   "cell_type": "code",
   "execution_count": 1,
   "id": "c4bdf09d",
   "metadata": {},
   "outputs": [
    {
     "data": {
      "text/plain": [
       "'AGCCATGTAGCTAACTCAGGTTACATGGGGATGACCCCGCGACTTGGATTAGAGTCTCTTTTGGAATAAGCCTGAATGATCCGAGTAGCATCTCAG'"
      ]
     },
     "execution_count": 1,
     "metadata": {},
     "output_type": "execute_result"
    }
   ],
   "source": [
    "# read the input file and extract the dna string\n",
    "\n",
    "with open('orfr_test.txt', 'r') as file:\n",
    "    dnaSeq = file.read().rstrip().upper()\n",
    "    \n",
    "# display dnaSeq\n",
    "\n",
    "dnaSeq"
   ]
  },
  {
   "cell_type": "code",
   "execution_count": 2,
   "id": "9a8c961c",
   "metadata": {},
   "outputs": [
    {
     "data": {
      "text/plain": [
       "['ATGTAG',\n",
       " 'ATGGGGATGACCCCGCGACTTGGATTAGAGTCTCTTTTGGAATAA',\n",
       " 'ATGATCCGAGTAGCATCTCAG']"
      ]
     },
     "execution_count": 2,
     "metadata": {},
     "output_type": "execute_result"
    }
   ],
   "source": [
    "# to find the possible orfs, we can write a regex pattern\n",
    "\n",
    "import re\n",
    "\n",
    "pattern = r'ATG(?:(?!TAA|TAG|TGA)...)*(?:TAA|TAG|TGA)?'\n",
    "\n",
    "# 1. should start with ATG\n",
    "# 2. 3-nuc groups of A,T,G,C combination - zero or more - but not any TGA, TAA or TGA\n",
    "# 3. should end with TGA, TAG or TAA - if not, then to the end of the string\n",
    "\n",
    "re.findall(pattern, dnaSeq)"
   ]
  },
  {
   "cell_type": "code",
   "execution_count": 3,
   "id": "b7280530",
   "metadata": {},
   "outputs": [
    {
     "name": "stdout",
     "output_type": "stream",
     "text": [
      "45\n",
      "ATGGGGATGACCCCGCGACTTGGATTAGAGTCTCTTTTGGAATAA\n"
     ]
    }
   ],
   "source": [
    "# the longest one\n",
    "\n",
    "dnaSeq_longest_orf = max(re.findall(pattern, dnaSeq), key = lambda x: len(x))\n",
    "\n",
    "# print\n",
    "\n",
    "print(len(dnaSeq_longest_orf))\n",
    "print(dnaSeq_longest_orf)"
   ]
  },
  {
   "cell_type": "code",
   "execution_count": 4,
   "id": "f6570a0d",
   "metadata": {},
   "outputs": [
    {
     "data": {
      "text/plain": [
       "'CTGAGATGCTACTCGGATCATTCAGGCTTATTCCAAAAGAGACTCTAATCCAAGTCGCGGGGTCATCCCCATGTAACCTGAGTTAGCTACATGGCT'"
      ]
     },
     "execution_count": 4,
     "metadata": {},
     "output_type": "execute_result"
    }
   ],
   "source": [
    "# we need to repeat for the reverse complement\n",
    "\n",
    "from Bio.Seq import Seq\n",
    "\n",
    "revcSeq = str(Seq(dnaSeq).reverse_complement())\n",
    "\n",
    "revcSeq"
   ]
  },
  {
   "cell_type": "code",
   "execution_count": 5,
   "id": "afa8ba35",
   "metadata": {},
   "outputs": [
    {
     "name": "stdout",
     "output_type": "stream",
     "text": [
      "81\n",
      "ATGCTACTCGGATCATTCAGGCTTATTCCAAAAGAGACTCTAATCCAAGTCGCGGGGTCATCCCCATGTAACCTGAGTTAG\n"
     ]
    }
   ],
   "source": [
    "# find the longest orf for revcSeq\n",
    "\n",
    "revcSeq_longest_orf = max(re.findall(pattern, revcSeq), key = lambda x: len(x))\n",
    "\n",
    "# print\n",
    "\n",
    "print(len(revcSeq_longest_orf))\n",
    "print(revcSeq_longest_orf)"
   ]
  },
  {
   "cell_type": "code",
   "execution_count": 6,
   "id": "0a398b70",
   "metadata": {},
   "outputs": [
    {
     "name": "stdout",
     "output_type": "stream",
     "text": [
      "MLLGSFRLIPKETLIQVAGSSPCNLS\n"
     ]
    }
   ],
   "source": [
    "# the second one is longer\n",
    "# translate the second orf into amino acids\n",
    "\n",
    "longest_protein = Seq(revcSeq_longest_orf).translate(to_stop = True)\n",
    "\n",
    "# print\n",
    "\n",
    "print(longest_protein)"
   ]
  },
  {
   "cell_type": "code",
   "execution_count": 7,
   "id": "d9f69d1a",
   "metadata": {},
   "outputs": [
    {
     "data": {
      "text/plain": [
       "True"
      ]
     },
     "execution_count": 7,
     "metadata": {},
     "output_type": "execute_result"
    }
   ],
   "source": [
    "# is it the same with the sample output?\n",
    "\n",
    "sample_output = 'MLLGSFRLIPKETLIQVAGSSPCNLS'\n",
    "\n",
    "longest_protein == sample_output"
   ]
  },
  {
   "cell_type": "markdown",
   "id": "8db5735e",
   "metadata": {},
   "source": [
    "# 3. Implementation"
   ]
  },
  {
   "cell_type": "code",
   "execution_count": 8,
   "id": "608fd526",
   "metadata": {},
   "outputs": [],
   "source": [
    "def orfr(filename):\n",
    "    \n",
    "    '''\n",
    "    input\n",
    "        a file containing a dna sequence\n",
    "    process\n",
    "        finds the longest orf's protein sequence\n",
    "    output\n",
    "        prints answer to console and writes it in a file\n",
    "    '''\n",
    "    \n",
    "    from Bio.Seq import Seq\n",
    "    import re\n",
    "    \n",
    "    # read input file and extract dnaSeq\n",
    "    with open(filename, 'r') as file:\n",
    "        dnaSeq = file.read().rstrip().upper()\n",
    "        \n",
    "    # orf finder regex pattern\n",
    "    pattern = r'ATG(?:(?!TAA|TAG|TGA)...)*(?:TAA|TAG|TGA)?'\n",
    "    \n",
    "    # find the longest orf of dnaSeq\n",
    "    dnaSeq_longest_orf = max(re.findall(pattern, dnaSeq), key = lambda x: len(x))\n",
    "    \n",
    "    # create reverse complement\n",
    "    revcSeq = str(Seq(dnaSeq).reverse_complement())\n",
    "    \n",
    "    # find the longest orf of revcSeq\n",
    "    revcSeq_longest_orf = max(re.findall(pattern, revcSeq), key = lambda x: len(x))\n",
    "    \n",
    "    # select the longer and create protein sequence\n",
    "    if len(dnaSeq_longest_orf) >= len(revcSeq_longest_orf):\n",
    "        protein = Seq(dnaSeq_longest_orf).translate(to_stop = True)\n",
    "    else:\n",
    "        protein = Seq(revcSeq_longest_orf).translate(to_stop = True)\n",
    "    \n",
    "    # print answer to console\n",
    "    print('\\n\\x1B[1mANSWER\\x1B[0m\\n______\\n')\n",
    "    print(f'{protein}')\n",
    "    \n",
    "    # open file and write answer\n",
    "    file = open(f'{filename.split(\".\")[0]}_answer.txt', 'w')\n",
    "    file.write(f'{protein}')\n",
    "    file.close()\n",
    "    print('\\n\\n#! The answer has been written into the file:',\n",
    "          f'\\x1B[1m./{filename.split(\".\")[0]}_answer.txt\\x1B[0m\\n')"
   ]
  },
  {
   "cell_type": "markdown",
   "id": "c65ae6fa",
   "metadata": {},
   "source": [
    "# 4. Execution"
   ]
  },
  {
   "cell_type": "code",
   "execution_count": 9,
   "id": "2350cdd5",
   "metadata": {
    "scrolled": true
   },
   "outputs": [
    {
     "name": "stdout",
     "output_type": "stream",
     "text": [
      "\n",
      "\u001b[1mANSWER\u001b[0m\n",
      "______\n",
      "\n",
      "MLLGSFRLIPKETLIQVAGSSPCNLS\n",
      "\n",
      "\n",
      "#! The answer has been written into the file: \u001b[1m./orfr_test_answer.txt\u001b[0m\n",
      "\n"
     ]
    }
   ],
   "source": [
    "orfr('orfr_test.txt')"
   ]
  },
  {
   "cell_type": "code",
   "execution_count": 10,
   "id": "0ce024cc",
   "metadata": {},
   "outputs": [
    {
     "name": "stdout",
     "output_type": "stream",
     "text": [
      "\n",
      "\u001b[1mANSWER\u001b[0m\n",
      "______\n",
      "\n",
      "MRCAWLLVSPLRMAHCHGSCASSVFYQFRGALTLRARNWTLYHTSRDSVIPRDSKLRYHTCWGYSSSIRMR\n",
      "\n",
      "\n",
      "#! The answer has been written into the file: \u001b[1m./rosalind_orfr_1_dataset_answer.txt\u001b[0m\n",
      "\n"
     ]
    }
   ],
   "source": [
    "orfr('rosalind_orfr_1_dataset.txt')"
   ]
  },
  {
   "cell_type": "code",
   "execution_count": 11,
   "id": "da5eff66",
   "metadata": {},
   "outputs": [
    {
     "name": "stdout",
     "output_type": "stream",
     "text": [
      "\n",
      "\u001b[1mANSWER\u001b[0m\n",
      "______\n",
      "\n",
      "MYWAVYRQRAASPFTRGLPRVDPMHKVGPLRFSRTIVKGHSSVAAATPRESVGKSGRLTSISRGRHLLSGDSDLPVLLTDDRKSF\n",
      "\n",
      "\n",
      "#! The answer has been written into the file: \u001b[1m./rosalind_orfr_answer.txt\u001b[0m\n",
      "\n"
     ]
    }
   ],
   "source": [
    "orfr('rosalind_orfr.txt')"
   ]
  },
  {
   "cell_type": "markdown",
   "id": "8db6a051",
   "metadata": {},
   "source": [
    "<p style='text-align: right;'>\n",
    "    <!--<b><font size = '5'>Contact</font></b><br>-->\n",
    "    <b>Orcun Tasar</b><br>\n",
    "    <i>Bioinformatician / Data Scientist</i><br>\n",
    "    orcuntasar |at@| ogr.iu.edu.tr<br>\n",
    "    tasar.orcun |at@| gmail.com<br>\n",
    "    <a href = 'https://www.linkedin.com/in/orçun-taşar-7b5992a1/'>Linkedin</a> | <a href = 'https://www.instagram.com/shatranuchor/'>Instagram</a>\n",
    "</p>"
   ]
  }
 ],
 "metadata": {
  "kernelspec": {
   "display_name": "thesis",
   "language": "python",
   "name": "thesis"
  },
  "language_info": {
   "codemirror_mode": {
    "name": "ipython",
    "version": 3
   },
   "file_extension": ".py",
   "mimetype": "text/x-python",
   "name": "python",
   "nbconvert_exporter": "python",
   "pygments_lexer": "ipython3",
   "version": "3.8.15"
  }
 },
 "nbformat": 4,
 "nbformat_minor": 5
}
