{
 "cells": [
  {
   "cell_type": "markdown",
   "id": "96d07755",
   "metadata": {},
   "source": [
    "# 1. Source"
   ]
  },
  {
   "cell_type": "markdown",
   "id": "21d217b4",
   "metadata": {},
   "source": [
    "Click on the link to go to the source web page of **Rosalind**: [Counting DNA Nucleotides](https://rosalind.info/problems/dna)"
   ]
  },
  {
   "cell_type": "markdown",
   "id": "6078e35b",
   "metadata": {},
   "source": [
    "**Problem**\n",
    "\n",
    "![Counting DNA Nucleotides!](dna_problem.png 'Counting DNA Nucleotides')"
   ]
  },
  {
   "cell_type": "markdown",
   "id": "6bea6b19",
   "metadata": {},
   "source": [
    "**Sample Dataset**\n",
    "\n",
    "AGCTTTTCATTCTGACTGCAACGGGCAATATGTCTCTGTGTGGATTAAAAAAAGAGTGTCTGATAGCAGC"
   ]
  },
  {
   "cell_type": "markdown",
   "id": "3802c24d",
   "metadata": {},
   "source": [
    "**Sample Output**\n",
    "\n",
    "20 12 17 21"
   ]
  },
  {
   "cell_type": "markdown",
   "id": "71df1b2e",
   "metadata": {},
   "source": [
    "# 2. Workspace"
   ]
  },
  {
   "cell_type": "code",
   "execution_count": 1,
   "id": "0f02dd98",
   "metadata": {},
   "outputs": [
    {
     "name": "stdout",
     "output_type": "stream",
     "text": [
      "AGCTTTTCATTCTGACTGCAACGGGCAATATGTCTCTGTGTGGATTAAAAAAAGAGTGTCTGATAGCAGC\n"
     ]
    }
   ],
   "source": [
    "# copy paste the given dna sequence and assign it to a variable: dnaSeq\n",
    "\n",
    "dnaSeq = 'AGCTTTTCATTCTGACTGCAACGGGCAATATGTCTCTGTGTGGATTAAAAAAAGAGTGTCTGATAGCAGC'\n",
    "print(dnaSeq)"
   ]
  },
  {
   "cell_type": "code",
   "execution_count": 2,
   "id": "0168c1fb",
   "metadata": {},
   "outputs": [],
   "source": [
    "# but rosalind gives us a file\n",
    "# write a few lines of codes to read the dna sequence directly from the given file\n",
    "\n",
    "with open('dna_test.txt', 'r') as file:\n",
    "    dnaSeq = file.read().strip().upper()"
   ]
  },
  {
   "cell_type": "code",
   "execution_count": 3,
   "id": "33c13dbf",
   "metadata": {},
   "outputs": [
    {
     "name": "stdout",
     "output_type": "stream",
     "text": [
      "AGCTTTTCATTCTGACTGCAACGGGCAATATGTCTCTGTGTGGATTAAAAAAAGAGTGTCTGATAGCAGC\n"
     ]
    }
   ],
   "source": [
    "# print what we have read on the file\n",
    "\n",
    "print(dnaSeq)"
   ]
  },
  {
   "cell_type": "code",
   "execution_count": 4,
   "id": "83ef7b95",
   "metadata": {},
   "outputs": [
    {
     "name": "stdout",
     "output_type": "stream",
     "text": [
      "20\n"
     ]
    }
   ],
   "source": [
    "# count the number of adenines in dnaSeq\n",
    "\n",
    "print(dnaSeq.count('A'))"
   ]
  },
  {
   "cell_type": "code",
   "execution_count": 5,
   "id": "06daa43d",
   "metadata": {},
   "outputs": [
    {
     "name": "stdout",
     "output_type": "stream",
     "text": [
      "12\n"
     ]
    }
   ],
   "source": [
    "# count the number of cytosines in dnaSeq\n",
    "\n",
    "print(dnaSeq.count('C'))"
   ]
  },
  {
   "cell_type": "code",
   "execution_count": 6,
   "id": "7f18fb02",
   "metadata": {},
   "outputs": [
    {
     "name": "stdout",
     "output_type": "stream",
     "text": [
      "17\n"
     ]
    }
   ],
   "source": [
    "# count the number of guanines in dnaSeq\n",
    "\n",
    "print(dnaSeq.count('G'))"
   ]
  },
  {
   "cell_type": "code",
   "execution_count": 7,
   "id": "b43a8e9b",
   "metadata": {},
   "outputs": [
    {
     "name": "stdout",
     "output_type": "stream",
     "text": [
      "21\n"
     ]
    }
   ],
   "source": [
    "# count the number of thymines in dnaSeq\n",
    "\n",
    "print(dnaSeq.count('T'))"
   ]
  },
  {
   "cell_type": "code",
   "execution_count": 8,
   "id": "8d2cf722",
   "metadata": {},
   "outputs": [
    {
     "name": "stdout",
     "output_type": "stream",
     "text": [
      "20\n",
      "12\n",
      "17\n",
      "21\n"
     ]
    }
   ],
   "source": [
    "# it does not look wise writing the same command again and again for counting\n",
    "# create a for-loop instead\n",
    "\n",
    "bases = 'ACGT'\n",
    "for base in bases:\n",
    "    print(dnaSeq.count(base))"
   ]
  },
  {
   "cell_type": "code",
   "execution_count": 9,
   "id": "34648344",
   "metadata": {},
   "outputs": [
    {
     "name": "stdout",
     "output_type": "stream",
     "text": [
      "20 12 17 21\n"
     ]
    }
   ],
   "source": [
    "# for longer sequences, for-loop might also be slow\n",
    "# build the same strategy using list comprehension\n",
    "\n",
    "result = [str(dnaSeq.count(base)) for base in 'ACGT']\n",
    "result_str = ' '.join(result)\n",
    "print(result_str)"
   ]
  },
  {
   "cell_type": "markdown",
   "id": "6c42b6e4",
   "metadata": {},
   "source": [
    "# 3. Implementation"
   ]
  },
  {
   "cell_type": "code",
   "execution_count": 10,
   "id": "abc4416e",
   "metadata": {},
   "outputs": [],
   "source": [
    "def dna(filename):\n",
    "    \n",
    "    '''\n",
    "    input\n",
    "        a file contains a dna string (sequence)\n",
    "    process\n",
    "        counts each nucleotide (A, C, G, T) in given dna sequence\n",
    "    returns\n",
    "        prints number of nucleotides seperated by spaces: <A> <C> <G> <T>\n",
    "        writes result in a file and saves it\n",
    "    '''\n",
    "    \n",
    "    # open and read file\n",
    "    with open(filename, 'r') as file:\n",
    "        dnaString = file.read().strip().upper()\n",
    "        \n",
    "    # count each nucleotide\n",
    "    bases = 'ACGT'\n",
    "    counts = [str(dnaString.count(base)) for base in bases]\n",
    "    counts_str = ' '.join(counts)\n",
    "    \n",
    "    # print answer to console\n",
    "    print('ANSWER\\n______\\n')\n",
    "    print(f'{counts_str}')\n",
    "    \n",
    "    # open file and write answer\n",
    "    file = open(f'{filename}_answer.txt', 'w')\n",
    "    file.write(f'{counts_str}')\n",
    "    file.close()"
   ]
  },
  {
   "cell_type": "markdown",
   "id": "5daa00f0",
   "metadata": {},
   "source": [
    "# 4. Execution"
   ]
  },
  {
   "cell_type": "code",
   "execution_count": 11,
   "id": "de003ba7",
   "metadata": {},
   "outputs": [
    {
     "name": "stdout",
     "output_type": "stream",
     "text": [
      "ANSWER\n",
      "______\n",
      "\n",
      "20 12 17 21\n"
     ]
    }
   ],
   "source": [
    "dna('dna_test.txt')"
   ]
  },
  {
   "cell_type": "code",
   "execution_count": 12,
   "id": "b525b690",
   "metadata": {},
   "outputs": [
    {
     "name": "stdout",
     "output_type": "stream",
     "text": [
      "ANSWER\n",
      "______\n",
      "\n",
      "232 228 191 200\n"
     ]
    }
   ],
   "source": [
    "dna('rosalind_dna.txt')"
   ]
  },
  {
   "cell_type": "code",
   "execution_count": 13,
   "id": "02dac7e6",
   "metadata": {},
   "outputs": [
    {
     "name": "stdout",
     "output_type": "stream",
     "text": [
      "ANSWER\n",
      "______\n",
      "\n",
      "243 251 250 242\n"
     ]
    }
   ],
   "source": [
    "dna('rosalind_dna_12_dataset.txt')"
   ]
  },
  {
   "cell_type": "markdown",
   "id": "686d967c",
   "metadata": {},
   "source": [
    "<p style='text-align: right;'>\n",
    "    <!--<b><font size = '5'>Contact</font></b><br>-->\n",
    "    <b>Orcun Tasar</b><br>\n",
    "    <i>Bioinformatician / Data Scientist</i><br>\n",
    "    orcuntasar@ogr.iu.edu.tr<br>\n",
    "    tasar.orcun@gmail.com<br>\n",
    "    <a href = 'https://www.linkedin.com/in/orçun-taşar-7b5992a1/'>Linkedin</a> | <a href = 'https://www.instagram.com/shatranuchor/'>Instagram</a>\n",
    "</p>"
   ]
  }
 ],
 "metadata": {
  "kernelspec": {
   "display_name": "Python 3",
   "language": "python",
   "name": "python3"
  },
  "language_info": {
   "codemirror_mode": {
    "name": "ipython",
    "version": 3
   },
   "file_extension": ".py",
   "mimetype": "text/x-python",
   "name": "python",
   "nbconvert_exporter": "python",
   "pygments_lexer": "ipython3",
   "version": "3.8.15"
  }
 },
 "nbformat": 4,
 "nbformat_minor": 5
}
