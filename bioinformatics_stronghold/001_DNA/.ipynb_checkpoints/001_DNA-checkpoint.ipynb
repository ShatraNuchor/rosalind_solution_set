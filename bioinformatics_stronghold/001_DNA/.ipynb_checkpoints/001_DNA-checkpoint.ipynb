{
 "cells": [
  {
   "cell_type": "markdown",
   "id": "96d07755",
   "metadata": {},
   "source": [
    "# 1. Source"
   ]
  },
  {
   "cell_type": "markdown",
   "id": "21d217b4",
   "metadata": {},
   "source": [
    "Click on the link to go to the source web page of **Rosalind**: [Counting DNA Nucleotides](https://rosalind.info/problems/dna)"
   ]
  },
  {
   "cell_type": "markdown",
   "id": "6078e35b",
   "metadata": {},
   "source": [
    "**Problem**\n",
    "\n",
    "![Counting DNA Nucleotides!](dna_problem.png 'Counting DNA Nucleotides')"
   ]
  },
  {
   "cell_type": "markdown",
   "id": "6bea6b19",
   "metadata": {},
   "source": [
    "**Sample Dataset**\n",
    "\n",
    "AGCTTTTCATTCTGACTGCAACGGGCAATATGTCTCTGTGTGGATTAAAAAAAGAGTGTCTGATAGCAGC"
   ]
  },
  {
   "cell_type": "markdown",
   "id": "3802c24d",
   "metadata": {},
   "source": [
    "**Sample Output**\n",
    "\n",
    "20 12 17 21"
   ]
  },
  {
   "cell_type": "markdown",
   "id": "71df1b2e",
   "metadata": {},
   "source": [
    "# 2. Workspace"
   ]
  },
  {
   "cell_type": "code",
   "execution_count": 1,
   "id": "0f02dd98",
   "metadata": {},
   "outputs": [
    {
     "name": "stdout",
     "output_type": "stream",
     "text": [
      "AGCTTTTCATTCTGACTGCAACGGGCAATATGTCTCTGTGTGGATTAAAAAAAGAGTGTCTGATAGCAGC\n"
     ]
    }
   ],
   "source": [
    "# copy paste the given dna sequence and assign it to a variable: dnaSeq\n",
    "\n",
    "dnaSeq = 'AGCTTTTCATTCTGACTGCAACGGGCAATATGTCTCTGTGTGGATTAAAAAAAGAGTGTCTGATAGCAGC'\n",
    "print(dnaSeq)"
   ]
  },
  {
   "cell_type": "code",
   "execution_count": 2,
   "id": "0168c1fb",
   "metadata": {},
   "outputs": [],
   "source": [
    "# but rosalind gives us a file\n",
    "# write a few lines of codes to read the dna sequence directly from the given file\n",
    "\n",
    "with open('dna_test.txt', 'r') as file:\n",
    "    dnaSeq = file.read().strip().upper()"
   ]
  },
  {
   "cell_type": "code",
   "execution_count": 3,
   "id": "33c13dbf",
   "metadata": {},
   "outputs": [
    {
     "name": "stdout",
     "output_type": "stream",
     "text": [
      "AGCTTTTCATTCTGACTGCAACGGGCAATATGTCTCTGTGTGGATTAAAAAAAGAGTGTCTGATAGCAGC\n"
     ]
    }
   ],
   "source": [
    "# print what we have read on the file\n",
    "\n",
    "print(dnaSeq)"
   ]
  },
  {
   "cell_type": "code",
   "execution_count": 4,
   "id": "83ef7b95",
   "metadata": {},
   "outputs": [
    {
     "name": "stdout",
     "output_type": "stream",
     "text": [
      "20\n"
     ]
    }
   ],
   "source": [
    "# count the number of adenines in dnaSeq\n",
    "\n",
    "print(dnaSeq.count('A'))"
   ]
  },
  {
   "cell_type": "code",
   "execution_count": 5,
   "id": "06daa43d",
   "metadata": {},
   "outputs": [
    {
     "name": "stdout",
     "output_type": "stream",
     "text": [
      "12\n"
     ]
    }
   ],
   "source": [
    "# count the number of cytosines in dnaSeq\n",
    "\n",
    "print(dnaSeq.count('C'))"
   ]
  },
  {
   "cell_type": "code",
   "execution_count": 6,
   "id": "7f18fb02",
   "metadata": {},
   "outputs": [
    {
     "name": "stdout",
     "output_type": "stream",
     "text": [
      "17\n"
     ]
    }
   ],
   "source": [
    "# count the number of guanines in dnaSeq\n",
    "\n",
    "print(dnaSeq.count('G'))"
   ]
  },
  {
   "cell_type": "code",
   "execution_count": 7,
   "id": "b43a8e9b",
   "metadata": {},
   "outputs": [
    {
     "name": "stdout",
     "output_type": "stream",
     "text": [
      "21\n"
     ]
    }
   ],
   "source": [
    "# count the number of thymines in dnaSeq\n",
    "\n",
    "print(dnaSeq.count('T'))"
   ]
  },
  {
   "cell_type": "code",
   "execution_count": 8,
   "id": "8d2cf722",
   "metadata": {},
   "outputs": [
    {
     "name": "stdout",
     "output_type": "stream",
     "text": [
      "20\n",
      "12\n",
      "17\n",
      "21\n"
     ]
    }
   ],
   "source": [
    "# it does not look wise writing the same command again and again for counting\n",
    "# create a for-loop instead\n",
    "\n",
    "bases = 'ACGT'\n",
    "for base in bases:\n",
    "    print(dnaSeq.count(base))"
   ]
  },
  {
   "cell_type": "code",
   "execution_count": 9,
   "id": "34648344",
   "metadata": {},
   "outputs": [
    {
     "name": "stdout",
     "output_type": "stream",
     "text": [
      "20 12 17 21\n"
     ]
    }
   ],
   "source": [
    "# build the same strategy using list comprehension\n",
    "\n",
    "result = [str(dnaSeq.count(base)) for base in 'ACGT']\n",
    "result_str = ' '.join(result)\n",
    "print(result_str)"
   ]
  },
  {
   "cell_type": "code",
   "execution_count": 10,
   "id": "cab29446",
   "metadata": {},
   "outputs": [
    {
     "name": "stdout",
     "output_type": "stream",
     "text": [
      "20 12 17 21\n"
     ]
    }
   ],
   "source": [
    "# one way is to check each base in dnaSeq \n",
    "# and increasing the number of relevant bases one by one, depending on which base in dnaSeq\n",
    "\n",
    "# first we can initialize the counters\n",
    "A = 0; C = 0; G = 0; T = 0\n",
    "\n",
    "# loop over dnaSeq\n",
    "for base in dnaSeq:\n",
    "    if base == 'A':\n",
    "        A += 1\n",
    "    elif base == 'C':\n",
    "        C += 1\n",
    "    elif base == 'G':\n",
    "        G += 1\n",
    "    else:\n",
    "        T += 1\n",
    "        \n",
    "# print counts of nucleotides\n",
    "print(f'{A} {C} {G} {T}')"
   ]
  },
  {
   "cell_type": "code",
   "execution_count": 11,
   "id": "bf0558c1",
   "metadata": {},
   "outputs": [
    {
     "data": {
      "text/plain": [
       "{'A': 20, 'G': 17, 'C': 12, 'T': 21}"
      ]
     },
     "execution_count": 11,
     "metadata": {},
     "output_type": "execute_result"
    }
   ],
   "source": [
    "# with a similar sense it is possible to create a frequence dictionary\n",
    "\n",
    "counts_dict = dict()\n",
    "\n",
    "# loop over dnaSeq\n",
    "for base in dnaSeq:\n",
    "    if base in counts_dict.keys():\n",
    "        counts_dict[base] += 1\n",
    "    else:\n",
    "        counts_dict[base] = 1\n",
    "        \n",
    "# see the counts_dict's final status\n",
    "counts_dict"
   ]
  },
  {
   "cell_type": "code",
   "execution_count": 12,
   "id": "6aa9964b",
   "metadata": {},
   "outputs": [
    {
     "name": "stdout",
     "output_type": "stream",
     "text": [
      "20 17 12 21\n"
     ]
    }
   ],
   "source": [
    "# we can print it\n",
    "\n",
    "result = ''\n",
    "\n",
    "for base, count in counts_dict.items():\n",
    "    result += str(count) + ' '\n",
    "    \n",
    "# print it\n",
    "print(result.strip())"
   ]
  },
  {
   "cell_type": "code",
   "execution_count": 13,
   "id": "6a10f6ec",
   "metadata": {},
   "outputs": [
    {
     "data": {
      "text/plain": [
       "Counter({'A': 20, 'G': 17, 'C': 12, 'T': 21})"
      ]
     },
     "execution_count": 13,
     "metadata": {},
     "output_type": "execute_result"
    }
   ],
   "source": [
    "# or using Counter function of collections module will give the same result\n",
    "\n",
    "from collections import Counter\n",
    "\n",
    "result = Counter(dnaSeq)\n",
    "\n",
    "# see the result's final status\n",
    "result"
   ]
  },
  {
   "cell_type": "code",
   "execution_count": 14,
   "id": "20a61602",
   "metadata": {},
   "outputs": [],
   "source": [
    "# looping over dnaSeq may take more time as the length of dnaSeq increases\n",
    "# therefore, i am not willing to use the options that looping over dnaSeq\n",
    "# but to prove that we can perform a very simple speed test for all options"
   ]
  },
  {
   "cell_type": "markdown",
   "id": "73bae3e2",
   "metadata": {},
   "source": [
    "### --A Simple Speed Test"
   ]
  },
  {
   "cell_type": "code",
   "execution_count": 15,
   "id": "1f084f17",
   "metadata": {},
   "outputs": [
    {
     "name": "stdout",
     "output_type": "stream",
     "text": [
      "initial dnaSeq length: 70\n",
      "final dnaSeq length: 700000\n"
     ]
    }
   ],
   "source": [
    "# increase the size of dna sequence to see the differences (if there is any) easier\n",
    "\n",
    "print('initial dnaSeq length:', len(dnaSeq))\n",
    "dnaSeq *= 10000\n",
    "print('final dnaSeq length:', len(dnaSeq))"
   ]
  },
  {
   "cell_type": "code",
   "execution_count": 16,
   "id": "9b665b89",
   "metadata": {},
   "outputs": [],
   "source": [
    "# option 1"
   ]
  },
  {
   "cell_type": "code",
   "execution_count": 17,
   "id": "c7654d62",
   "metadata": {},
   "outputs": [
    {
     "name": "stdout",
     "output_type": "stream",
     "text": [
      "1.81 ms ± 5.27 µs per loop (mean ± std. dev. of 7 runs, 500 loops each)\n"
     ]
    }
   ],
   "source": [
    "%%timeit -n 500\n",
    "\n",
    "counts_list = []\n",
    "\n",
    "counts_list.append(str(dnaSeq.count('A')))\n",
    "counts_list.append(str(dnaSeq.count('C')))\n",
    "counts_list.append(str(dnaSeq.count('G')))\n",
    "counts_list.append(str(dnaSeq.count('T')))"
   ]
  },
  {
   "cell_type": "code",
   "execution_count": 18,
   "id": "1ed26a88",
   "metadata": {},
   "outputs": [],
   "source": [
    "# option 2"
   ]
  },
  {
   "cell_type": "code",
   "execution_count": 19,
   "id": "78d265c2",
   "metadata": {},
   "outputs": [
    {
     "name": "stdout",
     "output_type": "stream",
     "text": [
      "1.79 ms ± 9.21 µs per loop (mean ± std. dev. of 7 runs, 500 loops each)\n"
     ]
    }
   ],
   "source": [
    "%%timeit -n 500\n",
    "\n",
    "counts_list = []\n",
    "\n",
    "for base in 'ACGT':\n",
    "    counts_list.append(str(dnaSeq.count(base)))"
   ]
  },
  {
   "cell_type": "code",
   "execution_count": 20,
   "id": "bf10dc4c",
   "metadata": {},
   "outputs": [],
   "source": [
    "# option 3"
   ]
  },
  {
   "cell_type": "code",
   "execution_count": 21,
   "id": "9e60664a",
   "metadata": {},
   "outputs": [
    {
     "name": "stdout",
     "output_type": "stream",
     "text": [
      "1.79 ms ± 7.17 µs per loop (mean ± std. dev. of 7 runs, 500 loops each)\n"
     ]
    }
   ],
   "source": [
    "%%timeit -n 500\n",
    "\n",
    "counts_list = [str(dnaSeq.count(base)) for base in 'ACGT']"
   ]
  },
  {
   "cell_type": "code",
   "execution_count": 22,
   "id": "20d41be1",
   "metadata": {},
   "outputs": [],
   "source": [
    "# option 4"
   ]
  },
  {
   "cell_type": "code",
   "execution_count": 23,
   "id": "1e47b980",
   "metadata": {},
   "outputs": [
    {
     "name": "stdout",
     "output_type": "stream",
     "text": [
      "53.4 ms ± 152 µs per loop (mean ± std. dev. of 7 runs, 500 loops each)\n"
     ]
    }
   ],
   "source": [
    "%%timeit -n 500\n",
    "\n",
    "A = 0; C = 0; G = 0; T = 0\n",
    "\n",
    "for base in dnaSeq:\n",
    "    if base == 'A':\n",
    "        A += 1\n",
    "    elif base == 'C':\n",
    "        C += 1\n",
    "    elif base == 'G':\n",
    "        G += 1\n",
    "    else:\n",
    "        T += 1"
   ]
  },
  {
   "cell_type": "code",
   "execution_count": 24,
   "id": "cdff1abe",
   "metadata": {},
   "outputs": [],
   "source": [
    "# option 5"
   ]
  },
  {
   "cell_type": "code",
   "execution_count": 25,
   "id": "5bd61976",
   "metadata": {},
   "outputs": [
    {
     "name": "stdout",
     "output_type": "stream",
     "text": [
      "88.6 ms ± 79.6 µs per loop (mean ± std. dev. of 7 runs, 500 loops each)\n"
     ]
    }
   ],
   "source": [
    "%%timeit -n 500\n",
    "\n",
    "counts_dict = dict()\n",
    "\n",
    "for base in dnaSeq:\n",
    "    if base in counts_dict.keys():\n",
    "        counts_dict[base] += 1\n",
    "    else:\n",
    "        counts_dict[base] = 1"
   ]
  },
  {
   "cell_type": "code",
   "execution_count": 26,
   "id": "2f2427d2",
   "metadata": {},
   "outputs": [],
   "source": [
    "# option 6"
   ]
  },
  {
   "cell_type": "code",
   "execution_count": 27,
   "id": "cfa18cdd",
   "metadata": {},
   "outputs": [
    {
     "name": "stdout",
     "output_type": "stream",
     "text": [
      "30.8 ms ± 163 µs per loop (mean ± std. dev. of 7 runs, 500 loops each)\n"
     ]
    }
   ],
   "source": [
    "%%timeit -n 500\n",
    "\n",
    "from collections import Counter\n",
    "result = Counter(dnaSeq)"
   ]
  },
  {
   "cell_type": "code",
   "execution_count": 28,
   "id": "c3b7f99b",
   "metadata": {},
   "outputs": [],
   "source": [
    "# as a result the options 4 - 5 (looping over dnaSeq) need 30 - 50 times longer runtime than\n",
    "# python's built-in function: .count() / the options 1, 2 and 3\n",
    "# and that runtime will increase dramatically as the length of dnaSeq increases\n",
    "# Counter option is better than option 4 and 5 but also there are better options than this: 1, 2 and 3\n",
    "# also printing and saving Counter object's content in the requested format by rosalind may be tricky\n",
    "# therefore, i will implement the option 3 which includes .count() and list comprehension"
   ]
  },
  {
   "cell_type": "markdown",
   "id": "6c42b6e4",
   "metadata": {},
   "source": [
    "# 3. Implementation"
   ]
  },
  {
   "cell_type": "code",
   "execution_count": 29,
   "id": "abc4416e",
   "metadata": {},
   "outputs": [],
   "source": [
    "def dna(filename):\n",
    "    \n",
    "    '''\n",
    "    input\n",
    "        a file contains a dna string (sequence)\n",
    "    process\n",
    "        counts each nucleotide (A, C, G, T) in given dna sequence\n",
    "    returns\n",
    "        prints number of nucleotides seperated by spaces: <A> <C> <G> <T>\n",
    "        writes result in a file and saves it\n",
    "    '''\n",
    "    \n",
    "    # open and read file\n",
    "    with open(filename, 'r') as file:\n",
    "        dnaString = file.read().strip().upper()\n",
    "        \n",
    "    # count each nucleotide\n",
    "    bases = 'ACGT'\n",
    "    counts = [str(dnaString.count(base)) for base in bases]\n",
    "    counts_str = ' '.join(counts)\n",
    "    \n",
    "    # print answer to console\n",
    "    print('\\n\\x1B[1mANSWER\\x1B[0m\\n______\\n')\n",
    "    print(f'{counts_str}')\n",
    "    \n",
    "    # open file and write answer\n",
    "    file = open(f'{filename.split(\".\")[0]}_answer.txt', 'w')\n",
    "    file.write(f'{counts_str}')\n",
    "    file.close()\n",
    "    print('\\n\\n#! The answer has been written into the file:',\n",
    "          f'\\x1B[1m./{filename.split(\".\")[0]}_answer.txt\\x1B[0m\\n')"
   ]
  },
  {
   "cell_type": "markdown",
   "id": "5daa00f0",
   "metadata": {},
   "source": [
    "# 4. Execution"
   ]
  },
  {
   "cell_type": "code",
   "execution_count": 30,
   "id": "de003ba7",
   "metadata": {},
   "outputs": [
    {
     "name": "stdout",
     "output_type": "stream",
     "text": [
      "\n",
      "\u001b[1mANSWER\u001b[0m\n",
      "______\n",
      "\n",
      "20 12 17 21\n",
      "\n",
      "\n",
      "#! The answer has been written into the file: \u001b[1m./dna_test_answer.txt\u001b[0m\n",
      "\n"
     ]
    }
   ],
   "source": [
    "dna('dna_test.txt')"
   ]
  },
  {
   "cell_type": "code",
   "execution_count": 31,
   "id": "b525b690",
   "metadata": {},
   "outputs": [
    {
     "name": "stdout",
     "output_type": "stream",
     "text": [
      "\n",
      "\u001b[1mANSWER\u001b[0m\n",
      "______\n",
      "\n",
      "232 228 191 200\n",
      "\n",
      "\n",
      "#! The answer has been written into the file: \u001b[1m./rosalind_dna_answer.txt\u001b[0m\n",
      "\n"
     ]
    }
   ],
   "source": [
    "dna('rosalind_dna.txt')"
   ]
  },
  {
   "cell_type": "code",
   "execution_count": 32,
   "id": "02dac7e6",
   "metadata": {},
   "outputs": [
    {
     "name": "stdout",
     "output_type": "stream",
     "text": [
      "\n",
      "\u001b[1mANSWER\u001b[0m\n",
      "______\n",
      "\n",
      "243 251 250 242\n",
      "\n",
      "\n",
      "#! The answer has been written into the file: \u001b[1m./rosalind_dna_12_dataset_answer.txt\u001b[0m\n",
      "\n"
     ]
    }
   ],
   "source": [
    "dna('rosalind_dna_12_dataset.txt')"
   ]
  },
  {
   "cell_type": "markdown",
   "id": "686d967c",
   "metadata": {},
   "source": [
    "<p style='text-align: right;'>\n",
    "    <!--<b><font size = '5'>Contact</font></b><br>-->\n",
    "    <b>Orcun Tasar</b><br>\n",
    "    <i>Bioinformatician / Data Scientist</i><br>\n",
    "    orcuntasar |at@| ogr.iu.edu.tr<br>\n",
    "    tasar.orcun |at@| gmail.com<br>\n",
    "    <a href = 'https://www.linkedin.com/in/orçun-taşar-7b5992a1/'>Linkedin</a> | <a href = 'https://www.instagram.com/shatranuchor/'>Instagram</a>\n",
    "</p>"
   ]
  }
 ],
 "metadata": {
  "kernelspec": {
   "display_name": "Python 3",
   "language": "python",
   "name": "python3"
  },
  "language_info": {
   "codemirror_mode": {
    "name": "ipython",
    "version": 3
   },
   "file_extension": ".py",
   "mimetype": "text/x-python",
   "name": "python",
   "nbconvert_exporter": "python",
   "pygments_lexer": "ipython3",
   "version": "3.8.15"
  }
 },
 "nbformat": 4,
 "nbformat_minor": 5
}
