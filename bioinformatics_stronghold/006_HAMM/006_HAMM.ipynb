{
 "cells": [
  {
   "cell_type": "markdown",
   "id": "d0b1b4fa",
   "metadata": {},
   "source": [
    "# 1. Source"
   ]
  },
  {
   "cell_type": "markdown",
   "id": "85522d99",
   "metadata": {},
   "source": [
    "Click on the link to go to the source web page of **Rosalind**: [Counting Point Mutations](https://rosalind.info/problems/hamm/)"
   ]
  },
  {
   "cell_type": "markdown",
   "id": "f6f0b1e4",
   "metadata": {},
   "source": [
    " **Problem**\n",
    " \n",
    " ![Counting Point Mutations](hamm_problem.png \"Counting Point Mutations\")"
   ]
  },
  {
   "cell_type": "markdown",
   "id": "2b1349c1",
   "metadata": {},
   "source": [
    "**Sample Dataset**\n",
    "\n",
    "GAGCCTACTAACGGGAT<br>\n",
    "CATCGTAATGACGGCCT"
   ]
  },
  {
   "cell_type": "markdown",
   "id": "18502457",
   "metadata": {},
   "source": [
    "**Sample Output**\n",
    "\n",
    "7"
   ]
  },
  {
   "cell_type": "markdown",
   "id": "bda51d19",
   "metadata": {},
   "source": [
    "# 2. Workspace"
   ]
  },
  {
   "cell_type": "code",
   "execution_count": 1,
   "id": "ba11a9f1",
   "metadata": {},
   "outputs": [
    {
     "name": "stdout",
     "output_type": "stream",
     "text": [
      "GAGCCTACTAACGGGAT\n",
      "CATCGTAATGACGGCCT\n"
     ]
    }
   ],
   "source": [
    "# open and read the file\n",
    "# extract the dna sequences t and s\n",
    "\n",
    "with open('hamm_test.txt', 'r') as file:\n",
    "    s = file.readline().strip().upper()\n",
    "    t = file.readline().strip().upper()\n",
    "    \n",
    "# print t and s\n",
    "\n",
    "print(s)\n",
    "print(t)"
   ]
  },
  {
   "cell_type": "code",
   "execution_count": 2,
   "id": "692a90bc",
   "metadata": {},
   "outputs": [
    {
     "data": {
      "text/plain": [
       "7"
      ]
     },
     "execution_count": 2,
     "metadata": {},
     "output_type": "execute_result"
    }
   ],
   "source": [
    "# initiate a mutation counter\n",
    "\n",
    "mutation_counter = 0\n",
    "\n",
    "# loop over the sequences and compare the bases to populate the mutation counter\n",
    "\n",
    "for i in range(len(s)): # both seqs have the same length, take one of them\n",
    "    if s[i] != t[i]:\n",
    "        mutation_counter += 1\n",
    "\n",
    "# see the mutation counter\n",
    "\n",
    "mutation_counter"
   ]
  },
  {
   "cell_type": "code",
   "execution_count": 3,
   "id": "2bad3bcb",
   "metadata": {},
   "outputs": [
    {
     "data": {
      "text/plain": [
       "7.0"
      ]
     },
     "execution_count": 3,
     "metadata": {},
     "output_type": "execute_result"
    }
   ],
   "source": [
    "# one way may be using scipy library's hamming function\n",
    "\n",
    "from scipy.spatial.distance import hamming\n",
    "\n",
    "mutation_counter = hamming(list(s), list(t)) * len(s)\n",
    "\n",
    "# print mutations\n",
    "\n",
    "mutation_counter"
   ]
  },
  {
   "cell_type": "code",
   "execution_count": 4,
   "id": "7a0b5eb1",
   "metadata": {},
   "outputs": [
    {
     "data": {
      "text/plain": [
       "[(0, 'G'),\n",
       " (1, 'A'),\n",
       " (2, 'G'),\n",
       " (3, 'C'),\n",
       " (4, 'C'),\n",
       " (5, 'T'),\n",
       " (6, 'A'),\n",
       " (7, 'C'),\n",
       " (8, 'T'),\n",
       " (9, 'A'),\n",
       " (10, 'A'),\n",
       " (11, 'C'),\n",
       " (12, 'G'),\n",
       " (13, 'G'),\n",
       " (14, 'G'),\n",
       " (15, 'A'),\n",
       " (16, 'T')]"
      ]
     },
     "execution_count": 4,
     "metadata": {},
     "output_type": "execute_result"
    }
   ],
   "source": [
    "# another way to create (index, base) tuples from each string\n",
    "# and using the .difference() or '-' function / operator of set datatype\n",
    "# subtraction can be calculated easily\n",
    "\n",
    "s_pairs = [(idx, base) for idx, base in enumerate(s)]\n",
    "s_pairs"
   ]
  },
  {
   "cell_type": "code",
   "execution_count": 5,
   "id": "b1808688",
   "metadata": {},
   "outputs": [
    {
     "data": {
      "text/plain": [
       "[(0, 'C'),\n",
       " (1, 'A'),\n",
       " (2, 'T'),\n",
       " (3, 'C'),\n",
       " (4, 'G'),\n",
       " (5, 'T'),\n",
       " (6, 'A'),\n",
       " (7, 'A'),\n",
       " (8, 'T'),\n",
       " (9, 'G'),\n",
       " (10, 'A'),\n",
       " (11, 'C'),\n",
       " (12, 'G'),\n",
       " (13, 'G'),\n",
       " (14, 'C'),\n",
       " (15, 'C'),\n",
       " (16, 'T')]"
      ]
     },
     "execution_count": 5,
     "metadata": {},
     "output_type": "execute_result"
    }
   ],
   "source": [
    "# the same for t\n",
    "\n",
    "t_pairs = [(idx, base) for idx, base in enumerate(t)]\n",
    "t_pairs"
   ]
  },
  {
   "cell_type": "code",
   "execution_count": 6,
   "id": "a81beba8",
   "metadata": {},
   "outputs": [
    {
     "name": "stdout",
     "output_type": "stream",
     "text": [
      "{(4, 'C'), (0, 'G'), (9, 'A'), (12, 'G'), (11, 'C'), (2, 'G'), (13, 'G'), (16, 'T'), (7, 'C'), (8, 'T'), (14, 'G'), (3, 'C'), (5, 'T'), (15, 'A'), (10, 'A'), (6, 'A'), (1, 'A')}\n",
      "\n",
      "{(4, 'G'), (16, 'T'), (12, 'G'), (0, 'C'), (11, 'C'), (2, 'T'), (13, 'G'), (8, 'T'), (7, 'A'), (3, 'C'), (14, 'C'), (5, 'T'), (15, 'C'), (10, 'A'), (6, 'A'), (1, 'A'), (9, 'G')}\n"
     ]
    }
   ],
   "source": [
    "# convert each list of tuples into a set\n",
    "\n",
    "set_s = set(s_pairs)\n",
    "set_t = set(t_pairs)\n",
    "\n",
    "# print\n",
    "\n",
    "print(set_s)\n",
    "print('')\n",
    "print(set_t)"
   ]
  },
  {
   "cell_type": "code",
   "execution_count": 7,
   "id": "f4eca2a5",
   "metadata": {},
   "outputs": [
    {
     "data": {
      "text/plain": [
       "{(0, 'G'), (2, 'G'), (4, 'C'), (7, 'C'), (9, 'A'), (14, 'G'), (15, 'A')}"
      ]
     },
     "execution_count": 7,
     "metadata": {},
     "output_type": "execute_result"
    }
   ],
   "source": [
    "# difference?\n",
    "\n",
    "set_s - set_t"
   ]
  },
  {
   "cell_type": "code",
   "execution_count": 8,
   "id": "a39786cd",
   "metadata": {},
   "outputs": [
    {
     "data": {
      "text/plain": [
       "7"
      ]
     },
     "execution_count": 8,
     "metadata": {},
     "output_type": "execute_result"
    }
   ],
   "source": [
    "# length of diference?\n",
    "\n",
    "len(set_s - set_t)"
   ]
  },
  {
   "cell_type": "code",
   "execution_count": 9,
   "id": "c08562f3",
   "metadata": {},
   "outputs": [
    {
     "data": {
      "text/plain": [
       "7"
      ]
     },
     "execution_count": 9,
     "metadata": {},
     "output_type": "execute_result"
    }
   ],
   "source": [
    "# even we change the positions, the 'len' result will be the same\n",
    "\n",
    "len(set_t - set_s)"
   ]
  },
  {
   "cell_type": "markdown",
   "id": "d077a950",
   "metadata": {},
   "source": [
    "### --A Simple Speed Test"
   ]
  },
  {
   "cell_type": "code",
   "execution_count": 10,
   "id": "f51040e0",
   "metadata": {},
   "outputs": [
    {
     "name": "stdout",
     "output_type": "stream",
     "text": [
      "The initial length of s: 17\n",
      "The initial length of t: 17\n",
      "The final length of s: 850000\n",
      "The final length of t: 850000\n"
     ]
    }
   ],
   "source": [
    "# first increase the size of t and s\n",
    "\n",
    "print('The initial length of s:', len(s))\n",
    "print('The initial length of t:', len(t))\n",
    "\n",
    "t *= 50000\n",
    "s *= 50000\n",
    "\n",
    "# print\n",
    "\n",
    "print('The final length of s:', len(s))\n",
    "print('The final length of t:', len(t))"
   ]
  },
  {
   "cell_type": "code",
   "execution_count": 11,
   "id": "f48cf572",
   "metadata": {},
   "outputs": [],
   "source": [
    "# option 1"
   ]
  },
  {
   "cell_type": "code",
   "execution_count": 12,
   "id": "e2536c2e",
   "metadata": {},
   "outputs": [
    {
     "name": "stdout",
     "output_type": "stream",
     "text": [
      "67.7 ms ± 1.39 ms per loop (mean ± std. dev. of 7 runs, 100 loops each)\n"
     ]
    }
   ],
   "source": [
    "%%timeit -n 100\n",
    "\n",
    "mutation_counter = 0\n",
    "\n",
    "for i in range(len(s)): \n",
    "    if s[i] != t[i]:\n",
    "        mutation_counter += 1"
   ]
  },
  {
   "cell_type": "code",
   "execution_count": 13,
   "id": "b2d8ce8f",
   "metadata": {},
   "outputs": [],
   "source": [
    "# option 2"
   ]
  },
  {
   "cell_type": "code",
   "execution_count": 14,
   "id": "bd164f9f",
   "metadata": {},
   "outputs": [
    {
     "name": "stdout",
     "output_type": "stream",
     "text": [
      "295 ms ± 1.07 ms per loop (mean ± std. dev. of 7 runs, 100 loops each)\n"
     ]
    }
   ],
   "source": [
    "%%timeit -n 100\n",
    "\n",
    "from scipy.spatial.distance import hamming\n",
    "\n",
    "mutation_counter = int(hamming(list(s), list(t)) * len(s))"
   ]
  },
  {
   "cell_type": "code",
   "execution_count": 15,
   "id": "5e7b75de",
   "metadata": {},
   "outputs": [],
   "source": [
    "# option 3"
   ]
  },
  {
   "cell_type": "code",
   "execution_count": 16,
   "id": "b70c4fff",
   "metadata": {},
   "outputs": [
    {
     "name": "stdout",
     "output_type": "stream",
     "text": [
      "519 ms ± 10.6 ms per loop (mean ± std. dev. of 7 runs, 100 loops each)\n"
     ]
    }
   ],
   "source": [
    "%%timeit -n 100\n",
    "\n",
    "set_s = set([(idx, base) for idx, base in enumerate(s)])\n",
    "set_t = set([(idx, base) for idx, base in enumerate(t)])\n",
    "\n",
    "mutation_counter = len(set_s - set_t)"
   ]
  },
  {
   "cell_type": "code",
   "execution_count": 17,
   "id": "5d7a15e9",
   "metadata": {},
   "outputs": [],
   "source": [
    "# option1 - the most straightforward solution gives the best result\n",
    "# even option 3 looks a clever solution, it has 2 loops (in a high-level the complexity is O(2n))\n",
    "# while option 1 has only one loop (complexity O(n))\n",
    "# implement option 1"
   ]
  },
  {
   "cell_type": "markdown",
   "id": "92fe3d1b",
   "metadata": {},
   "source": [
    "# 3. Implementation"
   ]
  },
  {
   "cell_type": "code",
   "execution_count": 18,
   "id": "53387be6",
   "metadata": {},
   "outputs": [],
   "source": [
    "def hamm(filename):\n",
    "    \n",
    "    '''\n",
    "    inputs\n",
    "        a file contains two dna strings: s and t\n",
    "    process\n",
    "        calculates number of mismatch points\n",
    "    output\n",
    "        prints number of mismatches / mutations as an answer to console\n",
    "        writes and saaves answer in a file\n",
    "    '''\n",
    "    \n",
    "    # read file and extract dna strings\n",
    "    with open(filename, 'r') as file:\n",
    "        s = file.readline().strip().upper()\n",
    "        t = file.readline().strip().upper()\n",
    "                \n",
    "    # initiate mutation counter to track hamming distance\n",
    "    mismatches = 0\n",
    "    \n",
    "    # loop over sequences and populate mutation counter (mismatches)\n",
    "    for i in range(len(s)):\n",
    "        if t[i] != s[i]:\n",
    "            mismatches += 1\n",
    "    \n",
    "    # print answer to console\n",
    "    print('\\n\\x1B[1mANSWER\\x1B[0m\\n______\\n')\n",
    "    print(f'{mismatches}')\n",
    "    \n",
    "    # open file and write answer\n",
    "    file = open(f'{filename.split(\".\")[0]}_answer.txt', 'w')\n",
    "    file.write(f'{mismatches}')\n",
    "    file.close()\n",
    "    print('\\n\\n#! The answer has been written into the file:',\n",
    "          f'\\x1B[1m./{filename.split(\".\")[0]}_answer.txt\\x1B[0m\\n')"
   ]
  },
  {
   "cell_type": "markdown",
   "id": "af3430d0",
   "metadata": {},
   "source": [
    "# 4. Execution"
   ]
  },
  {
   "cell_type": "code",
   "execution_count": 19,
   "id": "767714cd",
   "metadata": {},
   "outputs": [
    {
     "name": "stdout",
     "output_type": "stream",
     "text": [
      "\n",
      "\u001b[1mANSWER\u001b[0m\n",
      "______\n",
      "\n",
      "7\n",
      "\n",
      "\n",
      "#! The answer has been written into the file: \u001b[1m./hamm_test_answer.txt\u001b[0m\n",
      "\n"
     ]
    }
   ],
   "source": [
    "hamm('hamm_test.txt')"
   ]
  },
  {
   "cell_type": "code",
   "execution_count": 20,
   "id": "055fc681",
   "metadata": {},
   "outputs": [
    {
     "name": "stdout",
     "output_type": "stream",
     "text": [
      "\n",
      "\u001b[1mANSWER\u001b[0m\n",
      "______\n",
      "\n",
      "479\n",
      "\n",
      "\n",
      "#! The answer has been written into the file: \u001b[1m./rosalind_hamm_answer.txt\u001b[0m\n",
      "\n"
     ]
    }
   ],
   "source": [
    "hamm('rosalind_hamm.txt')"
   ]
  },
  {
   "cell_type": "markdown",
   "id": "1b8b2799",
   "metadata": {},
   "source": [
    "<p style='text-align: right;'>\n",
    "    <!--<b><font size = '5'>Contact</font></b><br>-->\n",
    "    <b>Orcun Tasar</b><br>\n",
    "    <i>Bioinformatician / Data Scientist</i><br>\n",
    "    orcuntasar |at@| ogr.iu.edu.tr<br>\n",
    "    tasar.orcun |at@| gmail.com<br>\n",
    "    <a href = 'https://www.linkedin.com/in/orçun-taşar-7b5992a1/'>Linkedin</a> | <a href = 'https://www.instagram.com/shatranuchor/'>Instagram</a>\n",
    "</p>"
   ]
  }
 ],
 "metadata": {
  "kernelspec": {
   "display_name": "Python 3",
   "language": "python",
   "name": "python3"
  },
  "language_info": {
   "codemirror_mode": {
    "name": "ipython",
    "version": 3
   },
   "file_extension": ".py",
   "mimetype": "text/x-python",
   "name": "python",
   "nbconvert_exporter": "python",
   "pygments_lexer": "ipython3",
   "version": "3.8.15"
  }
 },
 "nbformat": 4,
 "nbformat_minor": 5
}
