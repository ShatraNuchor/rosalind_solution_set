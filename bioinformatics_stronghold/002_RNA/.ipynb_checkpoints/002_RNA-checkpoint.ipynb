{
 "cells": [
  {
   "cell_type": "markdown",
   "id": "87f06d10",
   "metadata": {},
   "source": [
    "# 1. Source"
   ]
  },
  {
   "cell_type": "markdown",
   "id": "c2a97146",
   "metadata": {},
   "source": [
    "Click on the link to go to the source web page of **Rosalind**: [Transcribing DNA into RNA](https://rosalind.info/problems/rna/)"
   ]
  },
  {
   "cell_type": "markdown",
   "id": "f6f0b1e4",
   "metadata": {},
   "source": [
    "**Problem**\n",
    "\n",
    "![Transcribing DNA into RNA!](rna_problem.png 'Transcribing DNA into RNA')"
   ]
  },
  {
   "cell_type": "markdown",
   "id": "2b1349c1",
   "metadata": {},
   "source": [
    "**Sample Dataset**\n",
    "\n",
    "GATGGAACTTGACTACGTAAATT"
   ]
  },
  {
   "cell_type": "markdown",
   "id": "18502457",
   "metadata": {},
   "source": [
    "**Sample Output**\n",
    "\n",
    "GAUGGAACUUGACUACGUAAAUU"
   ]
  },
  {
   "cell_type": "markdown",
   "id": "bda51d19",
   "metadata": {},
   "source": [
    "### Sample Dataset Workspace"
   ]
  },
  {
   "cell_type": "code",
   "execution_count": 1,
   "id": "ba11a9f1",
   "metadata": {},
   "outputs": [
    {
     "name": "stdout",
     "output_type": "stream",
     "text": [
      "GATGGAACTTGACTACGTAAATT\n"
     ]
    }
   ],
   "source": [
    "# read the given dataset from the file\n",
    "\n",
    "with open('rna_test.txt', 'r') as file:\n",
    "    dnaSeq = file.read().strip().upper()\n",
    "    \n",
    "# print what we have just read\n",
    "\n",
    "print(dnaSeq)"
   ]
  },
  {
   "cell_type": "code",
   "execution_count": 2,
   "id": "bdd0660c",
   "metadata": {},
   "outputs": [
    {
     "name": "stdout",
     "output_type": "stream",
     "text": [
      "GAUGGAACUUGACUACGUAAAUU\n"
     ]
    }
   ],
   "source": [
    "# we can simply replace all Ts by Us with python's .replace() function\n",
    "\n",
    "rnaSeq = dnaSeq.replace('T', 'U')\n",
    "\n",
    "# check rnaSeq\n",
    "\n",
    "print(rnaSeq)"
   ]
  },
  {
   "cell_type": "code",
   "execution_count": 3,
   "id": "bc15436f",
   "metadata": {},
   "outputs": [
    {
     "data": {
      "text/plain": [
       "True"
      ]
     },
     "execution_count": 3,
     "metadata": {},
     "output_type": "execute_result"
    }
   ],
   "source": [
    "# since there are many bases it is better no to trust manual eye check\n",
    "# copy paste the sample output given by rosalind\n",
    "# and perform a simple equality check\n",
    "\n",
    "sample_output = 'GAUGGAACUUGACUACGUAAAUU'\n",
    "\n",
    "rnaSeq == sample_output"
   ]
  },
  {
   "cell_type": "code",
   "execution_count": 4,
   "id": "b07c73b4",
   "metadata": {},
   "outputs": [
    {
     "name": "stdout",
     "output_type": "stream",
     "text": [
      "GAUGGAACUUGACUACGUAAAUU\n"
     ]
    }
   ],
   "source": [
    "# again we can handle the problem with a for-loop\n",
    "# which will not be so efficient as the dnaSeq length increases\n",
    "\n",
    "rnaSeq = ''\n",
    "\n",
    "for base in dnaSeq:\n",
    "    if base == 'T':\n",
    "        rnaSeq += 'U'\n",
    "    else:\n",
    "        rnaSeq += base\n",
    "        \n",
    "print(rnaSeq)"
   ]
  },
  {
   "cell_type": "code",
   "execution_count": 5,
   "id": "aa1c9a22",
   "metadata": {},
   "outputs": [
    {
     "name": "stdout",
     "output_type": "stream",
     "text": [
      "GAUGGAACUUGACUACGUAAAUU\n"
     ]
    }
   ],
   "source": [
    "# or for just a brainstorm\n",
    "# we can create a dictionary\n",
    "# so, we can avoid the if-else block using that dictionary\n",
    "\n",
    "dna_to_rna_dict = {\n",
    "    'A': 'A', 'T': 'U', 'C': 'C', 'G': 'G'\n",
    "}\n",
    "\n",
    "# we can use this dictionary to populate the new rnaSeq\n",
    "\n",
    "rnaSeq = ''\n",
    "\n",
    "for base in dnaSeq:\n",
    "    rnaSeq += dna_to_rna_dict[base]\n",
    "    \n",
    "# print\n",
    "\n",
    "print(rnaSeq)"
   ]
  },
  {
   "cell_type": "code",
   "execution_count": 6,
   "id": "213884b3",
   "metadata": {},
   "outputs": [],
   "source": [
    "# however python's built-in function: .replace() works well\n",
    "# the other 2 options are not efficient\n",
    "# we can perform a simple speed test to show that"
   ]
  },
  {
   "cell_type": "markdown",
   "id": "9572cdfe",
   "metadata": {},
   "source": [
    "### --A Simple Speed Test"
   ]
  },
  {
   "cell_type": "code",
   "execution_count": 7,
   "id": "707343a1",
   "metadata": {},
   "outputs": [
    {
     "name": "stdout",
     "output_type": "stream",
     "text": [
      "initial dnaSeq length: 23\n",
      "final dnaSeq length: 230000\n"
     ]
    }
   ],
   "source": [
    "# increase the size of dna sequence to see the differences (if there is any) easier\n",
    "\n",
    "print('initial dnaSeq length:', len(dnaSeq))\n",
    "dnaSeq *= 10000\n",
    "print('final dnaSeq length:', len(dnaSeq))"
   ]
  },
  {
   "cell_type": "code",
   "execution_count": 8,
   "id": "aede8083",
   "metadata": {},
   "outputs": [],
   "source": [
    "# option 1"
   ]
  },
  {
   "cell_type": "code",
   "execution_count": 9,
   "id": "31edfdee",
   "metadata": {},
   "outputs": [
    {
     "name": "stdout",
     "output_type": "stream",
     "text": [
      "102 µs ± 1.2 µs per loop (mean ± std. dev. of 7 runs, 500 loops each)\n"
     ]
    }
   ],
   "source": [
    "%%timeit -n 500\n",
    "\n",
    "rnaSeq = dnaSeq.replace('T', 'U')"
   ]
  },
  {
   "cell_type": "code",
   "execution_count": 10,
   "id": "b77fa8e5",
   "metadata": {},
   "outputs": [],
   "source": [
    "# option 2"
   ]
  },
  {
   "cell_type": "code",
   "execution_count": 11,
   "id": "9126afbb",
   "metadata": {},
   "outputs": [
    {
     "name": "stdout",
     "output_type": "stream",
     "text": [
      "23.2 ms ± 179 µs per loop (mean ± std. dev. of 7 runs, 500 loops each)\n"
     ]
    }
   ],
   "source": [
    "%%timeit -n 500\n",
    "\n",
    "rnaSeq = ''\n",
    "\n",
    "for base in dnaSeq:\n",
    "    if base == 'T':\n",
    "        rnaSeq += 'U'\n",
    "    else:\n",
    "        rnaSeq += base"
   ]
  },
  {
   "cell_type": "code",
   "execution_count": 12,
   "id": "94ea54ec",
   "metadata": {},
   "outputs": [],
   "source": [
    "# option 3"
   ]
  },
  {
   "cell_type": "code",
   "execution_count": 13,
   "id": "71bde1b7",
   "metadata": {},
   "outputs": [
    {
     "name": "stdout",
     "output_type": "stream",
     "text": [
      "18 ms ± 61.2 µs per loop (mean ± std. dev. of 7 runs, 500 loops each)\n"
     ]
    }
   ],
   "source": [
    "%%timeit -n 500\n",
    "\n",
    "dna_to_rna_dict = { 'A': 'A', 'T': 'U', 'C': 'C', 'G': 'G' }\n",
    "\n",
    "rnaSeq = ''\n",
    "\n",
    "for base in dnaSeq:\n",
    "    rnaSeq += dna_to_rna_dict[base]"
   ]
  },
  {
   "cell_type": "code",
   "execution_count": 14,
   "id": "76eb699d",
   "metadata": {},
   "outputs": [],
   "source": [
    "# as we see the first option is way better than other two"
   ]
  },
  {
   "cell_type": "markdown",
   "id": "40612aef",
   "metadata": {},
   "source": [
    "# 3. Implementation"
   ]
  },
  {
   "cell_type": "code",
   "execution_count": 15,
   "id": "53387be6",
   "metadata": {},
   "outputs": [],
   "source": [
    "def rna(filename):\n",
    "    \n",
    "    '''\n",
    "    input\n",
    "        a file contains a dna string\n",
    "    process\n",
    "        replaces each T by U, keeps rest as same\n",
    "    returns\n",
    "        writes and saves new rna sequence as answer in a file\n",
    "        prints answer to console\n",
    "    '''\n",
    "    \n",
    "    # open and read the file\n",
    "    with open(filename, 'r') as file:\n",
    "        dnaString = file.read()\n",
    "        \n",
    "    # generate the rna string\n",
    "    rnaString = dnaString.replace('T', 'U')\n",
    "    \n",
    "    # print answer to console\n",
    "    print('\\n\\x1B[1mANSWER\\x1B[0m\\n______\\n')\n",
    "    print(f'{rnaString}')\n",
    "    \n",
    "    # open file and write answer\n",
    "    file = open(f'{filename.split(\".\")[0]}_answer.txt', 'w')\n",
    "    file.write(f'{rnaString}')\n",
    "    file.close()\n",
    "    print('\\n\\n#! The answer has been written into the file:',\n",
    "          f'\\x1B[1m./{filename.split(\".\")[0]}_answer.txt\\x1B[0m\\n')"
   ]
  },
  {
   "cell_type": "markdown",
   "id": "af3430d0",
   "metadata": {},
   "source": [
    "# 4. Execution"
   ]
  },
  {
   "cell_type": "code",
   "execution_count": 16,
   "id": "25eec595",
   "metadata": {},
   "outputs": [
    {
     "name": "stdout",
     "output_type": "stream",
     "text": [
      "\n",
      "\u001b[1mANSWER\u001b[0m\n",
      "______\n",
      "\n",
      "GAUGGAACUUGACUACGUAAAUU\n",
      "\n",
      "\n",
      "#! The answer has been written into the file: \u001b[1m./rna_test_answer.txt\u001b[0m\n",
      "\n"
     ]
    }
   ],
   "source": [
    "rna('rna_test.txt')"
   ]
  },
  {
   "cell_type": "code",
   "execution_count": 17,
   "id": "767714cd",
   "metadata": {},
   "outputs": [
    {
     "name": "stdout",
     "output_type": "stream",
     "text": [
      "\n",
      "\u001b[1mANSWER\u001b[0m\n",
      "______\n",
      "\n",
      "UGCGGAGGGAGACGCGGAGAAUGUAGGAGGCAGGCGUAUGAAGUUGCAUGGACCGGUGAACAGCGAACGUCGUCAAUUAUUGAAACGAGAUCUCUAAAGGCCUCAUUUAAGCUACAUGGAUUCACGACUCAAGCGGUUCGAUCUGCACCGACUGGGUACGGUCGGUACUUUGUAGCAUCCAGGUCACGAAAGCGUUCCGACUGCUAUGUAUGAAAAUGAGGGGUUUACUUUAGUAGUAAAGUCGGACGGUAGGUUGUCCCUCUUCACUCAUGUAUCUGGGAUUUACCGGGUAACUCGCCAACAUACGAAUCUGCGCACGACUGCGCGCUCGGCAAGCAUUAUCCUCGAGACUAGAGGCGAACAGCUCUCAACUGAACCAUUGGGGACGAUUACCGUACGGCAUGCUGGUGCUAUCUCAGUAUAUAGACCCGGAGAUCCCUUGGGGCAAUGGUUGGCCUUCGAAGGCCGGUAUUGAGCAGGAUCCCGAAUCCUAACCAGUAUUCCAUCUUUUCUCAGUUAAACAAGUCCAGGCGAGAACCCCUUGAGGCAUAUAGCUGCUGUAAAUCCUGUUACCUACAAUCCAUGCAAAGCUAGCCGGUCGAUGAUAUGCAGAACUCCUUCGAAAUGACAUGUCUGUAGAGCUAUCCCCUCACGUGCUAUCUGUGACGUGAGCUAAAGUUUAGUACGCUUAUCGGGGCUAGGGCGCCAGCGAGGGGAUUGCCUGCUAACUUGAAGUCCCGUUAAUAGACUCUAGUUUAGUCAUAGCGAGGACAAUCAAACGGUCCAGUUGUACUGCCUCUUCUGACUGGUACCGCCAUGGAAUACUGUUACAUAUCGAGUACCAGGAGUGUCGUAUAAUCUCGGAGGCGGGAUUGUAUCACUUUUGUUAAUUAUACACAUGAUCGCAUGGCAACGUAGCGGGUUCUGAUGCCAUCUUCCCAAU\n",
      "\n",
      "\n",
      "\n",
      "#! The answer has been written into the file: \u001b[1m./rosalind_rna_answer.txt\u001b[0m\n",
      "\n"
     ]
    }
   ],
   "source": [
    "rna('rosalind_rna.txt')"
   ]
  },
  {
   "cell_type": "markdown",
   "id": "df6b314d",
   "metadata": {},
   "source": [
    "<p style='text-align: right;'>\n",
    "    <!--<b><font size = '5'>Contact</font></b><br>-->\n",
    "    <b>Orcun Tasar</b><br>\n",
    "    <i>Bioinformatician / Data Scientist</i><br>\n",
    "    orcuntasar |at@| ogr.iu.edu.tr<br>\n",
    "    tasar.orcun |at@| gmail.com<br>\n",
    "    <a href = 'https://www.linkedin.com/in/orçun-taşar-7b5992a1/'>Linkedin</a> | <a href = 'https://www.instagram.com/shatranuchor/'>Instagram</a>\n",
    "</p>"
   ]
  }
 ],
 "metadata": {
  "kernelspec": {
   "display_name": "Python 3",
   "language": "python",
   "name": "python3"
  },
  "language_info": {
   "codemirror_mode": {
    "name": "ipython",
    "version": 3
   },
   "file_extension": ".py",
   "mimetype": "text/x-python",
   "name": "python",
   "nbconvert_exporter": "python",
   "pygments_lexer": "ipython3",
   "version": "3.8.15"
  }
 },
 "nbformat": 4,
 "nbformat_minor": 5
}
