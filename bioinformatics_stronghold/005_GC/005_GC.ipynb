{
 "cells": [
  {
   "cell_type": "markdown",
   "id": "7289f739",
   "metadata": {},
   "source": [
    "# 1. Source"
   ]
  },
  {
   "cell_type": "markdown",
   "id": "ed1813a4",
   "metadata": {},
   "source": [
    "Click on the link to go to the source web page of **Rosalind**: [Computing GC Content](https://rosalind.info/problems/gc/)"
   ]
  },
  {
   "cell_type": "markdown",
   "id": "f6f0b1e4",
   "metadata": {},
   "source": [
    "**Problem**\n",
    "\n",
    "![Computing GC Content](gc_problem.png 'Computing GC Content')"
   ]
  },
  {
   "cell_type": "markdown",
   "id": "2b1349c1",
   "metadata": {},
   "source": [
    "**Sample Dataset**\n",
    "\n",
    "\\>Rosalind_6404<br>\n",
    "CCTGCGGAAGATCGGCACTAGAATAGCCAGAACCGTTTCTCTGAGGCTTCCGGCCTTCCC<br>\n",
    "TCCCACTAATAATTCTGAGG<br>\n",
    "\\>Rosalind_5959<br>\n",
    "CCATCGGTAGCGCATCCTTAGTCCAATTAAGTCCCTATCCAGGCGCTCCGCCGAAGGTCT<br>\n",
    "ATATCCATTTGTCAGCAGACACGC<br>\n",
    "\\>Rosalind_0808<br>\n",
    "CCACCCTCGTGGTATGGCTAGGCATTCAGGAACCGGAGAACGCTTCAGACCAGCCCGGAC<br>\n",
    "TGGGAACCTGCGGGCAGTAGGTGGAAT<br>"
   ]
  },
  {
   "cell_type": "markdown",
   "id": "18502457",
   "metadata": {},
   "source": [
    "**Sample Output**\n",
    "\n",
    "Rosalind_0808<br>\n",
    "60.919540"
   ]
  },
  {
   "cell_type": "markdown",
   "id": "bda51d19",
   "metadata": {},
   "source": [
    "# 2. Workspace"
   ]
  },
  {
   "cell_type": "code",
   "execution_count": 1,
   "id": "9455b798",
   "metadata": {},
   "outputs": [],
   "source": [
    "# read the input file \n",
    "\n",
    "# initiate a sequence dict\n",
    "\n",
    "sequence_dict = dict()\n",
    "\n",
    "# populate this dictionary with the data in the input file\n",
    "\n",
    "with open('gc_test_1.txt', 'r') as file:\n",
    "    for line in file:\n",
    "        if line.startswith('>Rosalind'):\n",
    "            identifier = line[1:].strip()\n",
    "            sequence_dict[identifier] = ''\n",
    "        else:\n",
    "            sequence_dict[identifier] += line.strip().upper()"
   ]
  },
  {
   "cell_type": "code",
   "execution_count": 2,
   "id": "439ff65e",
   "metadata": {},
   "outputs": [
    {
     "data": {
      "text/plain": [
       "{'Rosalind_6404': 'CCTGCGGAAGATCGGCACTAGAATAGCCAGAACCGTTTCTCTGAGGCTTCCGGCCTTCCCTCCCACTAATAATTCTGAGG',\n",
       " 'Rosalind_5959': 'CCATCGGTAGCGCATCCTTAGTCCAATTAAGTCCCTATCCAGGCGCTCCGCCGAAGGTCTATATCCATTTGTCAGCAGACACGC',\n",
       " 'Rosalind_0808': 'CCACCCTCGTGGTATGGCTAGGCATTCAGGAACCGGAGAACGCTTCAGACCAGCCCGGACTGGGAACCTGCGGGCAGTAGGTGGAAT'}"
      ]
     },
     "execution_count": 2,
     "metadata": {},
     "output_type": "execute_result"
    }
   ],
   "source": [
    "# look into a couple of k:v pairs as identifier:sequence\n",
    "\n",
    "sequence_dict"
   ]
  },
  {
   "cell_type": "code",
   "execution_count": 3,
   "id": "887b51e7",
   "metadata": {},
   "outputs": [
    {
     "data": {
      "text/plain": [
       "'CCACCCTCGTGGTATGGCTAGGCATTCAGGAACCGGAGAACGCTTCAGACCAGCCCGGACTGGGAACCTGCGGGCAGTAGGTGGAAT'"
      ]
     },
     "execution_count": 3,
     "metadata": {},
     "output_type": "execute_result"
    }
   ],
   "source": [
    "sequence_dict['Rosalind_0808']"
   ]
  },
  {
   "cell_type": "code",
   "execution_count": 4,
   "id": "ca57f41c",
   "metadata": {},
   "outputs": [],
   "source": [
    "# write a sub-function to calculate gc content\n",
    "\n",
    "def gc_calc(sequence):\n",
    "    countG = sequence.count('G')\n",
    "    countC = sequence.count('C')\n",
    "    totalL = len(sequence)\n",
    "    calculation = 100 * (countG + countC) / totalL\n",
    "    return calculation"
   ]
  },
  {
   "cell_type": "code",
   "execution_count": 5,
   "id": "3eeff7cb",
   "metadata": {},
   "outputs": [
    {
     "data": {
      "text/plain": [
       "50.0"
      ]
     },
     "execution_count": 5,
     "metadata": {},
     "output_type": "execute_result"
    }
   ],
   "source": [
    "# test out this function\n",
    "\n",
    "gc_calc('AAAAACCCCCTTTTTGGGGG')"
   ]
  },
  {
   "cell_type": "code",
   "execution_count": 6,
   "id": "21d83528",
   "metadata": {},
   "outputs": [
    {
     "name": "stdout",
     "output_type": "stream",
     "text": [
      "{'Rosalind_6404': 53.75, 'Rosalind_5959': 53.57142857142857, 'Rosalind_0808': 60.91954022988506}\n"
     ]
    }
   ],
   "source": [
    "# after having the sequence dictionary, gc content can be calculated for each sequence\n",
    "# to store the calculated gc content results, initiate another dictionary for it\n",
    "\n",
    "gc_content_dict = dict()\n",
    "\n",
    "# populate the gc_content_dict looping over the sequence_dict and using gc_calc func\n",
    "\n",
    "for identifier, seq in sequence_dict.items():\n",
    "    gcContent = gc_calc(seq)\n",
    "    gc_content_dict[identifier] = gcContent\n",
    "    \n",
    "# see the final status of gc_content_dict\n",
    "\n",
    "print(gc_content_dict)"
   ]
  },
  {
   "cell_type": "code",
   "execution_count": 7,
   "id": "dd7cdabe",
   "metadata": {},
   "outputs": [
    {
     "data": {
      "text/plain": [
       "('Rosalind_0808', 60.91954022988506)"
      ]
     },
     "execution_count": 7,
     "metadata": {},
     "output_type": "execute_result"
    }
   ],
   "source": [
    "# the whole set does not have to be returned\n",
    "# rosalind asks for the maximum gc content and its identifier only\n",
    "\n",
    "# get the maximum gc content from gc_content_dict\n",
    "\n",
    "max(gc_content_dict.items(), key = lambda x: x[1])"
   ]
  },
  {
   "cell_type": "code",
   "execution_count": 8,
   "id": "53485021",
   "metadata": {},
   "outputs": [
    {
     "name": "stdout",
     "output_type": "stream",
     "text": [
      "Rosalind_0808\n",
      "60.91954022988506\n"
     ]
    }
   ],
   "source": [
    "# the dictionary:gc_content_dict can also be skipped\n",
    "\n",
    "# while looping over the sequence dict\n",
    "# only the highest gc content value and its identifier can be kept in max_variables\n",
    "\n",
    "max_identifier = ''\n",
    "max_gc_content = 0\n",
    "\n",
    "for identifier, seq in sequence_dict.items():\n",
    "    gcContent = gc_calc(seq)\n",
    "    if gcContent > max_gc_content: # compare the new gc content with the previous one\n",
    "        max_gc_content = gcContent # if the new one is greater, change the value that we keep\n",
    "        max_identifier = identifier # the same for the identifier\n",
    "    else:\n",
    "        continue # else do not change anything - !this line of command is not necessary for real\n",
    "\n",
    "# look into the final status of the max_variables\n",
    "\n",
    "print(max_identifier)\n",
    "print(max_gc_content)"
   ]
  },
  {
   "cell_type": "code",
   "execution_count": 9,
   "id": "954346c5",
   "metadata": {},
   "outputs": [
    {
     "data": {
      "text/plain": [
       "50.0"
      ]
     },
     "execution_count": 9,
     "metadata": {},
     "output_type": "execute_result"
    }
   ],
   "source": [
    "# the gc content also can be calculated using biopyhton\n",
    "# instead of my gc_calc function\n",
    "\n",
    "from Bio.SeqUtils import GC\n",
    "GC('AAAATTTTGGGGCCCC')"
   ]
  },
  {
   "cell_type": "code",
   "execution_count": 10,
   "id": "af4cbe29",
   "metadata": {},
   "outputs": [
    {
     "name": "stdout",
     "output_type": "stream",
     "text": [
      "Rosalind_0808\n",
      "60.91954022988506\n"
     ]
    }
   ],
   "source": [
    "# execute the last solution option using biopython function GC() instead gc_cal()\n",
    "\n",
    "from Bio.SeqUtils import GC\n",
    "\n",
    "max_identifier = ''\n",
    "max_gc_content = 0\n",
    "\n",
    "for identifier, seq in sequence_dict.items():\n",
    "    gcContent = GC(seq)\n",
    "    if gcContent > max_gc_content: \n",
    "        max_gc_content = gcContent \n",
    "        max_identifier = identifier \n",
    "\n",
    "# look into the final status of the max_variables\n",
    "\n",
    "print(max_identifier)\n",
    "print(max_gc_content)"
   ]
  },
  {
   "cell_type": "code",
   "execution_count": 11,
   "id": "f9fc848e",
   "metadata": {},
   "outputs": [
    {
     "name": "stdout",
     "output_type": "stream",
     "text": [
      "Rosalind_0808\n",
      "60.91954022988506\n"
     ]
    }
   ],
   "source": [
    "# with the same sense we can even skip creating the first dictionary: sequence_dict\n",
    "# we can do all calculations while reading the file\n",
    "# to do that this time I will use biopython's fasta parser\n",
    "\n",
    "from Bio.SeqIO.FastaIO import SimpleFastaParser\n",
    "from Bio.SeqUtils import GC\n",
    "\n",
    "max_identifier = ''\n",
    "max_gc_content = 0\n",
    "\n",
    "with open('gc_test_1.txt', 'r') as file:\n",
    "    for identifier, sequence in SimpleFastaParser(file):\n",
    "        gcContent = GC(sequence)\n",
    "        if gcContent > max_gc_content:\n",
    "            max_gc_content = gcContent\n",
    "            max_identifier = identifier\n",
    "        \n",
    "# look into the final status of the max_variables\n",
    "\n",
    "print(max_identifier)\n",
    "print(max_gc_content)"
   ]
  },
  {
   "cell_type": "code",
   "execution_count": 12,
   "id": "f0092bba",
   "metadata": {},
   "outputs": [],
   "source": [
    "# there might be some other options out there but\n",
    "# let's make a speed and memory tests for what I studied here"
   ]
  },
  {
   "cell_type": "markdown",
   "id": "678aa951",
   "metadata": {},
   "source": [
    "### --A Simple Speed Test"
   ]
  },
  {
   "cell_type": "code",
   "execution_count": 13,
   "id": "1fe8ce44",
   "metadata": {},
   "outputs": [
    {
     "name": "stdout",
     "output_type": "stream",
     "text": [
      "There are 195840 sequences in the file.\n"
     ]
    }
   ],
   "source": [
    "# for testing purpose use a larger dataset: gc_test_2.txt\n",
    "\n",
    "file = open('gc_test_2.txt', 'r')\n",
    "content = file.read()\n",
    "file.close()\n",
    "\n",
    "print(f'There are {content.count(\">\")} sequences in the file.')\n",
    "\n",
    "del content"
   ]
  },
  {
   "cell_type": "code",
   "execution_count": 14,
   "id": "044b90e6",
   "metadata": {},
   "outputs": [],
   "source": [
    "# option 1\n",
    "# sequence_dict + gc_content_dict\n",
    "# our own gc_calc func\n",
    "# sort at the end"
   ]
  },
  {
   "cell_type": "code",
   "execution_count": 15,
   "id": "e89c77cf",
   "metadata": {},
   "outputs": [
    {
     "name": "stdout",
     "output_type": "stream",
     "text": [
      "1.34 s ± 4.96 ms per loop (mean ± std. dev. of 7 runs, 20 loops each)\n"
     ]
    }
   ],
   "source": [
    "%%timeit -n 20\n",
    "\n",
    "sequence_dict = dict()\n",
    "\n",
    "with open('gc_test_2.txt', 'r') as file:\n",
    "    for line in file:\n",
    "        if line.startswith('>Rosalind'):\n",
    "            identifier = line[1:].strip()\n",
    "            sequence_dict[identifier] = ''\n",
    "        else:\n",
    "            sequence_dict[identifier] += line.strip().upper()\n",
    "            \n",
    "def gc_calc(sequence):\n",
    "    countG = sequence.count('G')\n",
    "    countC = sequence.count('C')\n",
    "    totalL = len(sequence)\n",
    "    calculation = 100 * (countG + countC) / totalL\n",
    "    return calculation\n",
    "\n",
    "gc_content_dict = dict()\n",
    "\n",
    "for identifier, seq in sequence_dict.items():\n",
    "    gcContent = gc_calc(seq)\n",
    "    gc_content_dict[identifier] = gcContent\n",
    "    \n",
    "max(gc_content_dict.items(), key = lambda x: x[1])"
   ]
  },
  {
   "cell_type": "code",
   "execution_count": 16,
   "id": "84c00b91",
   "metadata": {},
   "outputs": [],
   "source": [
    "# option 2\n",
    "# only sequence dict\n",
    "# our own gc_calc func"
   ]
  },
  {
   "cell_type": "code",
   "execution_count": 17,
   "id": "7e3280f4",
   "metadata": {},
   "outputs": [
    {
     "name": "stdout",
     "output_type": "stream",
     "text": [
      "1.33 s ± 3.97 ms per loop (mean ± std. dev. of 7 runs, 20 loops each)\n"
     ]
    }
   ],
   "source": [
    "%%timeit -n 20\n",
    "\n",
    "sequence_dict = dict()\n",
    "\n",
    "with open('gc_test_2.txt', 'r') as file:\n",
    "    for line in file:\n",
    "        if line.startswith('>Rosalind'):\n",
    "            identifier = line[1:].strip()\n",
    "            sequence_dict[identifier] = ''\n",
    "        else:\n",
    "            sequence_dict[identifier] += line.strip().upper()\n",
    "            \n",
    "def gc_calc(sequence):\n",
    "    countG = sequence.count('G')\n",
    "    countC = sequence.count('C')\n",
    "    totalL = len(sequence)\n",
    "    calculation = 100 * (countG + countC) / totalL\n",
    "    return calculation\n",
    "\n",
    "max_identifier = ''\n",
    "max_gc_content = 0\n",
    "\n",
    "for identifier, seq in sequence_dict.items():\n",
    "    gcContent = gc_calc(seq)\n",
    "    if gcContent > max_gc_content:\n",
    "        max_gc_content = gcContent \n",
    "        max_identifier = identifier"
   ]
  },
  {
   "cell_type": "code",
   "execution_count": 18,
   "id": "32fac14c",
   "metadata": {},
   "outputs": [],
   "source": [
    "# option 3\n",
    "# only sequence dict\n",
    "# biopython's GC() func"
   ]
  },
  {
   "cell_type": "code",
   "execution_count": 19,
   "id": "97fb6ddb",
   "metadata": {},
   "outputs": [
    {
     "name": "stdout",
     "output_type": "stream",
     "text": [
      "1.33 s ± 5.47 ms per loop (mean ± std. dev. of 7 runs, 20 loops each)\n"
     ]
    }
   ],
   "source": [
    "%%timeit -n 20\n",
    "\n",
    "from Bio.SeqUtils import GC\n",
    "\n",
    "sequence_dict = dict()\n",
    "\n",
    "with open('gc_test_2.txt', 'r') as file:\n",
    "    for line in file:\n",
    "        if line.startswith('>Rosalind'):\n",
    "            identifier = line[1:].strip()\n",
    "            sequence_dict[identifier] = ''\n",
    "        else:\n",
    "            sequence_dict[identifier] += line.strip().upper()\n",
    "\n",
    "max_identifier = ''\n",
    "max_gc_content = 0\n",
    "\n",
    "for identifier, seq in sequence_dict.items():\n",
    "    gcContent = GC(seq)\n",
    "    if gcContent > max_gc_content: \n",
    "        max_gc_content = gcContent \n",
    "        max_identifier = identifier "
   ]
  },
  {
   "cell_type": "code",
   "execution_count": 20,
   "id": "da6aeb43",
   "metadata": {},
   "outputs": [],
   "source": [
    "# option 4\n",
    "# no dictionary\n",
    "# biopython's fasta parser\n",
    "# biopython's GC() func"
   ]
  },
  {
   "cell_type": "code",
   "execution_count": 21,
   "id": "be575f75",
   "metadata": {},
   "outputs": [
    {
     "name": "stdout",
     "output_type": "stream",
     "text": [
      "1.86 s ± 15.4 ms per loop (mean ± std. dev. of 7 runs, 20 loops each)\n"
     ]
    }
   ],
   "source": [
    "%%timeit -n 20\n",
    "\n",
    "from Bio.SeqIO.FastaIO import SimpleFastaParser\n",
    "from Bio.SeqUtils import GC\n",
    "\n",
    "max_identifier = ''\n",
    "max_gc_content = 0\n",
    "\n",
    "with open('gc_test_2.txt', 'r') as file:\n",
    "    for identifier, sequence in SimpleFastaParser(file):\n",
    "        gcContent = GC(sequence)\n",
    "        if gcContent > max_gc_content:\n",
    "            max_gc_content = gcContent\n",
    "            max_identifier = identifier"
   ]
  },
  {
   "cell_type": "markdown",
   "id": "359d1b66",
   "metadata": {},
   "source": [
    "### --A Simple Memory Usage Test"
   ]
  },
  {
   "cell_type": "code",
   "execution_count": 22,
   "id": "71e1c74a",
   "metadata": {},
   "outputs": [],
   "source": [
    "# it seems that based on runtime all solutions work with closer runtimes\n",
    "# we can measure the memory usage to select the best\n",
    "\n",
    "%load_ext memory_profiler"
   ]
  },
  {
   "cell_type": "code",
   "execution_count": 23,
   "id": "a459bfd2",
   "metadata": {},
   "outputs": [],
   "source": [
    "# option 1\n",
    "# sequence_dict + gc_content_dict\n",
    "# our own gc_calc func\n",
    "# sort at the end"
   ]
  },
  {
   "cell_type": "code",
   "execution_count": 24,
   "id": "87e0412e",
   "metadata": {},
   "outputs": [
    {
     "name": "stdout",
     "output_type": "stream",
     "text": [
      "peak memory: 68.54 MiB, increment: 2.66 MiB\n"
     ]
    }
   ],
   "source": [
    "%%memit -r 20\n",
    "\n",
    "sequence_dict = dict()\n",
    "\n",
    "with open('gc_test_2.txt', 'r') as file:\n",
    "    for line in file:\n",
    "        if line.startswith('>Rosalind'):\n",
    "            identifier = line[1:].strip()\n",
    "            sequence_dict[identifier] = ''\n",
    "        else:\n",
    "            sequence_dict[identifier] += line.strip().upper()\n",
    "            \n",
    "def gc_calc(sequence):\n",
    "    countG = sequence.count('G')\n",
    "    countC = sequence.count('C')\n",
    "    totalL = len(sequence)\n",
    "    calculation = 100 * (countG + countC) / totalL\n",
    "    return calculation\n",
    "\n",
    "gc_content_dict = dict()\n",
    "\n",
    "for identifier, seq in sequence_dict.items():\n",
    "    gcContent = gc_calc(seq)\n",
    "    gc_content_dict[identifier] = gcContent\n",
    "    \n",
    "max(gc_content_dict.items(), key = lambda x: x[1])"
   ]
  },
  {
   "cell_type": "code",
   "execution_count": 25,
   "id": "f9ea1bff",
   "metadata": {},
   "outputs": [],
   "source": [
    "# option 2\n",
    "# only sequence dict\n",
    "# our own gc_calc func"
   ]
  },
  {
   "cell_type": "code",
   "execution_count": 26,
   "id": "2b586ca0",
   "metadata": {},
   "outputs": [
    {
     "name": "stdout",
     "output_type": "stream",
     "text": [
      "peak memory: 67.14 MiB, increment: 0.01 MiB\n"
     ]
    }
   ],
   "source": [
    "%%memit -r 20\n",
    "\n",
    "sequence_dict = dict()\n",
    "\n",
    "with open('gc_test_2.txt', 'r') as file:\n",
    "    for line in file:\n",
    "        if line.startswith('>Rosalind'):\n",
    "            identifier = line[1:].strip()\n",
    "            sequence_dict[identifier] = ''\n",
    "        else:\n",
    "            sequence_dict[identifier] += line.strip().upper()\n",
    "            \n",
    "def gc_calc(sequence):\n",
    "    countG = sequence.count('G')\n",
    "    countC = sequence.count('C')\n",
    "    totalL = len(sequence)\n",
    "    calculation = 100 * (countG + countC) / totalL\n",
    "    return calculation\n",
    "\n",
    "max_identifier = ''\n",
    "max_gc_content = 0\n",
    "\n",
    "for identifier, seq in sequence_dict.items():\n",
    "    gcContent = gc_calc(seq)\n",
    "    if gcContent > max_gc_content:\n",
    "        max_gc_content = gcContent \n",
    "        max_identifier = identifier"
   ]
  },
  {
   "cell_type": "code",
   "execution_count": 27,
   "id": "d0c8ac46",
   "metadata": {},
   "outputs": [],
   "source": [
    "# option 3\n",
    "# only sequence dict\n",
    "# biopython's GC() func"
   ]
  },
  {
   "cell_type": "code",
   "execution_count": 28,
   "id": "d2adb72d",
   "metadata": {},
   "outputs": [
    {
     "name": "stdout",
     "output_type": "stream",
     "text": [
      "peak memory: 67.14 MiB, increment: 0.01 MiB\n"
     ]
    }
   ],
   "source": [
    "%%memit -r 20\n",
    "\n",
    "from Bio.SeqUtils import GC\n",
    "\n",
    "sequence_dict = dict()\n",
    "\n",
    "with open('gc_test_2.txt', 'r') as file:\n",
    "    for line in file:\n",
    "        if line.startswith('>Rosalind'):\n",
    "            identifier = line[1:].strip()\n",
    "            sequence_dict[identifier] = ''\n",
    "        else:\n",
    "            sequence_dict[identifier] += line.strip().upper()\n",
    "\n",
    "max_identifier = ''\n",
    "max_gc_content = 0\n",
    "\n",
    "for identifier, seq in sequence_dict.items():\n",
    "    gcContent = GC(seq)\n",
    "    if gcContent > max_gc_content: \n",
    "        max_gc_content = gcContent \n",
    "        max_identifier = identifier "
   ]
  },
  {
   "cell_type": "code",
   "execution_count": 29,
   "id": "5a65c461",
   "metadata": {},
   "outputs": [],
   "source": [
    "# option 4\n",
    "# no dictionary\n",
    "# biopython's fasta parser\n",
    "# biopython's GC() func"
   ]
  },
  {
   "cell_type": "code",
   "execution_count": 30,
   "id": "37585bdf",
   "metadata": {},
   "outputs": [
    {
     "name": "stdout",
     "output_type": "stream",
     "text": [
      "peak memory: 67.18 MiB, increment: 0.01 MiB\n"
     ]
    }
   ],
   "source": [
    "%%memit -r 20\n",
    "\n",
    "from Bio.SeqIO.FastaIO import SimpleFastaParser\n",
    "from Bio.SeqUtils import GC\n",
    "\n",
    "max_identifier = ''\n",
    "max_gc_content = 0\n",
    "\n",
    "with open('gc_test_2.txt', 'r') as file:\n",
    "    for identifier, sequence in SimpleFastaParser(file):\n",
    "        gcContent = GC(sequence)\n",
    "        if gcContent > max_gc_content:\n",
    "            max_gc_content = gcContent\n",
    "            max_identifier = identifier"
   ]
  },
  {
   "cell_type": "code",
   "execution_count": 31,
   "id": "f78dfd23",
   "metadata": {},
   "outputs": [],
   "source": [
    "# across all options, the speed and the memory usage almost did not change at all\n",
    "# will implement the second option\n",
    "# which eliminates one of the tracking dictionaries\n",
    "# and also that option uses our own function:gc_calc() and file parsing\n",
    "# since biopython's GC() and SimpleFastaParser() funcs do not provide a faster calculation\n",
    "# it is not worth to use functions from outside, otherwise the implementation\n",
    "# will be dependent to an extra library for nothing"
   ]
  },
  {
   "cell_type": "markdown",
   "id": "92fe3d1b",
   "metadata": {},
   "source": [
    "# 4. Implementation"
   ]
  },
  {
   "cell_type": "code",
   "execution_count": 32,
   "id": "fe96c613",
   "metadata": {},
   "outputs": [],
   "source": [
    "def gc_calc(sequence):\n",
    "    \n",
    "    '''\n",
    "    input\n",
    "        a dna sequence string\n",
    "    process\n",
    "        calculates gc content ratio in given input sequence\n",
    "    output\n",
    "        gc content as float dtype\n",
    "    '''\n",
    "    \n",
    "    countG = sequence.count('G')\n",
    "    countC = sequence.count('C')\n",
    "    totalL = len(sequence)\n",
    "    \n",
    "    calculation = 100 * (countG + countC) / totalL\n",
    "    \n",
    "    return calculation"
   ]
  },
  {
   "cell_type": "code",
   "execution_count": 33,
   "id": "53387be6",
   "metadata": {},
   "outputs": [],
   "source": [
    "def gc(filename):\n",
    "    \n",
    "    '''\n",
    "    input\n",
    "        a file contains dna strings with their identifiers\n",
    "    process\n",
    "        parse input file\n",
    "        count gc contents of each dna string\n",
    "    output\n",
    "        prints identifier and gc content of dna string which has highest gc content to console\n",
    "        writes and saves answer in a file\n",
    "    '''\n",
    "    \n",
    "    # initiate dictionary to keep track of identifier:sequence\n",
    "    sequence_dict = dict()\n",
    "    \n",
    "    # open, read file and populate sequence_dict\n",
    "    with open(filename, 'r') as file:\n",
    "        for line in file:\n",
    "            if line.startswith('>Rosalind'):\n",
    "                identifier = line[1:].strip()\n",
    "                sequence_dict[identifier] = ''\n",
    "            else:\n",
    "                sequence_dict[identifier] += line.strip().upper()\n",
    "    \n",
    "    # initiate max_variables to keep highest gc content info at any time\n",
    "    max_identifier = ''\n",
    "    max_gc_content = 0\n",
    "\n",
    "    # loop over sequence_dict and define values for answer_variables\n",
    "    for identifier, seq in sequence_dict.items():\n",
    "        gcContent = gc_calc(seq)\n",
    "        if gcContent > max_gc_content:\n",
    "            max_gc_content = gcContent \n",
    "            max_identifier = identifier\n",
    "    \n",
    "    # print answer to console\n",
    "    print('\\n\\x1B[1mANSWER\\x1B[0m\\n______\\n')\n",
    "    print(f'{max_identifier}\\n{max_gc_content}')\n",
    "    \n",
    "    # open file and write answer\n",
    "    file = open(f'{filename.split(\".\")[0]}_answer.txt', 'w')\n",
    "    file.write(f'{max_identifier}\\n{max_gc_content}')\n",
    "    file.close()\n",
    "    print('\\n\\n#! The answer has been written into the file:',\n",
    "          f'\\x1B[1m./{filename.split(\".\")[0]}_answer.txt\\x1B[0m\\n')"
   ]
  },
  {
   "cell_type": "markdown",
   "id": "af3430d0",
   "metadata": {},
   "source": [
    "# 5. Execution"
   ]
  },
  {
   "cell_type": "code",
   "execution_count": 34,
   "id": "767714cd",
   "metadata": {
    "scrolled": true
   },
   "outputs": [
    {
     "name": "stdout",
     "output_type": "stream",
     "text": [
      "\n",
      "\u001b[1mANSWER\u001b[0m\n",
      "______\n",
      "\n",
      "Rosalind_0808\n",
      "60.91954022988506\n",
      "\n",
      "\n",
      "#! The answer has been written into the file: \u001b[1m./gc_test_1_answer.txt\u001b[0m\n",
      "\n"
     ]
    }
   ],
   "source": [
    "gc('gc_test_1.txt')"
   ]
  },
  {
   "cell_type": "code",
   "execution_count": 35,
   "id": "055fc681",
   "metadata": {
    "scrolled": true
   },
   "outputs": [
    {
     "name": "stdout",
     "output_type": "stream",
     "text": [
      "\n",
      "\u001b[1mANSWER\u001b[0m\n",
      "______\n",
      "\n",
      "Rosalind_6265\n",
      "52.060737527114966\n",
      "\n",
      "\n",
      "#! The answer has been written into the file: \u001b[1m./rosalind_gc_9_dataset_answer.txt\u001b[0m\n",
      "\n"
     ]
    }
   ],
   "source": [
    "gc('rosalind_gc_9_dataset.txt')"
   ]
  },
  {
   "cell_type": "code",
   "execution_count": 36,
   "id": "25eec595",
   "metadata": {},
   "outputs": [
    {
     "name": "stdout",
     "output_type": "stream",
     "text": [
      "\n",
      "\u001b[1mANSWER\u001b[0m\n",
      "______\n",
      "\n",
      "Rosalind_2512\n",
      "52.090800477897254\n",
      "\n",
      "\n",
      "#! The answer has been written into the file: \u001b[1m./rosalind_gc_answer.txt\u001b[0m\n",
      "\n"
     ]
    }
   ],
   "source": [
    "gc('rosalind_gc.txt')"
   ]
  },
  {
   "cell_type": "markdown",
   "id": "2f0b0509",
   "metadata": {},
   "source": [
    "<p style='text-align: right;'>\n",
    "    <!--<b><font size = '5'>Contact</font></b><br>-->\n",
    "    <b>Orcun Tasar</b><br>\n",
    "    <i>Bioinformatician / Data Scientist</i><br>\n",
    "    orcuntasar |at@| ogr.iu.edu.tr<br>\n",
    "    tasar.orcun |at@| gmail.com<br>\n",
    "    <a href = 'https://www.linkedin.com/in/orçun-taşar-7b5992a1/'>Linkedin</a> | <a href = 'https://www.instagram.com/shatranuchor/'>Instagram</a>\n",
    "</p>"
   ]
  }
 ],
 "metadata": {
  "kernelspec": {
   "display_name": "Python 3",
   "language": "python",
   "name": "python3"
  },
  "language_info": {
   "codemirror_mode": {
    "name": "ipython",
    "version": 3
   },
   "file_extension": ".py",
   "mimetype": "text/x-python",
   "name": "python",
   "nbconvert_exporter": "python",
   "pygments_lexer": "ipython3",
   "version": "3.8.15"
  }
 },
 "nbformat": 4,
 "nbformat_minor": 5
}
