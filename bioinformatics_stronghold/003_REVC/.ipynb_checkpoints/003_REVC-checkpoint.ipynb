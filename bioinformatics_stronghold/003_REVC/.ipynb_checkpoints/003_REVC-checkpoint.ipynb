{
 "cells": [
  {
   "cell_type": "markdown",
   "id": "3f32e692",
   "metadata": {},
   "source": [
    "# 1. Source"
   ]
  },
  {
   "cell_type": "markdown",
   "id": "58626e10",
   "metadata": {},
   "source": [
    "Click on the link to go to the source web page of **Rosalind**: [Complementing a Strand of DNA](https://rosalind.info/problems/revc/)"
   ]
  },
  {
   "cell_type": "markdown",
   "id": "f6f0b1e4",
   "metadata": {},
   "source": [
    "**Problem**\n",
    "\n",
    "![Complementing a Strand of DNA!](revc_problem.png 'Complementing a Strand of DNA')"
   ]
  },
  {
   "cell_type": "markdown",
   "id": "2b1349c1",
   "metadata": {},
   "source": [
    "**Sample Dataset**\n",
    "\n",
    "AAAACCCGGT"
   ]
  },
  {
   "cell_type": "markdown",
   "id": "18502457",
   "metadata": {},
   "source": [
    "**Sample Output**\n",
    "\n",
    "ACCGGGTTTT"
   ]
  },
  {
   "cell_type": "markdown",
   "id": "bda51d19",
   "metadata": {},
   "source": [
    "# 2. Workspace"
   ]
  },
  {
   "cell_type": "code",
   "execution_count": 1,
   "id": "bc9fd713",
   "metadata": {},
   "outputs": [
    {
     "name": "stdout",
     "output_type": "stream",
     "text": [
      "AAAACCCGGT\n"
     ]
    }
   ],
   "source": [
    "# read the given dna sequence from the file\n",
    "\n",
    "with open('revc_test.txt', 'r') as file:\n",
    "    dnaSeq = file.read().strip().upper()\n",
    "    \n",
    "# print what we have just read\n",
    "\n",
    "print(dnaSeq)"
   ]
  },
  {
   "cell_type": "code",
   "execution_count": 2,
   "id": "3f942543",
   "metadata": {},
   "outputs": [
    {
     "name": "stdout",
     "output_type": "stream",
     "text": [
      "ttttCCCGGT\n"
     ]
    }
   ],
   "source": [
    "# we can use .replace() built-in function to replace each base by their complements\n",
    "# start with replaceing A by Ts\n",
    "# replace As by ts (lowercase)\n",
    "# otherwise (if we replace As with uppercase Ts) it will direct us wrong direction\n",
    "\n",
    "revcSeq = dnaSeq.replace('A', 't')\n",
    "\n",
    "print(revcSeq)"
   ]
  },
  {
   "cell_type": "code",
   "execution_count": 3,
   "id": "2e91be46",
   "metadata": {},
   "outputs": [
    {
     "name": "stdout",
     "output_type": "stream",
     "text": [
      "ttttgggcca\n"
     ]
    }
   ],
   "source": [
    "# with the same strategy,\n",
    "# replace other bases\n",
    "\n",
    "revcSeq = revcSeq.replace('T', 'a')\n",
    "revcSeq = revcSeq.replace('C', 'g').replace('G', 'c')\n",
    "\n",
    "print(revcSeq)"
   ]
  },
  {
   "cell_type": "code",
   "execution_count": 4,
   "id": "66e2faa4",
   "metadata": {},
   "outputs": [
    {
     "name": "stdout",
     "output_type": "stream",
     "text": [
      "ACCGGGTTTT\n"
     ]
    }
   ],
   "source": [
    "# since this is a reverse complement we need to arrange the sequence in reverse order\n",
    "# and after that we can make all bases uppercase again\n",
    "\n",
    "revcSeq = revcSeq[::-1].upper()\n",
    "\n",
    "print(revcSeq)"
   ]
  },
  {
   "cell_type": "code",
   "execution_count": 5,
   "id": "bb2a29a9",
   "metadata": {},
   "outputs": [
    {
     "data": {
      "text/plain": [
       "True"
      ]
     },
     "execution_count": 5,
     "metadata": {},
     "output_type": "execute_result"
    }
   ],
   "source": [
    "# copy paste the sample output given by rosalind\n",
    "# and perform a simple equality check to see if the result is correct\n",
    "\n",
    "sample_output = 'ACCGGGTTTT'\n",
    "\n",
    "revcSeq == sample_output"
   ]
  },
  {
   "cell_type": "code",
   "execution_count": 6,
   "id": "9008a650",
   "metadata": {},
   "outputs": [
    {
     "name": "stdout",
     "output_type": "stream",
     "text": [
      "ACCGGGTTTT\n"
     ]
    }
   ],
   "source": [
    "# we do not need to write the same replace command again and again\n",
    "# if we can create a dictionary for base convertion, we can write the command\n",
    "# with a less effort and then also we will not have to deal with uppercases / lowercases\n",
    "\n",
    "# create the dictionary\n",
    "transcriptionDict = {\n",
    "    'A': 'T', 'G': 'C', 'C': 'G', 'T': 'A', 'N': 'N' # to make more realistic, we can add unknown bases\n",
    "}\n",
    "\n",
    "# initiate an empty rna sequence\n",
    "revcSeq = ''\n",
    "\n",
    "# loop over the dna sequence and populate revc sequence\n",
    "for base in dnaSeq[::-1]: # we can arrange the dna sequence in the reverse order at the beginning\n",
    "    revcSeq += transcriptionDict[base]\n",
    "    \n",
    "print(revcSeq)"
   ]
  },
  {
   "cell_type": "code",
   "execution_count": 7,
   "id": "572684f4",
   "metadata": {},
   "outputs": [
    {
     "name": "stdout",
     "output_type": "stream",
     "text": [
      "ACCGGGTTTT\n"
     ]
    }
   ],
   "source": [
    "# we can avoid arrange the dna or the revc string in the reverse order at the beginning or at the end\n",
    "# if we loop dna string directly in the reverse order\n",
    "# for the longer dna strings, the runtime may be shorter than the previous - also may be not!\n",
    "\n",
    "transcriptionDict = {\n",
    "    'A': 'T', 'G': 'C', 'C': 'G', 'T': 'A', 'N': 'N' \n",
    "}\n",
    "\n",
    "revcSeq = ''\n",
    "\n",
    "for i in range(len(dnaSeq) - 1, -1, -1):\n",
    "    revcSeq += transcriptionDict[dnaSeq[i]]\n",
    "    \n",
    "print(revcSeq)"
   ]
  },
  {
   "cell_type": "code",
   "execution_count": 8,
   "id": "6ad04800",
   "metadata": {},
   "outputs": [
    {
     "name": "stdout",
     "output_type": "stream",
     "text": [
      "ACCGGGTTTT\n"
     ]
    }
   ],
   "source": [
    "# apply the previous method to list comprehension\n",
    "\n",
    "transcriptionDict = {\n",
    "    'A': 'T', 'G': 'C', 'C': 'G', 'T': 'A', 'N': 'N' \n",
    "}\n",
    "\n",
    "revcSeq = ''.join([transcriptionDict[dnaSeq[i]] for i in range(len(dnaSeq) - 1, -1, -1)])\n",
    "\n",
    "    \n",
    "print(revcSeq)"
   ]
  },
  {
   "cell_type": "code",
   "execution_count": 9,
   "id": "852c0f03",
   "metadata": {},
   "outputs": [
    {
     "name": "stdout",
     "output_type": "stream",
     "text": [
      "AAAACCCGGT\n"
     ]
    }
   ],
   "source": [
    "# on the other hand, we can use biopython library\n",
    "\n",
    "from Bio.Seq import Seq\n",
    "\n",
    "dnaSeq = Seq(dnaSeq)\n",
    "\n",
    "print(dnaSeq)"
   ]
  },
  {
   "cell_type": "code",
   "execution_count": 10,
   "id": "6dc33eab",
   "metadata": {},
   "outputs": [
    {
     "data": {
      "text/plain": [
       "Seq('AAAACCCGGT')"
      ]
     },
     "execution_count": 10,
     "metadata": {},
     "output_type": "execute_result"
    }
   ],
   "source": [
    "# look into the Seq object without print\n",
    "\n",
    "dnaSeq"
   ]
  },
  {
   "cell_type": "code",
   "execution_count": 11,
   "id": "fcf95c2c",
   "metadata": {},
   "outputs": [
    {
     "name": "stdout",
     "output_type": "stream",
     "text": [
      "ACCGGGTTTT\n"
     ]
    }
   ],
   "source": [
    "# we can eaasily create a reverse complement using biopython .reverse_complement() method\n",
    "\n",
    "revcSeq = dnaSeq.reverse_complement()\n",
    "\n",
    "print(revcSeq)"
   ]
  },
  {
   "cell_type": "code",
   "execution_count": 12,
   "id": "b4bbfc3c",
   "metadata": {},
   "outputs": [
    {
     "data": {
      "text/plain": [
       "Seq('ACCGGGTTTT')"
      ]
     },
     "execution_count": 12,
     "metadata": {},
     "output_type": "execute_result"
    }
   ],
   "source": [
    "revcSeq"
   ]
  },
  {
   "cell_type": "code",
   "execution_count": 13,
   "id": "f97612ae",
   "metadata": {},
   "outputs": [],
   "source": [
    "# perform a simple speed test to see which option is better"
   ]
  },
  {
   "cell_type": "markdown",
   "id": "868f84bd",
   "metadata": {},
   "source": [
    "### --A Simple Speed Test"
   ]
  },
  {
   "cell_type": "code",
   "execution_count": 14,
   "id": "3af27f71",
   "metadata": {},
   "outputs": [
    {
     "name": "stdout",
     "output_type": "stream",
     "text": [
      "initial dnaSeq length: 10\n",
      "final dnaSeq length: 1000000\n"
     ]
    }
   ],
   "source": [
    "# increase the size of dna sequence to see the differences (if there is any) easier\n",
    "\n",
    "dnaSeq = 'AAAACCCGGT'\n",
    "print('initial dnaSeq length:', len(dnaSeq))\n",
    "dnaSeq *= 100000\n",
    "print('final dnaSeq length:', len(dnaSeq))"
   ]
  },
  {
   "cell_type": "code",
   "execution_count": 15,
   "id": "4b6f60f4",
   "metadata": {},
   "outputs": [],
   "source": [
    "# option 1"
   ]
  },
  {
   "cell_type": "code",
   "execution_count": 16,
   "id": "ec7baa2f",
   "metadata": {},
   "outputs": [
    {
     "name": "stdout",
     "output_type": "stream",
     "text": [
      "3 ms ± 68.5 µs per loop (mean ± std. dev. of 7 runs, 500 loops each)\n"
     ]
    }
   ],
   "source": [
    "%%timeit -n 500\n",
    "\n",
    "revcSeq = dnaSeq.replace('A', 't').replace('T', 'a').replace('G', 'c').replace('C', 'g')\n",
    "revcSeq = revcSeq[::-1].upper()"
   ]
  },
  {
   "cell_type": "code",
   "execution_count": 17,
   "id": "228a5b29",
   "metadata": {},
   "outputs": [],
   "source": [
    "# option 2"
   ]
  },
  {
   "cell_type": "code",
   "execution_count": 18,
   "id": "eab261cd",
   "metadata": {},
   "outputs": [
    {
     "name": "stdout",
     "output_type": "stream",
     "text": [
      "86.3 ms ± 121 µs per loop (mean ± std. dev. of 7 runs, 500 loops each)\n"
     ]
    }
   ],
   "source": [
    "%%timeit -n 500\n",
    "\n",
    "transcriptionDict = {\n",
    "    'A': 'T', 'G': 'C', 'C': 'G', 'T': 'A'\n",
    "}\n",
    "\n",
    "revcSeq = ''\n",
    "\n",
    "for base in dnaSeq[::-1]:\n",
    "    revcSeq += transcriptionDict[base]"
   ]
  },
  {
   "cell_type": "code",
   "execution_count": 19,
   "id": "0d6a5b12",
   "metadata": {},
   "outputs": [],
   "source": [
    "# option 3"
   ]
  },
  {
   "cell_type": "code",
   "execution_count": 20,
   "id": "0c24f400",
   "metadata": {},
   "outputs": [
    {
     "name": "stdout",
     "output_type": "stream",
     "text": [
      "113 ms ± 171 µs per loop (mean ± std. dev. of 7 runs, 500 loops each)\n"
     ]
    }
   ],
   "source": [
    "%%timeit -n 500\n",
    "\n",
    "transcriptionDict = {\n",
    "    'A': 'T', 'G': 'C', 'C': 'G', 'T': 'A'\n",
    "}\n",
    "\n",
    "revcSeq = ''\n",
    "\n",
    "for i in range(len(dnaSeq) - 1, -1, -1):\n",
    "    revcSeq += transcriptionDict[dnaSeq[i]]"
   ]
  },
  {
   "cell_type": "code",
   "execution_count": 21,
   "id": "86152e2f",
   "metadata": {},
   "outputs": [],
   "source": [
    "# option 4"
   ]
  },
  {
   "cell_type": "code",
   "execution_count": 22,
   "id": "741b1111",
   "metadata": {},
   "outputs": [
    {
     "name": "stdout",
     "output_type": "stream",
     "text": [
      "64.5 ms ± 2.16 ms per loop (mean ± std. dev. of 7 runs, 500 loops each)\n"
     ]
    }
   ],
   "source": [
    "%%timeit -n 500\n",
    "\n",
    "transcriptionDict = {\n",
    "    'A': 'T', 'G': 'C', 'C': 'G', 'T': 'A'\n",
    "}\n",
    "\n",
    "revcSeq = ''.join([transcriptionDict[dnaSeq[i]] for i in range(len(dnaSeq) - 1, -1, -1)])"
   ]
  },
  {
   "cell_type": "code",
   "execution_count": 23,
   "id": "24bcdbf8",
   "metadata": {},
   "outputs": [],
   "source": [
    "# option 5"
   ]
  },
  {
   "cell_type": "code",
   "execution_count": 24,
   "id": "fe12d250",
   "metadata": {},
   "outputs": [
    {
     "name": "stdout",
     "output_type": "stream",
     "text": [
      "42.9 ms ± 126 µs per loop (mean ± std. dev. of 7 runs, 500 loops each)\n"
     ]
    }
   ],
   "source": [
    "%%timeit -n 500\n",
    "\n",
    "transcriptionDict = {\n",
    "    'A': 'T', 'G': 'C', 'C': 'G', 'T': 'A'\n",
    "}\n",
    "\n",
    "revcSeq = ''.join([transcriptionDict[base] for base in dnaSeq])"
   ]
  },
  {
   "cell_type": "code",
   "execution_count": 25,
   "id": "186e72bf",
   "metadata": {},
   "outputs": [],
   "source": [
    "# option 6"
   ]
  },
  {
   "cell_type": "code",
   "execution_count": 26,
   "id": "be9b6d71",
   "metadata": {},
   "outputs": [
    {
     "name": "stdout",
     "output_type": "stream",
     "text": [
      "1.31 ms ± 6.53 µs per loop (mean ± std. dev. of 7 runs, 500 loops each)\n"
     ]
    }
   ],
   "source": [
    "%%timeit -n 500\n",
    "\n",
    "from Bio.Seq import Seq\n",
    "\n",
    "seqDna = Seq(dnaSeq)\n",
    "revcSeq = seqDna.reverse_complement()"
   ]
  },
  {
   "cell_type": "code",
   "execution_count": 27,
   "id": "f73bba7b",
   "metadata": {},
   "outputs": [],
   "source": [
    "# looping over the input dna sequence gets really worse as its length increases\n",
    "# looping the dna sequence directly in the reverse order did not provide any improvement\n",
    "# list comprehension is better than looping over dna sequence in a straightforward way\n",
    "# but at the end of the day all loops gave worse results comparing with the others: 1 and 6\n",
    "# the biopython module gave the best result\n",
    "# python's built-in .replace() func's runtime is closer to biopython .reverse_complement() func runtime"
   ]
  },
  {
   "cell_type": "code",
   "execution_count": 28,
   "id": "e5798bd7",
   "metadata": {},
   "outputs": [],
   "source": [
    "# here, let's implement the solution using biopython module"
   ]
  },
  {
   "cell_type": "markdown",
   "id": "40612aef",
   "metadata": {},
   "source": [
    "# 3. Implementation"
   ]
  },
  {
   "cell_type": "code",
   "execution_count": 29,
   "id": "53387be6",
   "metadata": {},
   "outputs": [],
   "source": [
    "def revc(filename):\n",
    "    \n",
    "    '''\n",
    "    input\n",
    "        a file contains a dna string\n",
    "    process\n",
    "        generates a reverse complement of given dna sequence\n",
    "    output\n",
    "        writes and saves new rev com sequence as an answer into a file\n",
    "        prints answer to console\n",
    "    '''\n",
    "    \n",
    "    # load the necessary biopyhton module\n",
    "    from Bio.Seq import Seq\n",
    "    \n",
    "    # open and read the file\n",
    "    with open(filename, 'r') as file:\n",
    "        dnaString = file.read().strip().upper()\n",
    "        \n",
    "    # convert dna sequence into a Seq object\n",
    "    dnaSeq = Seq(dnaString)\n",
    "    \n",
    "    # create reverse complement\n",
    "    revcSeq = dnaSeq.reverse_complement()\n",
    "    \n",
    "    # print answer to console\n",
    "    print('\\n\\x1B[1mANSWER\\x1B[0m\\n______\\n')\n",
    "    print(f'{revcSeq}')\n",
    "    \n",
    "    # open file and write answer\n",
    "    file = open(f'{filename.split(\".\")[0]}_answer.txt', 'w')\n",
    "    file.write(f'{revcSeq}')\n",
    "    file.close()\n",
    "    print('\\n\\n#! The answer has been written into the file:',\n",
    "          f'\\x1B[1m./{filename.split(\".\")[0]}_answer.txt\\x1B[0m\\n')"
   ]
  },
  {
   "cell_type": "markdown",
   "id": "af3430d0",
   "metadata": {},
   "source": [
    "# 4. Execution"
   ]
  },
  {
   "cell_type": "code",
   "execution_count": 30,
   "id": "25eec595",
   "metadata": {
    "scrolled": true
   },
   "outputs": [
    {
     "name": "stdout",
     "output_type": "stream",
     "text": [
      "\n",
      "\u001b[1mANSWER\u001b[0m\n",
      "______\n",
      "\n",
      "ACCGGGTTTT\n",
      "\n",
      "\n",
      "#! The answer has been written into the file: \u001b[1m./revc_test_answer.txt\u001b[0m\n",
      "\n"
     ]
    }
   ],
   "source": [
    "revc('revc_test.txt')"
   ]
  },
  {
   "cell_type": "code",
   "execution_count": 31,
   "id": "767714cd",
   "metadata": {},
   "outputs": [
    {
     "name": "stdout",
     "output_type": "stream",
     "text": [
      "\n",
      "\u001b[1mANSWER\u001b[0m\n",
      "______\n",
      "\n",
      "TGTATAGTCTACTTGATGGTCGAGGTTTCATTTGGCATTTCATTGACTATAACCTAAGGAGAGGTAGGCGAGATTTGTCCCGCTAACTTTATTCCGTAACATTTTCTACTGGGCTCCATCTCAGCGGTTTATAAACAACGCGTTCCCTAGTTAGAGTACCCAGCACCTTGATATGTGCCGGGACGGGTTGGGCCATCCACCAAACCGTATGATACCGAGTTGGATTCCAACACGTAGCAACATTGAGGGTATGTCTCCAGGTAGTCGCCTCAGGAGGTGTGAATATAATGGTGTGTGTTCATCCTTTCGAAAGGCTAACGCCTGAACTGAAGCTCTCCAGCACCGGAAGGGTTGGAGTACGATTTCCATGATGTAAATTATTCCTTCGGGTCTTCCTAAAATAGCGGCGGGCTAGTGACATCGTTGCCCATAGCGCTCCTAAATTATACTTAATCAACTAAAGCTCGAGGTTAAATAAAAGAGGAACTCGATCCATGATGGACTCCGGAGTTACGGCTGGGATGCAGAAAAAGGTCGTTCGCCCGGTAAGACTCATGATGCAGCAGGGGCCACTACAATCCTAAGGTTAGGGGTGGAGGCATAAACGTGTCGTGGTGGCCCCCTATCCCACTTAGGCTGGTGATAATATAGAGTTATCCTTGTCAGGATCCAAAACGCGATAAACTCCTGGAAAGGTGGTGACCATTCCGGCTAAGCAGTATCTACACACCATCTTCGGCACGAGACAGGATCCACGCCATACCTTCGCCCGTGGCACGTTGTTTAACTCATGTACTAGATTT\n",
      "\n",
      "\n",
      "#! The answer has been written into the file: \u001b[1m./rosalind_revc_answer.txt\u001b[0m\n",
      "\n"
     ]
    }
   ],
   "source": [
    "revc('rosalind_revc.txt')"
   ]
  },
  {
   "cell_type": "markdown",
   "id": "fca377a0",
   "metadata": {},
   "source": [
    "<p style='text-align: right;'>\n",
    "    <!--<b><font size = '5'>Contact</font></b><br>-->\n",
    "    <b>Orcun Tasar</b><br>\n",
    "    <i>Bioinformatician / Data Scientist</i><br>\n",
    "    orcuntasar |at@| ogr.iu.edu.tr<br>\n",
    "    tasar.orcun |at@| gmail.com<br>\n",
    "    <a href = 'https://www.linkedin.com/in/orçun-taşar-7b5992a1/'>Linkedin</a> | <a href = 'https://www.instagram.com/shatranuchor/'>Instagram</a>\n",
    "</p>"
   ]
  }
 ],
 "metadata": {
  "kernelspec": {
   "display_name": "Python 3",
   "language": "python",
   "name": "python3"
  },
  "language_info": {
   "codemirror_mode": {
    "name": "ipython",
    "version": 3
   },
   "file_extension": ".py",
   "mimetype": "text/x-python",
   "name": "python",
   "nbconvert_exporter": "python",
   "pygments_lexer": "ipython3",
   "version": "3.8.15"
  }
 },
 "nbformat": 4,
 "nbformat_minor": 5
}
