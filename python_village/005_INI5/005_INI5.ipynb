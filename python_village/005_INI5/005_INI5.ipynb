{
 "cells": [
  {
   "cell_type": "markdown",
   "id": "24d2f5ef",
   "metadata": {},
   "source": [
    "# 1. Source"
   ]
  },
  {
   "cell_type": "markdown",
   "id": "6d5895e1",
   "metadata": {},
   "source": [
    "Click on the link to go to the source web page of **Rosalind**: [Working with Files](https://rosalind.info/problems/ini4/)"
   ]
  },
  {
   "cell_type": "markdown",
   "id": "37582a41",
   "metadata": {},
   "source": [
    " **Problem**\n",
    " \n",
    " ![Working with Files](ini5_problem.png 'Working with Files')"
   ]
  },
  {
   "cell_type": "markdown",
   "id": "1491d6c1",
   "metadata": {},
   "source": [
    "**Sample Dataset**\n",
    "\n",
    "Bravely bold Sir Robin rode forth from Camelot<br>\n",
    "Yes, brave Sir Robin turned about<br>\n",
    "He was not afraid to die, O brave Sir Robin<br>\n",
    "And gallantly he chickened out<br>\n",
    "He was not at all afraid to be killed in nasty ways<br>\n",
    "Bravely talking to his feet<br>\n",
    "Brave, brave, brave, brave Sir Robin<br>\n",
    "He beat a very brave retreat"
   ]
  },
  {
   "cell_type": "markdown",
   "id": "fee90243",
   "metadata": {},
   "source": [
    "**Sample Output**\n",
    "\n",
    "Yes, brave Sir Robin turned about<br>\n",
    "And gallantly he chickened out<br>\n",
    "Bravely talking to his feet<br>\n",
    "He beat a very brave retreat"
   ]
  },
  {
   "cell_type": "markdown",
   "id": "829af9a2",
   "metadata": {},
   "source": [
    "# 2. Workspace"
   ]
  },
  {
   "cell_type": "code",
   "execution_count": 1,
   "id": "8025d7cf",
   "metadata": {},
   "outputs": [
    {
     "name": "stdout",
     "output_type": "stream",
     "text": [
      "['Bravely bold Sir Robin rode forth from Camelot\\n', 'Yes, brave Sir Robin turned about\\n', 'He was not afraid to die, O brave Sir Robin\\n', 'And gallantly he chickened out\\n', 'He was not at all afraid to be killed in nasty ways\\n', 'Bravely talking to his feet\\n', 'Brave, brave, brave, brave Sir Robin\\n', 'He beat a very brave retreat']\n"
     ]
    }
   ],
   "source": [
    "# read file and extract inputs\n",
    "\n",
    "with open('ini5_test.txt', 'r') as file:\n",
    "    lines = file.readlines()\n",
    "    \n",
    "# print\n",
    "\n",
    "print(lines)"
   ]
  },
  {
   "cell_type": "code",
   "execution_count": 2,
   "id": "b476efb3",
   "metadata": {},
   "outputs": [
    {
     "name": "stdout",
     "output_type": "stream",
     "text": [
      "['Bravely bold Sir Robin rode forth from Camelot', 'Yes, brave Sir Robin turned about', 'He was not afraid to die, O brave Sir Robin', 'And gallantly he chickened out', 'He was not at all afraid to be killed in nasty ways', 'Bravely talking to his feet', 'Brave, brave, brave, brave Sir Robin', 'He beat a very brave retreat']\n"
     ]
    }
   ],
   "source": [
    "# proceess lines - remove end line chars\n",
    "# we do not need this while writing a file\n",
    "\n",
    "lines = list(map(lambda x: x.rstrip(), lines))\n",
    "\n",
    "# print\n",
    "\n",
    "print(lines)"
   ]
  },
  {
   "cell_type": "code",
   "execution_count": 3,
   "id": "2ce0965c",
   "metadata": {},
   "outputs": [
    {
     "name": "stdout",
     "output_type": "stream",
     "text": [
      "1 Bravely bold Sir Robin rode forth from Camelot\n",
      "2 Yes, brave Sir Robin turned about\n",
      "3 He was not afraid to die, O brave Sir Robin\n",
      "4 And gallantly he chickened out\n",
      "5 He was not at all afraid to be killed in nasty ways\n",
      "6 Bravely talking to his feet\n",
      "7 Brave, brave, brave, brave Sir Robin\n",
      "8 He beat a very brave retreat\n"
     ]
    }
   ],
   "source": [
    "# loop over lines and check indexes\n",
    "\n",
    "for idx, line in enumerate(lines):\n",
    "    print(idx + 1, line)"
   ]
  },
  {
   "cell_type": "code",
   "execution_count": 4,
   "id": "c10dbef3",
   "metadata": {},
   "outputs": [
    {
     "name": "stdout",
     "output_type": "stream",
     "text": [
      "2 Yes, brave Sir Robin turned about\n",
      "4 And gallantly he chickened out\n",
      "6 Bravely talking to his feet\n",
      "8 He beat a very brave retreat\n"
     ]
    }
   ],
   "source": [
    "# filter out odd numbered lines\n",
    "\n",
    "for idx, line in enumerate(lines):\n",
    "    if (idx + 1) % 2 == 0:\n",
    "        print(idx + 1, line)"
   ]
  },
  {
   "cell_type": "code",
   "execution_count": 5,
   "id": "8f129c51",
   "metadata": {},
   "outputs": [
    {
     "name": "stdout",
     "output_type": "stream",
     "text": [
      "Yes, brave Sir Robin turned about\n",
      "And gallantly he chickened out\n",
      "Bravely talking to his feet\n",
      "He beat a very brave retreat\n"
     ]
    }
   ],
   "source": [
    "# or \n",
    "\n",
    "for idx in range(1, len(lines), 2):\n",
    "    print(lines[idx])"
   ]
  },
  {
   "cell_type": "markdown",
   "id": "241684e2",
   "metadata": {},
   "source": [
    "# 3. Implementation"
   ]
  },
  {
   "cell_type": "code",
   "execution_count": 6,
   "id": "0f5f6e95",
   "metadata": {},
   "outputs": [],
   "source": [
    "def ini5(filename):\n",
    "    \n",
    "    '''\n",
    "    input\n",
    "        a file contains lines of strings\n",
    "    output\n",
    "        lines that have even indexes (1-based)\n",
    "        prints answer to console and writes it in a file\n",
    "    '''\n",
    "    \n",
    "    # parse input file\n",
    "    with open(filename, 'r') as file:\n",
    "        lines = file.readlines()\n",
    "        \n",
    "    # initiate a string to keep even indexed lines\n",
    "    result = ''\n",
    "        \n",
    "    # loop over lines\n",
    "    for idx in range(1, len(lines), 2):\n",
    "        result += lines[idx]\n",
    "    \n",
    "    # print answer to console\n",
    "    print('\\n\\x1B[1mANSWER\\x1B[0m\\n______\\n')\n",
    "    print(f'{result}')\n",
    "    \n",
    "    # open file and write answer\n",
    "    file = open(f'{filename.split(\".\")[0]}_answer.txt', 'w')\n",
    "    file.write(f'{result}')\n",
    "    file.close()\n",
    "    print('\\n\\n#! The answer has been written into the file:',\n",
    "          f'\\x1B[1m./{filename.split(\".\")[0]}_answer.txt\\x1B[0m\\n')"
   ]
  },
  {
   "cell_type": "markdown",
   "id": "dc5630c4",
   "metadata": {},
   "source": [
    "# 4. Execution"
   ]
  },
  {
   "cell_type": "code",
   "execution_count": 7,
   "id": "27b0eae7",
   "metadata": {},
   "outputs": [
    {
     "name": "stdout",
     "output_type": "stream",
     "text": [
      "\n",
      "\u001b[1mANSWER\u001b[0m\n",
      "______\n",
      "\n",
      "Yes, brave Sir Robin turned about\n",
      "And gallantly he chickened out\n",
      "Bravely talking to his feet\n",
      "He beat a very brave retreat\n",
      "\n",
      "\n",
      "#! The answer has been written into the file: \u001b[1m./ini5_test_answer.txt\u001b[0m\n",
      "\n"
     ]
    }
   ],
   "source": [
    "ini5('ini5_test.txt')"
   ]
  },
  {
   "cell_type": "code",
   "execution_count": 8,
   "id": "b50b33e6",
   "metadata": {},
   "outputs": [
    {
     "name": "stdout",
     "output_type": "stream",
     "text": [
      "\n",
      "\u001b[1mANSWER\u001b[0m\n",
      "______\n",
      "\n",
      "Some things in life are bad, they can really make you mad\n",
      "Other things just make you swear and curse\n",
      "When you're chewing on life's gristle, don't grumble give a whistle\n",
      "This will help things turn out for the best\n",
      "Always look on the bright side of life\n",
      "Always look on the right side of life\n",
      "If life seems jolly rotten, there's something you've forgotten\n",
      "And that's to laugh and smile and dance and sing\n",
      "When you're feeling in the dumps, don't be silly, chumps\n",
      "Just purse your lips and whistle, that's the thing\n",
      "So, always look on the bright side of death\n",
      "Just before you draw your terminal breath\n",
      "Life's a counterfeit and when you look at it\n",
      "Life's a laugh and death's the joke, it's true\n",
      "You see, it's all a show, keep them laughing as you go\n",
      "Just remember the last laugh is on you\n",
      "Always look on the bright side of life\n",
      "And always look on the right side of life\n",
      "Always look on the bright side of life\n",
      "And always look on the right side of life\n",
      "\n",
      "\n",
      "\n",
      "#! The answer has been written into the file: \u001b[1m./rosalind_ini5_1_dataset_answer.txt\u001b[0m\n",
      "\n"
     ]
    }
   ],
   "source": [
    "ini5('rosalind_ini5_1_dataset.txt')"
   ]
  },
  {
   "cell_type": "markdown",
   "id": "8db6a051",
   "metadata": {},
   "source": [
    "<p style='text-align: right;'>\n",
    "    <!--<b><font size = '5'>Contact</font></b><br>-->\n",
    "    <b>Orcun Tasar</b><br>\n",
    "    <i>Bioinformatician / Data Scientist</i><br>\n",
    "    orcuntasar |at@| ogr.iu.edu.tr<br>\n",
    "    tasar.orcun |at@| gmail.com<br>\n",
    "    <a href = 'https://www.linkedin.com/in/orçun-taşar-7b5992a1/'>Linkedin</a> | <a href = 'https://www.instagram.com/shatranuchor/'>Instagram</a>\n",
    "</p>"
   ]
  }
 ],
 "metadata": {
  "kernelspec": {
   "display_name": "thesis",
   "language": "python",
   "name": "thesis"
  },
  "language_info": {
   "codemirror_mode": {
    "name": "ipython",
    "version": 3
   },
   "file_extension": ".py",
   "mimetype": "text/x-python",
   "name": "python",
   "nbconvert_exporter": "python",
   "pygments_lexer": "ipython3",
   "version": "3.8.15"
  }
 },
 "nbformat": 4,
 "nbformat_minor": 5
}
