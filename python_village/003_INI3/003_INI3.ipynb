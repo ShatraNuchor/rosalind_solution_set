{
 "cells": [
  {
   "cell_type": "markdown",
   "id": "24d2f5ef",
   "metadata": {},
   "source": [
    "# 1. Source"
   ]
  },
  {
   "cell_type": "markdown",
   "id": "6d5895e1",
   "metadata": {},
   "source": [
    "Click on the link to go to the source web page of **Rosalind**: [Strings and Lists](https://rosalind.info/problems/ini3/)"
   ]
  },
  {
   "cell_type": "markdown",
   "id": "37582a41",
   "metadata": {},
   "source": [
    " **Problem**\n",
    " \n",
    " ![Strings and Lists](ini3_problem.png \"Strings and Lists\")"
   ]
  },
  {
   "cell_type": "markdown",
   "id": "1491d6c1",
   "metadata": {},
   "source": [
    "**Sample Dataset**\n",
    "\n",
    "HumptyDumptysatonawallHumptyDumptyhadagreatfallAlltheKingshorsesandalltheKingsmenCouldntputHumptyDumptyinhisplaceagain.<br>\n",
    "22 27 97 102"
   ]
  },
  {
   "cell_type": "markdown",
   "id": "fee90243",
   "metadata": {},
   "source": [
    "**Sample Output**\n",
    "\n",
    "Humpty Dumpty"
   ]
  },
  {
   "cell_type": "markdown",
   "id": "829af9a2",
   "metadata": {},
   "source": [
    "# 2. Workspace"
   ]
  },
  {
   "cell_type": "code",
   "execution_count": 2,
   "id": "8025d7cf",
   "metadata": {},
   "outputs": [
    {
     "name": "stdout",
     "output_type": "stream",
     "text": [
      "HumptyDumptysatonawallHumptyDumptyhadagreatfallAlltheKingshorsesandalltheKingsmenCouldntputHumptyDumptyinhisplaceagain.\n",
      "22\n",
      "27\n",
      "97\n",
      "102\n"
     ]
    }
   ],
   "source": [
    "# read file and extract inputs\n",
    "\n",
    "with open('ini3_test.txt', 'r') as file:\n",
    "    input_str = file.readline().rstrip()\n",
    "    numbers = file.readline().rstrip().split()\n",
    "    a = int(numbers[0])\n",
    "    b = int(numbers[1])\n",
    "    c = int(numbers[2])\n",
    "    d = int(numbers[3])\n",
    "    \n",
    "# print\n",
    "\n",
    "print(input_str)\n",
    "print(a)\n",
    "print(b)\n",
    "print(c)\n",
    "print(d)"
   ]
  },
  {
   "cell_type": "code",
   "execution_count": 6,
   "id": "1b625c3f",
   "metadata": {},
   "outputs": [
    {
     "name": "stdout",
     "output_type": "stream",
     "text": [
      "Humpty\n"
     ]
    }
   ],
   "source": [
    "# first slide\n",
    "\n",
    "first_slide = input_str[a : b + 1]\n",
    "\n",
    "print(first_slide)"
   ]
  },
  {
   "cell_type": "code",
   "execution_count": 7,
   "id": "3f581b5f",
   "metadata": {},
   "outputs": [
    {
     "name": "stdout",
     "output_type": "stream",
     "text": [
      "Dumpty\n"
     ]
    }
   ],
   "source": [
    "# second slide\n",
    "\n",
    "second_slide = input_str[c : d + 1]\n",
    "\n",
    "print(second_slide)"
   ]
  },
  {
   "cell_type": "code",
   "execution_count": 8,
   "id": "90cbc7cf",
   "metadata": {},
   "outputs": [
    {
     "name": "stdout",
     "output_type": "stream",
     "text": [
      "Humpty Dumpty\n"
     ]
    }
   ],
   "source": [
    "# concat\n",
    "\n",
    "result = first_slide + ' ' + second_slide\n",
    "\n",
    "print(result)"
   ]
  },
  {
   "cell_type": "code",
   "execution_count": 10,
   "id": "6afcb227",
   "metadata": {},
   "outputs": [
    {
     "name": "stdout",
     "output_type": "stream",
     "text": [
      "Humpty Dumpty\n"
     ]
    }
   ],
   "source": [
    "# or \n",
    "\n",
    "words = list()\n",
    "\n",
    "for slider1, slider2 in [(a, b), (c, d)]:\n",
    "    words.append(input_str[slider1 : slider2 + 1])\n",
    "    \n",
    "# result\n",
    "\n",
    "result = ' '.join(words)\n",
    "\n",
    "print(result)"
   ]
  },
  {
   "cell_type": "code",
   "execution_count": 12,
   "id": "d1dceb18",
   "metadata": {},
   "outputs": [
    {
     "name": "stdout",
     "output_type": "stream",
     "text": [
      "Humpty Dumpty\n"
     ]
    }
   ],
   "source": [
    "# or \n",
    "\n",
    "words = [input_str[slider1 : slider2 + 1] for slider1, slider2 in [(a, b), (c, d)]]\n",
    "result = ' '.join(words)\n",
    "\n",
    "print(result)"
   ]
  },
  {
   "cell_type": "markdown",
   "id": "241684e2",
   "metadata": {},
   "source": [
    "# 3. Implementation"
   ]
  },
  {
   "cell_type": "code",
   "execution_count": 13,
   "id": "0f5f6e95",
   "metadata": {},
   "outputs": [],
   "source": [
    "def ini3(filename):\n",
    "    \n",
    "    '''\n",
    "    input\n",
    "        a file contains\n",
    "            a string\n",
    "            four indices: a, b, c, d\n",
    "    process\n",
    "        finds string[a:b+1] and string[c:d+1]\n",
    "    output\n",
    "        two word seperated by whitespace\n",
    "        prints answer to console and writes it in a file\n",
    "    '''\n",
    "    \n",
    "    # parse input file\n",
    "    with open(filename, 'r') as file:\n",
    "        input_str = file.readline().rstrip()\n",
    "        numbers = file.readline().rstrip().split()\n",
    "        a = int(numbers[0])\n",
    "        b = int(numbers[1])\n",
    "        c = int(numbers[2])\n",
    "        d = int(numbers[3])\n",
    "        \n",
    "    # process\n",
    "    words = list()\n",
    "    for slider1, slider2 in [(a, b), (c, d)]:\n",
    "        words.append(input_str[slider1 : slider2 + 1])\n",
    "        \n",
    "    # result\n",
    "    result = ' '.join(words)\n",
    "    \n",
    "    # print answer to console\n",
    "    print('\\n\\x1B[1mANSWER\\x1B[0m\\n______\\n')\n",
    "    print(f'{result}')\n",
    "    \n",
    "    # open file and write answer\n",
    "    file = open(f'{filename.split(\".\")[0]}_answer.txt', 'w')\n",
    "    file.write(f'{result}')\n",
    "    file.close()\n",
    "    print('\\n\\n#! The answer has been written into the file:',\n",
    "          f'\\x1B[1m./{filename.split(\".\")[0]}_answer.txt\\x1B[0m\\n')"
   ]
  },
  {
   "cell_type": "markdown",
   "id": "dc5630c4",
   "metadata": {},
   "source": [
    "# 4. Execution"
   ]
  },
  {
   "cell_type": "code",
   "execution_count": 14,
   "id": "27b0eae7",
   "metadata": {},
   "outputs": [
    {
     "name": "stdout",
     "output_type": "stream",
     "text": [
      "\n",
      "\u001b[1mANSWER\u001b[0m\n",
      "______\n",
      "\n",
      "Humpty Dumpty\n",
      "\n",
      "\n",
      "#! The answer has been written into the file: \u001b[1m./ini3_test_answer.txt\u001b[0m\n",
      "\n"
     ]
    }
   ],
   "source": [
    "ini3('ini3_test.txt')"
   ]
  },
  {
   "cell_type": "code",
   "execution_count": 15,
   "id": "b50b33e6",
   "metadata": {},
   "outputs": [
    {
     "name": "stdout",
     "output_type": "stream",
     "text": [
      "\n",
      "\u001b[1mANSWER\u001b[0m\n",
      "______\n",
      "\n",
      "Felis moschiferus\n",
      "\n",
      "\n",
      "#! The answer has been written into the file: \u001b[1m./rosalind_ini3_1_dataset_answer.txt\u001b[0m\n",
      "\n"
     ]
    }
   ],
   "source": [
    "ini3('rosalind_ini3_1_dataset.txt')"
   ]
  },
  {
   "cell_type": "markdown",
   "id": "8db6a051",
   "metadata": {},
   "source": [
    "<p style='text-align: right;'>\n",
    "    <!--<b><font size = '5'>Contact</font></b><br>-->\n",
    "    <b>Orcun Tasar</b><br>\n",
    "    <i>Bioinformatician / Data Scientist</i><br>\n",
    "    orcuntasar |at@| ogr.iu.edu.tr<br>\n",
    "    tasar.orcun |at@| gmail.com<br>\n",
    "    <a href = 'https://www.linkedin.com/in/orçun-taşar-7b5992a1/'>Linkedin</a> | <a href = 'https://www.instagram.com/shatranuchor/'>Instagram</a>\n",
    "</p>"
   ]
  }
 ],
 "metadata": {
  "kernelspec": {
   "display_name": "thesis",
   "language": "python",
   "name": "thesis"
  },
  "language_info": {
   "codemirror_mode": {
    "name": "ipython",
    "version": 3
   },
   "file_extension": ".py",
   "mimetype": "text/x-python",
   "name": "python",
   "nbconvert_exporter": "python",
   "pygments_lexer": "ipython3",
   "version": "3.8.15"
  }
 },
 "nbformat": 4,
 "nbformat_minor": 5
}
