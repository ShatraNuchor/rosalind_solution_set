{
 "cells": [
  {
   "cell_type": "markdown",
   "id": "24d2f5ef",
   "metadata": {},
   "source": [
    "# 1. Source"
   ]
  },
  {
   "cell_type": "markdown",
   "id": "6d5895e1",
   "metadata": {},
   "source": [
    "Click on the link to go to the source web page of **Rosalind**: [Variables and Some Arithmetic](https://rosalind.info/problems/ini2/)"
   ]
  },
  {
   "cell_type": "markdown",
   "id": "37582a41",
   "metadata": {},
   "source": [
    " **Problem**\n",
    " \n",
    " ![GenBank Introduction](ini2_problem.png \"GenBank Introduction\")"
   ]
  },
  {
   "cell_type": "markdown",
   "id": "1491d6c1",
   "metadata": {},
   "source": [
    "**Sample Dataset**\n",
    "\n",
    "3 5"
   ]
  },
  {
   "cell_type": "markdown",
   "id": "fee90243",
   "metadata": {},
   "source": [
    "**Sample Output**\n",
    "\n",
    "34"
   ]
  },
  {
   "cell_type": "markdown",
   "id": "829af9a2",
   "metadata": {},
   "source": [
    "# 2. Workspace"
   ]
  },
  {
   "cell_type": "code",
   "execution_count": 1,
   "id": "8025d7cf",
   "metadata": {},
   "outputs": [
    {
     "name": "stdout",
     "output_type": "stream",
     "text": [
      "3\n",
      "5\n"
     ]
    }
   ],
   "source": [
    "# read file and extract inputs\n",
    "\n",
    "with open('ini2_test.txt', 'r') as file:\n",
    "    inputs = file.readline().strip().split()\n",
    "    a = int(inputs[0])\n",
    "    b = int(inputs[1])\n",
    "    \n",
    "# print\n",
    "\n",
    "print(a)\n",
    "print(b)"
   ]
  },
  {
   "cell_type": "code",
   "execution_count": 2,
   "id": "1b625c3f",
   "metadata": {},
   "outputs": [
    {
     "name": "stdout",
     "output_type": "stream",
     "text": [
      "5.830951894845301\n"
     ]
    }
   ],
   "source": [
    "# calculate hypotenuse\n",
    "\n",
    "hypotenuse = (a ** 2 + b ** 2) ** 0.5\n",
    "\n",
    "print(hypotenuse)"
   ]
  },
  {
   "cell_type": "code",
   "execution_count": 3,
   "id": "3f581b5f",
   "metadata": {},
   "outputs": [
    {
     "name": "stdout",
     "output_type": "stream",
     "text": [
      "34.0\n"
     ]
    }
   ],
   "source": [
    "# calculate the square of hypotenuse\n",
    "\n",
    "print(hypotenuse ** 2)"
   ]
  },
  {
   "cell_type": "code",
   "execution_count": 4,
   "id": "90cbc7cf",
   "metadata": {},
   "outputs": [
    {
     "name": "stdout",
     "output_type": "stream",
     "text": [
      "34\n"
     ]
    }
   ],
   "source": [
    "# shortcut\n",
    "\n",
    "hypotenuse_square = (a ** 2 + b ** 2)\n",
    "\n",
    "print(hypotenuse_square)"
   ]
  },
  {
   "cell_type": "markdown",
   "id": "241684e2",
   "metadata": {},
   "source": [
    "# 3. Implementation"
   ]
  },
  {
   "cell_type": "code",
   "execution_count": 5,
   "id": "0f5f6e95",
   "metadata": {},
   "outputs": [],
   "source": [
    "def ini2(filename):\n",
    "    \n",
    "    '''\n",
    "    input\n",
    "        a file containing two integers: a, b\n",
    "    process\n",
    "        calculates square of hyoptenuse of a triangle\n",
    "        when length of other two edges are a and b\n",
    "    output\n",
    "        hypotenuse square\n",
    "        prints answer to console and writes it in a file\n",
    "    '''\n",
    "    \n",
    "    # parse input file\n",
    "    with open(filename, 'r') as file:\n",
    "        inputs = file.readline().rstrip().split()\n",
    "        a = int(inputs[0])\n",
    "        b = int(inputs[1])\n",
    "        \n",
    "    # calculation\n",
    "    hypotenuse_square = a ** 2 + b ** 2\n",
    "    \n",
    "    # print answer to console\n",
    "    print('\\n\\x1B[1mANSWER\\x1B[0m\\n______\\n')\n",
    "    print(f'{hypotenuse_square}')\n",
    "    \n",
    "    # open file and write answer\n",
    "    file = open(f'{filename.split(\".\")[0]}_answer.txt', 'w')\n",
    "    file.write(f'{hypotenuse_square}')\n",
    "    file.close()\n",
    "    print('\\n\\n#! The answer has been written into the file:',\n",
    "          f'\\x1B[1m./{filename.split(\".\")[0]}_answer.txt\\x1B[0m\\n')"
   ]
  },
  {
   "cell_type": "markdown",
   "id": "dc5630c4",
   "metadata": {},
   "source": [
    "# 4. Execution"
   ]
  },
  {
   "cell_type": "code",
   "execution_count": 6,
   "id": "27b0eae7",
   "metadata": {},
   "outputs": [
    {
     "name": "stdout",
     "output_type": "stream",
     "text": [
      "\n",
      "\u001b[1mANSWER\u001b[0m\n",
      "______\n",
      "\n",
      "34\n",
      "\n",
      "\n",
      "#! The answer has been written into the file: \u001b[1m./ini2_test_answer.txt\u001b[0m\n",
      "\n"
     ]
    }
   ],
   "source": [
    "ini2('ini2_test.txt')"
   ]
  },
  {
   "cell_type": "code",
   "execution_count": 7,
   "id": "b50b33e6",
   "metadata": {},
   "outputs": [
    {
     "name": "stdout",
     "output_type": "stream",
     "text": [
      "\n",
      "\u001b[1mANSWER\u001b[0m\n",
      "______\n",
      "\n",
      "1744506\n",
      "\n",
      "\n",
      "#! The answer has been written into the file: \u001b[1m./rosalind_ini2_answer.txt\u001b[0m\n",
      "\n"
     ]
    }
   ],
   "source": [
    "ini2('rosalind_ini2.txt')"
   ]
  },
  {
   "cell_type": "markdown",
   "id": "8db6a051",
   "metadata": {},
   "source": [
    "<p style='text-align: right;'>\n",
    "    <!--<b><font size = '5'>Contact</font></b><br>-->\n",
    "    <b>Orcun Tasar</b><br>\n",
    "    <i>Bioinformatician / Data Scientist</i><br>\n",
    "    orcuntasar |at@| ogr.iu.edu.tr<br>\n",
    "    tasar.orcun |at@| gmail.com<br>\n",
    "    <a href = 'https://www.linkedin.com/in/orçun-taşar-7b5992a1/'>Linkedin</a> | <a href = 'https://www.instagram.com/shatranuchor/'>Instagram</a>\n",
    "</p>"
   ]
  }
 ],
 "metadata": {
  "kernelspec": {
   "display_name": "thesis",
   "language": "python",
   "name": "thesis"
  },
  "language_info": {
   "codemirror_mode": {
    "name": "ipython",
    "version": 3
   },
   "file_extension": ".py",
   "mimetype": "text/x-python",
   "name": "python",
   "nbconvert_exporter": "python",
   "pygments_lexer": "ipython3",
   "version": "3.8.15"
  }
 },
 "nbformat": 4,
 "nbformat_minor": 5
}
