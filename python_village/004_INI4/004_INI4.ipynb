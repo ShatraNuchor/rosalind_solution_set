{
 "cells": [
  {
   "cell_type": "markdown",
   "id": "24d2f5ef",
   "metadata": {},
   "source": [
    "# 1. Source"
   ]
  },
  {
   "cell_type": "markdown",
   "id": "6d5895e1",
   "metadata": {},
   "source": [
    "Click on the link to go to the source web page of **Rosalind**: [Conditions and Loops](https://rosalind.info/problems/ini4/)"
   ]
  },
  {
   "cell_type": "markdown",
   "id": "37582a41",
   "metadata": {},
   "source": [
    " **Problem**\n",
    " \n",
    " ![Conditions and Loops](ini4_problem.png \"Conditions and Loops\")"
   ]
  },
  {
   "cell_type": "markdown",
   "id": "1491d6c1",
   "metadata": {},
   "source": [
    "**Sample Dataset**\n",
    "\n",
    "100 200"
   ]
  },
  {
   "cell_type": "markdown",
   "id": "fee90243",
   "metadata": {},
   "source": [
    "**Sample Output**\n",
    "\n",
    "7500"
   ]
  },
  {
   "cell_type": "markdown",
   "id": "829af9a2",
   "metadata": {},
   "source": [
    "# 2. Workspace"
   ]
  },
  {
   "cell_type": "code",
   "execution_count": 1,
   "id": "8025d7cf",
   "metadata": {},
   "outputs": [
    {
     "name": "stdout",
     "output_type": "stream",
     "text": [
      "100\n",
      "200\n"
     ]
    }
   ],
   "source": [
    "# read file and extract inputs\n",
    "\n",
    "with open('ini4_test.txt', 'r') as file:\n",
    "    numbers = file.readline().rstrip().split()\n",
    "    a = int(numbers[0])\n",
    "    b = int(numbers[1])\n",
    "    \n",
    "# print\n",
    "\n",
    "print(a)\n",
    "print(b)"
   ]
  },
  {
   "cell_type": "code",
   "execution_count": 2,
   "id": "1b625c3f",
   "metadata": {},
   "outputs": [
    {
     "name": "stdout",
     "output_type": "stream",
     "text": [
      "100 101 102 103 104 105 106 107 108 109 110 111 112 113 114 115 116 117 118 119 120 121 122 123 124 125 126 127 128 129 130 131 132 133 134 135 136 137 138 139 140 141 142 143 144 145 146 147 148 149 150 151 152 153 154 155 156 157 158 159 160 161 162 163 164 165 166 167 168 169 170 171 172 173 174 175 176 177 178 179 180 181 182 183 184 185 186 187 188 189 190 191 192 193 194 195 196 197 198 199 200\n"
     ]
    }
   ],
   "source": [
    "# range from a to b (inclusive)\n",
    "\n",
    "print(*list(range(a, b + 1)), sep = ' ')"
   ]
  },
  {
   "cell_type": "code",
   "execution_count": 3,
   "id": "3f581b5f",
   "metadata": {},
   "outputs": [
    {
     "name": "stdout",
     "output_type": "stream",
     "text": [
      "101 103 105 107 109 111 113 115 117 119 121 123 125 127 129 131 133 135 137 139 141 143 145 147 149 151 153 155 157 159 161 163 165 167 169 171 173 175 177 179 181 183 185 187 189 191 193 195 197 199\n"
     ]
    }
   ],
   "source": [
    "# loop over the range and find the odds\n",
    "\n",
    "odds = list()\n",
    "\n",
    "for number in range(a, b + 1):\n",
    "    if number % 2 == 1:\n",
    "        odds.append(number)\n",
    "        \n",
    "# see odds\n",
    "\n",
    "print(*odds, sep = ' ')"
   ]
  },
  {
   "cell_type": "code",
   "execution_count": 4,
   "id": "90cbc7cf",
   "metadata": {},
   "outputs": [
    {
     "name": "stdout",
     "output_type": "stream",
     "text": [
      "101 103 105 107 109 111 113 115 117 119 121 123 125 127 129 131 133 135 137 139 141 143 145 147 149 151 153 155 157 159 161 163 165 167 169 171 173 175 177 179 181 183 185 187 189 191 193 195 197 199\n"
     ]
    }
   ],
   "source": [
    "# or\n",
    "\n",
    "# check if a is odd - if not we can build the range with starting the next number\n",
    "# if it is, it can be start from a\n",
    "\n",
    "if a % 2 != 1:\n",
    "    a += 1\n",
    "\n",
    "odds = list(range(a, b + 1, 2))\n",
    "\n",
    "# see\n",
    "\n",
    "print(*odds, sep = ' ')"
   ]
  },
  {
   "cell_type": "code",
   "execution_count": 5,
   "id": "1d5ccd37",
   "metadata": {},
   "outputs": [
    {
     "data": {
      "text/plain": [
       "7500"
      ]
     },
     "execution_count": 5,
     "metadata": {},
     "output_type": "execute_result"
    }
   ],
   "source": [
    "# sum \n",
    "\n",
    "sum(odds)"
   ]
  },
  {
   "cell_type": "code",
   "execution_count": 6,
   "id": "423e386d",
   "metadata": {},
   "outputs": [
    {
     "name": "stdout",
     "output_type": "stream",
     "text": [
      "7500\n"
     ]
    }
   ],
   "source": [
    "# or \n",
    "\n",
    "if a % 2 != 1:\n",
    "    a += 1\n",
    "    \n",
    "sum_odds = 0\n",
    "\n",
    "for number in range(a, b + 1, 2):\n",
    "    sum_odds += number\n",
    "    \n",
    "print(sum_odds)"
   ]
  },
  {
   "cell_type": "markdown",
   "id": "60a0a106",
   "metadata": {},
   "source": [
    "### --A Simple Speed Test"
   ]
  },
  {
   "cell_type": "code",
   "execution_count": 7,
   "id": "68135060",
   "metadata": {},
   "outputs": [],
   "source": [
    "# option 1"
   ]
  },
  {
   "cell_type": "code",
   "execution_count": 8,
   "id": "80073a5e",
   "metadata": {},
   "outputs": [
    {
     "name": "stdout",
     "output_type": "stream",
     "text": [
      "63.8 ms ± 814 µs per loop (mean ± std. dev. of 7 runs, 100 loops each)\n"
     ]
    }
   ],
   "source": [
    "%%timeit -n 100\n",
    "\n",
    "test_a = 100\n",
    "test_b = 1000000\n",
    "\n",
    "odds = list()\n",
    "\n",
    "for number in range(test_a, test_b + 1):\n",
    "    if number % 2 == 1:\n",
    "        odds.append(number)\n",
    "        \n",
    "result = sum(odds)"
   ]
  },
  {
   "cell_type": "code",
   "execution_count": 9,
   "id": "97ec9f77",
   "metadata": {},
   "outputs": [],
   "source": [
    "# option 2"
   ]
  },
  {
   "cell_type": "code",
   "execution_count": 10,
   "id": "74605ba3",
   "metadata": {},
   "outputs": [
    {
     "name": "stdout",
     "output_type": "stream",
     "text": [
      "10.8 ms ± 57.6 µs per loop (mean ± std. dev. of 7 runs, 100 loops each)\n"
     ]
    }
   ],
   "source": [
    "%%timeit -n 100\n",
    "\n",
    "test_a = 100\n",
    "test_b = 1000000\n",
    "\n",
    "if test_a % 2 != 1:\n",
    "    test_a += 1\n",
    "\n",
    "odds = list(range(test_a, test_b + 1, 2))\n",
    "\n",
    "result = sum(odds)"
   ]
  },
  {
   "cell_type": "code",
   "execution_count": 11,
   "id": "4de06689",
   "metadata": {},
   "outputs": [],
   "source": [
    "# option 3"
   ]
  },
  {
   "cell_type": "code",
   "execution_count": 12,
   "id": "45cdaf16",
   "metadata": {},
   "outputs": [
    {
     "name": "stdout",
     "output_type": "stream",
     "text": [
      "20.7 ms ± 57 µs per loop (mean ± std. dev. of 7 runs, 100 loops each)\n"
     ]
    }
   ],
   "source": [
    "%%timeit -n 100\n",
    "\n",
    "test_a = 100\n",
    "test_b = 1000000\n",
    "\n",
    "if test_a % 2 != 1:\n",
    "    test_a += 1\n",
    "    \n",
    "sum_odds = 0\n",
    "\n",
    "for number in range(test_a, test_b + 1, 2):\n",
    "    sum_odds += number"
   ]
  },
  {
   "cell_type": "markdown",
   "id": "241684e2",
   "metadata": {},
   "source": [
    "# 3. Implementation"
   ]
  },
  {
   "cell_type": "code",
   "execution_count": 13,
   "id": "0f5f6e95",
   "metadata": {},
   "outputs": [],
   "source": [
    "def ini4(filename):\n",
    "    \n",
    "    '''\n",
    "    input\n",
    "        a file contains two numbers: a and b\n",
    "    process\n",
    "        finds sum of all odd numbers between a and b\n",
    "    output\n",
    "        prints answer to console and writes it in a file\n",
    "    '''\n",
    "    \n",
    "    # parse input file\n",
    "    with open(filename, 'r') as file:\n",
    "        numbers = file.readline().rstrip().split()\n",
    "        a = int(numbers[0])\n",
    "        b = int(numbers[1])\n",
    "        \n",
    "    # check if a is odd\n",
    "    if a % 2 != 1:\n",
    "        a += 1\n",
    "        \n",
    "    # order odds\n",
    "    odds = list(range(a, b + 1, 2))\n",
    "    \n",
    "    # result\n",
    "    result = sum(odds)\n",
    "    \n",
    "    # print answer to console\n",
    "    print('\\n\\x1B[1mANSWER\\x1B[0m\\n______\\n')\n",
    "    print(f'{result}')\n",
    "    \n",
    "    # open file and write answer\n",
    "    file = open(f'{filename.split(\".\")[0]}_answer.txt', 'w')\n",
    "    file.write(f'{result}')\n",
    "    file.close()\n",
    "    print('\\n\\n#! The answer has been written into the file:',\n",
    "          f'\\x1B[1m./{filename.split(\".\")[0]}_answer.txt\\x1B[0m\\n')"
   ]
  },
  {
   "cell_type": "markdown",
   "id": "dc5630c4",
   "metadata": {},
   "source": [
    "# 4. Execution"
   ]
  },
  {
   "cell_type": "code",
   "execution_count": 14,
   "id": "27b0eae7",
   "metadata": {},
   "outputs": [
    {
     "name": "stdout",
     "output_type": "stream",
     "text": [
      "\n",
      "\u001b[1mANSWER\u001b[0m\n",
      "______\n",
      "\n",
      "7500\n",
      "\n",
      "\n",
      "#! The answer has been written into the file: \u001b[1m./ini4_test_answer.txt\u001b[0m\n",
      "\n"
     ]
    }
   ],
   "source": [
    "ini4('ini4_test.txt')"
   ]
  },
  {
   "cell_type": "code",
   "execution_count": 15,
   "id": "b50b33e6",
   "metadata": {},
   "outputs": [
    {
     "name": "stdout",
     "output_type": "stream",
     "text": [
      "\n",
      "\u001b[1mANSWER\u001b[0m\n",
      "______\n",
      "\n",
      "15045888\n",
      "\n",
      "\n",
      "#! The answer has been written into the file: \u001b[1m./rosalind_ini4_1_dataset_answer.txt\u001b[0m\n",
      "\n"
     ]
    }
   ],
   "source": [
    "ini4('rosalind_ini4_1_dataset.txt')"
   ]
  },
  {
   "cell_type": "markdown",
   "id": "8db6a051",
   "metadata": {},
   "source": [
    "<p style='text-align: right;'>\n",
    "    <!--<b><font size = '5'>Contact</font></b><br>-->\n",
    "    <b>Orcun Tasar</b><br>\n",
    "    <i>Bioinformatician / Data Scientist</i><br>\n",
    "    orcuntasar |at@| ogr.iu.edu.tr<br>\n",
    "    tasar.orcun |at@| gmail.com<br>\n",
    "    <a href = 'https://www.linkedin.com/in/orçun-taşar-7b5992a1/'>Linkedin</a> | <a href = 'https://www.instagram.com/shatranuchor/'>Instagram</a>\n",
    "</p>"
   ]
  }
 ],
 "metadata": {
  "kernelspec": {
   "display_name": "thesis",
   "language": "python",
   "name": "thesis"
  },
  "language_info": {
   "codemirror_mode": {
    "name": "ipython",
    "version": 3
   },
   "file_extension": ".py",
   "mimetype": "text/x-python",
   "name": "python",
   "nbconvert_exporter": "python",
   "pygments_lexer": "ipython3",
   "version": "3.8.15"
  }
 },
 "nbformat": 4,
 "nbformat_minor": 5
}
