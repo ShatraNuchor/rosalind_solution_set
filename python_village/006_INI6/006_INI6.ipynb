{
 "cells": [
  {
   "cell_type": "markdown",
   "id": "24d2f5ef",
   "metadata": {},
   "source": [
    "# 1. Source"
   ]
  },
  {
   "cell_type": "markdown",
   "id": "6d5895e1",
   "metadata": {},
   "source": [
    "Click on the link to go to the source web page of **Rosalind**: [Dictionaries](https://rosalind.info/problems/ini6/)"
   ]
  },
  {
   "cell_type": "markdown",
   "id": "37582a41",
   "metadata": {},
   "source": [
    " **Problem**\n",
    " \n",
    " ![Dictionaries](ini6_problem.png 'Dictionaries')"
   ]
  },
  {
   "cell_type": "markdown",
   "id": "1491d6c1",
   "metadata": {},
   "source": [
    "**Sample Dataset**\n",
    "\n",
    "We tried list and we tried dicts also we tried Zen"
   ]
  },
  {
   "cell_type": "markdown",
   "id": "fee90243",
   "metadata": {},
   "source": [
    "**Sample Output**\n",
    "\n",
    "and 1<br>\n",
    "We 1<br>\n",
    "tried 3<br>\n",
    "dicts 1<br>\n",
    "list 1<br>\n",
    "we 2<br>\n",
    "also 1<br>\n",
    "Zen 1"
   ]
  },
  {
   "cell_type": "markdown",
   "id": "829af9a2",
   "metadata": {},
   "source": [
    "# 2. Workspace"
   ]
  },
  {
   "cell_type": "code",
   "execution_count": 3,
   "id": "8025d7cf",
   "metadata": {},
   "outputs": [
    {
     "data": {
      "text/plain": [
       "'We tried list and we tried dicts also we tried Zen'"
      ]
     },
     "metadata": {},
     "output_type": "display_data"
    }
   ],
   "source": [
    "# read file and extract inputs\n",
    "\n",
    "with open('ini6_test.txt', 'r') as file:\n",
    "    input_string = file.read().rstrip()\n",
    "    \n",
    "# display\n",
    "\n",
    "display(input_string)"
   ]
  },
  {
   "cell_type": "code",
   "execution_count": 4,
   "id": "b476efb3",
   "metadata": {},
   "outputs": [
    {
     "data": {
      "text/plain": [
       "['We',\n",
       " 'tried',\n",
       " 'list',\n",
       " 'and',\n",
       " 'we',\n",
       " 'tried',\n",
       " 'dicts',\n",
       " 'also',\n",
       " 'we',\n",
       " 'tried',\n",
       " 'Zen']"
      ]
     },
     "execution_count": 4,
     "metadata": {},
     "output_type": "execute_result"
    }
   ],
   "source": [
    "# split the string\n",
    "\n",
    "input_tokens = input_string.split()\n",
    "\n",
    "# print\n",
    "\n",
    "input_tokens"
   ]
  },
  {
   "cell_type": "code",
   "execution_count": 5,
   "id": "2ce0965c",
   "metadata": {},
   "outputs": [
    {
     "data": {
      "text/plain": [
       "{'We': 1,\n",
       " 'tried': 3,\n",
       " 'list': 1,\n",
       " 'and': 1,\n",
       " 'we': 2,\n",
       " 'dicts': 1,\n",
       " 'also': 1,\n",
       " 'Zen': 1}"
      ]
     },
     "execution_count": 5,
     "metadata": {},
     "output_type": "execute_result"
    }
   ],
   "source": [
    "# create a frequency dictionary and loop over tokens\n",
    "\n",
    "freqs = dict()\n",
    "\n",
    "for word in input_tokens:\n",
    "    if word in freqs.keys():\n",
    "        freqs[word] += 1\n",
    "    else:\n",
    "        freqs[word] = 1\n",
    "        \n",
    "# print\n",
    "\n",
    "freqs"
   ]
  },
  {
   "cell_type": "code",
   "execution_count": 6,
   "id": "c10dbef3",
   "metadata": {},
   "outputs": [
    {
     "data": {
      "text/plain": [
       "Counter({'We': 1,\n",
       "         'tried': 3,\n",
       "         'list': 1,\n",
       "         'and': 1,\n",
       "         'we': 2,\n",
       "         'dicts': 1,\n",
       "         'also': 1,\n",
       "         'Zen': 1})"
      ]
     },
     "execution_count": 6,
     "metadata": {},
     "output_type": "execute_result"
    }
   ],
   "source": [
    "# or we can use Counter from collections module\n",
    "\n",
    "from collections import Counter\n",
    "Counter(input_tokens)"
   ]
  },
  {
   "cell_type": "code",
   "execution_count": 8,
   "id": "8f129c51",
   "metadata": {},
   "outputs": [
    {
     "name": "stdout",
     "output_type": "stream",
     "text": [
      "We 1\n",
      "tried 3\n",
      "list 1\n",
      "and 1\n",
      "we 2\n",
      "dicts 1\n",
      "also 1\n",
      "Zen 1\n"
     ]
    }
   ],
   "source": [
    "# how to print\n",
    "\n",
    "for word, freq in freqs.items():\n",
    "    print(word, freq)"
   ]
  },
  {
   "cell_type": "code",
   "execution_count": 9,
   "id": "40834e0d",
   "metadata": {},
   "outputs": [
    {
     "name": "stdout",
     "output_type": "stream",
     "text": [
      "We 1\n",
      "tried 3\n",
      "list 1\n",
      "and 1\n",
      "we 2\n",
      "dicts 1\n",
      "also 1\n",
      "Zen 1\n"
     ]
    }
   ],
   "source": [
    "# or\n",
    "\n",
    "for word, freq in Counter(input_tokens).items():\n",
    "    print(word, freq)"
   ]
  },
  {
   "cell_type": "markdown",
   "id": "241684e2",
   "metadata": {},
   "source": [
    "# 3. Implementation"
   ]
  },
  {
   "cell_type": "code",
   "execution_count": 10,
   "id": "0f5f6e95",
   "metadata": {},
   "outputs": [],
   "source": [
    "def ini6(filename):\n",
    "    \n",
    "    '''\n",
    "    input\n",
    "        a file contains a line of string\n",
    "    output\n",
    "        frequency of each word in string\n",
    "        prints answer to console and writes it in a file\n",
    "    '''\n",
    "    \n",
    "    from collections import Counter\n",
    "    \n",
    "    # parse input file\n",
    "    with open(filename, 'r') as file:\n",
    "        input_tokens = file.read().rstrip().split()\n",
    "        \n",
    "    # create counter object\n",
    "    freqs = Counter(input_tokens)\n",
    "        \n",
    "    # loop over lines - print and saves to file\n",
    "    print('\\n\\x1B[1mANSWER\\x1B[0m\\n______\\n')\n",
    "    file = open(f'{filename.split(\".\")[0]}_answer.txt', 'w')\n",
    "    \n",
    "    for word, freq in freqs.items():\n",
    "        print(word, freq)\n",
    "        file.write(f'{word} {freq}\\n')\n",
    "    \n",
    "    # close file\n",
    "    file.close()\n",
    "    print('\\n\\n#! The answer has been written into the file:',\n",
    "          f'\\x1B[1m./{filename.split(\".\")[0]}_answer.txt\\x1B[0m\\n')"
   ]
  },
  {
   "cell_type": "markdown",
   "id": "dc5630c4",
   "metadata": {},
   "source": [
    "# 4. Execution"
   ]
  },
  {
   "cell_type": "code",
   "execution_count": 11,
   "id": "27b0eae7",
   "metadata": {},
   "outputs": [
    {
     "name": "stdout",
     "output_type": "stream",
     "text": [
      "\n",
      "\u001b[1mANSWER\u001b[0m\n",
      "______\n",
      "\n",
      "We 1\n",
      "tried 3\n",
      "list 1\n",
      "and 1\n",
      "we 2\n",
      "dicts 1\n",
      "also 1\n",
      "Zen 1\n",
      "\n",
      "\n",
      "#! The answer has been written into the file: \u001b[1m./ini6_test_answer.txt\u001b[0m\n",
      "\n"
     ]
    }
   ],
   "source": [
    "ini6('ini6_test.txt')"
   ]
  },
  {
   "cell_type": "code",
   "execution_count": 12,
   "id": "b50b33e6",
   "metadata": {},
   "outputs": [
    {
     "name": "stdout",
     "output_type": "stream",
     "text": [
      "\n",
      "\u001b[1mANSWER\u001b[0m\n",
      "______\n",
      "\n",
      "When 1\n",
      "I 2\n",
      "find 1\n",
      "myself 1\n",
      "in 4\n",
      "times 1\n",
      "of 11\n",
      "trouble 1\n",
      "Mother 2\n",
      "Mary 2\n",
      "comes 2\n",
      "to 3\n",
      "me 4\n",
      "Speaking 3\n",
      "words 7\n",
      "wisdom 7\n",
      "let 30\n",
      "it 36\n",
      "be 41\n",
      "And 3\n",
      "my 1\n",
      "hour 1\n",
      "darkness 1\n",
      "she 1\n",
      "is 4\n",
      "standing 1\n",
      "right 1\n",
      "front 1\n",
      "Let 6\n",
      "Whisper 4\n",
      "when 2\n",
      "the 4\n",
      "broken 1\n",
      "hearted 1\n",
      "people 1\n",
      "living 1\n",
      "world 1\n",
      "agree 1\n",
      "There 4\n",
      "will 5\n",
      "an 4\n",
      "answer 4\n",
      "For 1\n",
      "though 1\n",
      "they 2\n",
      "may 1\n",
      "parted 1\n",
      "there 2\n",
      "still 2\n",
      "a 2\n",
      "chance 1\n",
      "that 2\n",
      "see 1\n",
      "night 1\n",
      "cloudy 1\n",
      "light 1\n",
      "shines 1\n",
      "on 1\n",
      "Shine 1\n",
      "until 1\n",
      "tomorrow 1\n",
      "wake 1\n",
      "up 1\n",
      "sound 1\n",
      "music 1\n",
      "yeah 2\n",
      "\n",
      "\n",
      "#! The answer has been written into the file: \u001b[1m./rosalind_ini6_1_dataset_answer.txt\u001b[0m\n",
      "\n"
     ]
    }
   ],
   "source": [
    "ini6('rosalind_ini6_1_dataset.txt')"
   ]
  },
  {
   "cell_type": "markdown",
   "id": "8db6a051",
   "metadata": {},
   "source": [
    "<p style='text-align: right;'>\n",
    "    <!--<b><font size = '5'>Contact</font></b><br>-->\n",
    "    <b>Orcun Tasar</b><br>\n",
    "    <i>Bioinformatician / Data Scientist</i><br>\n",
    "    orcuntasar |at@| ogr.iu.edu.tr<br>\n",
    "    tasar.orcun |at@| gmail.com<br>\n",
    "    <a href = 'https://www.linkedin.com/in/orçun-taşar-7b5992a1/'>Linkedin</a> | <a href = 'https://www.instagram.com/shatranuchor/'>Instagram</a>\n",
    "</p>"
   ]
  }
 ],
 "metadata": {
  "kernelspec": {
   "display_name": "thesis",
   "language": "python",
   "name": "thesis"
  },
  "language_info": {
   "codemirror_mode": {
    "name": "ipython",
    "version": 3
   },
   "file_extension": ".py",
   "mimetype": "text/x-python",
   "name": "python",
   "nbconvert_exporter": "python",
   "pygments_lexer": "ipython3",
   "version": "3.8.15"
  }
 },
 "nbformat": 4,
 "nbformat_minor": 5
}
